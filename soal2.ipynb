{
 "cells": [
  {
   "cell_type": "markdown",
   "metadata": {},
   "source": [
    "No. 2\n",
    "Membuat Visualisasi plot distribusi, dalam bentuk histogram dan boxplot untuk setiap kolom numerik. Berikan uraian penjelasan kondisi setiap kolom berdasarkan kedua plot tersebut."
   ]
  },
  {
   "cell_type": "code",
   "execution_count": null,
   "metadata": {},
   "outputs": [],
   "source": [
    "import pandas as pd\n",
    "import matplotlib.pyplot as plt\n",
    "import scipy.stats as s\n",
    "import math\n",
    "\n",
    "#membuat procedure untuk menghasilkan histogram dan boxplot tiap kolom\n",
    "def boxnHist(column_name):\n",
    "    alpha = 0.05\n",
    "    # membuka file csv\n",
    "    path = '.\\water_potability.csv'\n",
    "    # menamakan kolom\n",
    "    df = pd.read_csv(path, names=[\"id\", \"pH\", \"Hardness\", \"Solids\", \"Chloromines\", \"Sulfate\", \"Conductivity\", \"OrganicCarbon\", \"Trihalometanes\", \"Turbidity\", \"Portability\"])\n",
    "    df1=df[column_name]\n",
    "    #Membuat Histogram\n",
    "    print(\"Histogram :\")\n",
    "    df1.plot(kind='hist',edgecolor='black', color='#fff6ce', title=\"Histogram \"+ column_name, grid=True)\n",
    "    plt.show()\n",
    "    #Membuat Boxplot\n",
    "    print(\"Boxplot :\")\n",
    "    df.boxplot(column=column_name)\n",
    "    plt.show()\n",
    "    stat, p = s.shapiro(df1) #shapiro wilks\n",
    "    print(\"p = {:g}\".format(p))\n",
    "    if p <= alpha: #jika p value dibawah atau sama dengan alpha, maka tidak berdistribusi normal\n",
    "        print(\"Tidak berdistribusi normal\")\n",
    "    else:\n",
    "        print(\"Berdistribusi normal\")\n"
   ]
  },
  {
   "cell_type": "code",
   "execution_count": null,
   "metadata": {},
   "outputs": [],
   "source": [
    "#Histogram dan Boxplot untuk kolom 'id'\n",
    "boxnHist(\"id\")\n",
    "print(\"Berdasarkan histogram dan boxplot yang dihasilkan, kolom 'id' termasuk distribusi uniform\")"
   ]
  },
  {
   "cell_type": "code",
   "execution_count": null,
   "metadata": {},
   "outputs": [],
   "source": [
    "#Histogram dan Boxplot untuk kolom 'pH'\n",
    "boxnHist(\"pH\")\n",
    "print(\"Berdasarkan histogram dan boxplot yang dihasilkan, kolom 'pH' memiliki distribusi tidak normal (berbentuk negative skewed) dan memiliki banyak pencilan (outliers) atas dan bawah\")"
   ]
  },
  {
   "cell_type": "code",
   "execution_count": null,
   "metadata": {},
   "outputs": [],
   "source": [
    "#Histogram dan Boxplot untuk kolom 'Hardness'\n",
    "boxnHist(\"Hardness\")\n",
    "print(\"Berdasarkan histogram dan boxplot yang dihasilkan, kolom 'Hardness' memiliki distribusi tidak normal (berbentuk positive skewed) dan memiliki banyak pencilan (outliers) atas dan bawah\")"
   ]
  },
  {
   "cell_type": "code",
   "execution_count": null,
   "metadata": {},
   "outputs": [],
   "source": [
    "#Histogram dan Boxplot untuk kolom 'Solids'\n",
    "boxnHist(\"Solids\")\n",
    "print(\"Berdasarkan histogram dan boxplot yang dihasilkan, kolom 'Solids' memiliki distribusi tidak normal (berbentuk positive skewed) dan hanya memiliki pencilan (outliers) atas\")"
   ]
  },
  {
   "cell_type": "code",
   "execution_count": null,
   "metadata": {},
   "outputs": [],
   "source": [
    "#Histogram dan Boxplot untuk kolom 'Chloromines'\n",
    "boxnHist(\"Chloromines\")\n",
    "print(\"Berdasarkan histogram dan boxplot yang dihasilkan, kolom 'Chloromines' memiliki distribusi tidak normal (berbentuk positive skewed) dan memiliki banyak pencilan (outliers) atas dan bawah\")"
   ]
  },
  {
   "cell_type": "code",
   "execution_count": null,
   "metadata": {},
   "outputs": [],
   "source": [
    "#Histogram dan Boxplot untuk kolom 'Sulfate'\n",
    "boxnHist(\"Sulfate\")\n",
    "print(\"Berdasarkan histogram dan boxplot yang dihasilkan, kolom 'Sulfate' memiliki distribusi tidak normal (berbentuk negative skewed) dan memiliki banyak pencilan (outliers) atas dan bawah\")"
   ]
  },
  {
   "cell_type": "code",
   "execution_count": null,
   "metadata": {},
   "outputs": [],
   "source": [
    "#Histogram dan Boxplot untuk kolom 'Conductivity'\n",
    "boxnHist(\"Conductivity\")\n",
    "print(\"Berdasarkan histogram dan boxplot yang dihasilkan, kolom 'Conductivity' memiliki distribusi tidak normal (berbentuk positive skewed) dan memiliki beberapa pencilan (outliers) atas\")"
   ]
  },
  {
   "cell_type": "code",
   "execution_count": null,
   "metadata": {},
   "outputs": [],
   "source": [
    "#Histogram dan Boxplot untuk kolom 'OrganicCarbon'\n",
    "boxnHist(\"OrganicCarbon\")\n",
    "print(\"Berdasarkan histogram dan boxplot yang dihasilkan, kolom 'OrganicCarbon' memiliki distribusi normal (relatif simetris) dan memiliki banyak pencilan (outliers) atas dan bawah\")"
   ]
  },
  {
   "cell_type": "code",
   "execution_count": null,
   "metadata": {},
   "outputs": [],
   "source": [
    "#Histogram dan Boxplot untuk kolom 'Trihalometanes'\n",
    "boxnHist(\"Trihalometanes\")\n",
    "print(\"Berdasarkan histogram dan boxplot yang dihasilkan, kolom 'Trihalometanes' memiliki distribusi normal (relatif simetris) dan memiliki banyak pencilan (outliers) atas dan bawah\")"
   ]
  },
  {
   "cell_type": "code",
   "execution_count": null,
   "metadata": {},
   "outputs": [],
   "source": [
    "#Histogram dan Boxplot untuk kolom 'Turbidity'\n",
    "boxnHist(\"Turbidity\")\n",
    "print(\"Berdasarkan histogram dan boxplot yang dihasilkan, kolom 'Turbidity' memiliki distribusi normal (relatif simetris) dan memiliki banyak pencilan (outliers) atas dan bawah\")"
   ]
  },
  {
   "cell_type": "code",
   "execution_count": null,
   "metadata": {},
   "outputs": [],
   "source": [
    "#Histogram dan Boxplot untuk kolom 'Portability'\n",
    "boxnHist(\"Portability\")\n",
    "print(\"Berdasarkan histogram dan boxplot yang dihasilkan, kolom 'Portability' memiliki distribusi tidak normal (hanya memiliki nilai 0 atau 1 saja) dan tidak memiliki pencilan (outliers)\")"
   ]
  }
 ],
 "metadata": {
  "interpreter": {
   "hash": "0989d4cb382ec003e6ad9ee0079fe5a34620af18f47069c43c62ee5030c1ec77"
  },
  "kernelspec": {
   "display_name": "Python 3.9.7 ('myenv')",
   "language": "python",
   "name": "python3"
  },
  "language_info": {
   "codemirror_mode": {
    "name": "ipython",
    "version": 3
   },
   "file_extension": ".py",
   "mimetype": "text/x-python",
   "name": "python",
   "nbconvert_exporter": "python",
   "pygments_lexer": "ipython3",
   "version": "3.10.0"
  },
  "orig_nbformat": 4
 },
 "nbformat": 4,
 "nbformat_minor": 2
}
