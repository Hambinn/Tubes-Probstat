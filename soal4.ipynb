{
 "cells": [
  {
   "cell_type": "markdown",
   "metadata": {},
   "source": [
    "Soal No. 4\n",
    "Melakukan test hipotesis 1 sampel, dengan menuliskan 6 langkah testing dan menampilkan juga boxplotnya untuk kolom/bagian yang bersesuaian.\n",
    "a. Nilai Rata-rata pH di atas 7?\n",
    "b. Nilai Rata-rata Hardness tidak sama dengan 205?\n",
    "c. Nilai Rata-rata 100 baris pertama kolom Solids bukan 21900?\n",
    "d. Proporsi nilai Conductivity yang lebih dari 450, adalah tidak sama dengan 10%?\n",
    "e. Proporsi nilai Trihalomethanes yang kurang dari 40, adalah kurang dari 5%?"
   ]
  },
  {
   "cell_type": "code",
   "execution_count": 1,
   "metadata": {},
   "outputs": [],
   "source": [
    "import os\n",
    "import pandas as pd\n",
    "import matplotlib.pyplot as plt\n",
    "import scipy.stats as s\n",
    "import math\n",
    "\n",
    "def z_score(x, mean, std, n):\n",
    "    return (x-mean)*math.sqrt(n)/std\n",
    "def p_to_z(p):\n",
    "    return s.norm.ppf(p)\n",
    "def z_to_p(z):\n",
    "    return s.norm.cdf(z)\n",
    "\n",
    "# membuka file csv\n",
    "path = '.\\water_potability.csv'\n",
    "# menamakan kolom\n",
    "df = pd.read_csv(path, names=[\"id\", \"pH\", \"Hardness\", \"Solids\", \"Chloromines\", \"Sulfate\", \"Conductivity\", \"OrganicCarbon\", \"Trihalometanes\", \"Turbidity\", \"Portability\"])"
   ]
  },
  {
   "cell_type": "code",
   "execution_count": 28,
   "metadata": {},
   "outputs": [
    {
     "name": "stdout",
     "output_type": "stream",
     "text": [
      "a. Nilai Rata-rata pH di atas 7\n",
      "Sampel yang diambil adalah seluruh populasinya.\n",
      "Langkah Uji Hipotesis:\n",
      "1. Menentukan Hipotesis Nol, H0 : mean = 7\n",
      "2. Menentukan Hipotesis Alternatif, H1 : mean > 7\n",
      "3. Tingkat signifikansi alpha, dengan alpha = 0.05\n",
      "4. Menentukan uji statistik yang sesuai dan Menentukan daerah kritis\n",
      "Daerah kritis hipotesis alternatif ada di sebelah kanan nilai kritis, daerah kritis : z > 1.645\n",
      "5. Hitung nilai uji statistik dari data sample. Hitung p-value sesuai dengan uji statistik yang digunakan.\n",
      "Nilai uji statistik (z) : 2.485445147379887\n",
      "P-value : 0.006469476288896492\n",
      "6. Keputusan: \n",
      "Berdasarkan uji hipotesis menggunakan nilai z, karena z > z_alpha (berada di daerah kritis), maka hipotesis nol (H0) DITOLAK\n",
      "Sehingga didapat kesimpulan bahwa Nilai rata-rata pH di atas 7\n"
     ]
    },
    {
     "data": {
      "image/png": "[encoded data removed]",
      "text/plain": [
       "<Figure size 432x288 with 1 Axes>"
      ]
     },
     "metadata": {
      "needs_background": "light"
     },
     "output_type": "display_data"
    }
   ],
   "source": [
    "print(\"a. Nilai Rata-rata pH di atas 7\")\n",
    "print(\"Sampel yang diambil adalah seluruh populasinya.\")\n",
    "print(\"Langkah Uji Hipotesis:\")\n",
    "print(\"1. Menentukan Hipotesis Nol, H0 : mean = 7\")\n",
    "print(\"2. Menentukan Hipotesis Alternatif, H1 : mean > 7\")\n",
    "print(\"3. Tingkat signifikansi alpha, dengan alpha = 0.05\")\n",
    "alpha = 0.05\n",
    "print(\"4. Menentukan uji statistik yang sesuai dan Menentukan daerah kritis\")\n",
    "#one tails\n",
    "print(\"Daerah kritis hipotesis alternatif ada di sebelah kanan nilai kritis, daerah kritis : z > 1.645\")\n",
    "print(\"5. Hitung nilai uji statistik dari data sample. Hitung p-value sesuai dengan uji statistik yang digunakan.\")\n",
    "mean = 7\n",
    "rataan = df['pH'].mean()\n",
    "std = df['pH'].std()\n",
    "n = df['pH'].count() #ambil sample sepopulasi\n",
    "z = z_score(rataan, mean, std, n)\n",
    "p = 1 - z_to_p(z)\n",
    "z_alpha = p_to_z(1-alpha)\n",
    "print(\"Nilai uji statistik (z) : \" +str(z))\n",
    "print(\"P-value : \" + str(p))\n",
    "# 6. Ambil keputusan tolak atau terima, berdasarkan uji statistik\n",
    "print(\"6. Keputusan: \")\n",
    "print(\"Berdasarkan uji hipotesis menggunakan nilai z,\", end=' ')\n",
    "if (z > z_alpha):\n",
    "  print(\"karena z > z_alpha (berada di daerah kritis), maka hipotesis nol (H0) DITOLAK\")\n",
    "  print(\"Sehingga didapat kesimpulan bahwa Nilai rata-rata pH di atas 7\")\n",
    "else:\n",
    "  print(\"karena z <= z_alpha (tidak berada di daerah kritis), maka hipotesis nol (H0) TIDAK DITOLAK\")\n",
    "  print(\"Sehingga didapat kesimpulan bahwa Nilai rata-rata pH tidak dapat dikatakan di atas 7\")\n",
    "\n",
    "df.boxplot(column=\"pH\")\n",
    "plt.show()"
   ]
  },
  {
   "cell_type": "code",
   "execution_count": 29,
   "metadata": {},
   "outputs": [
    {
     "name": "stdout",
     "output_type": "stream",
     "text": [
      "b. Nilai Rata-rata Hardness tidak sama dengan 205\n",
      "Sampel yang diambil adalah seluruh populasinya.\n",
      "Langkah Uji Hipotesis:\n",
      "1. Menentukan Hipotesis Nol, H0 : mean = 205\n",
      "2. Menentukan Hipotesis Alternatif, H1 : mean != 205\n",
      "3. Tingkat signifikansi alpha, dengan alpha = 0.05\n",
      "4. Menentukan uji statistik yang sesuai dan Menentukan daerah kritis\n",
      "Daerah kritis hipotesis alternatif ada di sebelah kanan nilai kritis dan kiri -nilai kritis, daerah kritis : z < -1.96 atau z > 1.96\n",
      "5. Hitung nilai uji statistik dari data sample. Hitung p-value sesuai dengan uji statistik yang digunakan.\n",
      "Nilai uji statistik (z) : -12.403137170010732\n",
      "P-value : 0.0\n",
      "6. Keputusan: \n",
      "Berdasarkan uji hipotesis menggunakan nilai z, karena z < -z_alpha atau z > z_alpha (berada di daerah kritis), maka hipotesis nol (H0) DITOLAK\n",
      "Sehingga didapat kesimpulan bahwa Nilai rata-rata Hardness tidak sama dengan 205\n"
     ]
    },
    {
     "data": {
      "image/png": "[encoded data removed]",
      "text/plain": [
       "<Figure size 432x288 with 1 Axes>"
      ]
     },
     "metadata": {
      "needs_background": "light"
     },
     "output_type": "display_data"
    }
   ],
   "source": [
    "print(\"b. Nilai Rata-rata Hardness tidak sama dengan 205\")\n",
    "print(\"Sampel yang diambil adalah seluruh populasinya.\")\n",
    "print(\"Langkah Uji Hipotesis:\")\n",
    "print(\"1. Menentukan Hipotesis Nol, H0 : mean = 205\")\n",
    "print(\"2. Menentukan Hipotesis Alternatif, H1 : mean != 205\")\n",
    "print(\"3. Tingkat signifikansi alpha, dengan alpha = 0.05\")\n",
    "alpha = 0.05\n",
    "print(\"4. Menentukan uji statistik yang sesuai dan Menentukan daerah kritis\")\n",
    "#two tails\n",
    "print(\"Daerah kritis hipotesis alternatif ada di sebelah kanan nilai kritis dan kiri -nilai kritis, daerah kritis : z < -1.96 atau z > 1.96\")\n",
    "print(\"5. Hitung nilai uji statistik dari data sample. Hitung p-value sesuai dengan uji statistik yang digunakan.\")\n",
    "mean = 205\n",
    "rataan = df['Hardness'].mean()\n",
    "std = df['Hardness'].std()\n",
    "n = df['Hardness'].count() #ambil sample sepopulasi\n",
    "z = z_score(rataan, mean, std, n)\n",
    "z_alpha = p_to_z(1-alpha/2)\n",
    "p = 2*(1-z_to_p(abs(z)))  #dikali dua karena two tails\n",
    "print(\"Nilai uji statistik (z) : \" +str(z))\n",
    "print(\"P-value : \" + str(p))\n",
    "# 6. Ambil keputusan tolak atau terima, berdasarkan uji statistik\n",
    "print(\"6. Keputusan: \")\n",
    "print(\"Berdasarkan uji hipotesis menggunakan nilai z,\", end=' ')\n",
    "if (z < -z_alpha or z > z_alpha) :\n",
    "  print(\"karena z < -z_alpha atau z > z_alpha (berada di daerah kritis), maka hipotesis nol (H0) DITOLAK\")\n",
    "  print(\"Sehingga didapat kesimpulan bahwa Nilai rata-rata Hardness tidak sama dengan 205\")\n",
    "else:\n",
    "  print(\"karena -z_alpha <= z <= alpha, maka hipotesis nol (H0) TIDAK DITOLAK\")\n",
    "  print(\"Sehingga didapat kesimpulan bahwa Nilai rata-rata Hardness sama dengan 205\")\n",
    "\n",
    "df.boxplot(column=\"Hardness\")\n",
    "plt.show()"
   ]
  },
  {
   "cell_type": "code",
   "execution_count": 30,
   "metadata": {},
   "outputs": [
    {
     "name": "stdout",
     "output_type": "stream",
     "text": [
      "c. Nilai Rata-rata 100 baris pertama kolom Solids bukan 21900\n",
      "Sampel yang diambil adalah 100 baris pertama.\n",
      "Langkah Uji Hipotesis:\n",
      "1. Menentukan Hipotesis Nol, H0 : mean = 21900\n",
      "2. Menentukan Hipotesis Alternatif, H1 : mean != 21900\n",
      "3. Tingkat signifikansi alpha, dengan alpha = 0.05\n",
      "4. Menentukan uji statistik yang sesuai dan Menentukan daerah kritis\n",
      "Daerah kritis hipotesis alternatif ada di sebelah kanan nilai kritis dan kiri -nilai kritis, daerah kritis : z < -1.96 atau z > 1.96\n",
      "5. Hitung nilai uji statistik dari data sample. Hitung p-value sesuai dengan uji statistik yang digunakan.\n",
      "Nilai uji statistik (z) : 0.5636797715721551\n",
      "P-value : 0.5729720864655174\n",
      "6. Keputusan: \n",
      "Berdasarkan uji hipotesis menggunakan nilai z, karena -z_alpha <= z <= alpha, maka hipotesis nol (H0) TIDAK DITOLAK\n",
      "Sehingga didapat kesimpulan bahwa Nilai rata-rata 100 baris pertama kolom Solids sama dengan 21900\n"
     ]
    },
    {
     "data": {
      "image/png": "[encoded data removed]",
      "text/plain": [
       "<Figure size 432x288 with 1 Axes>"
      ]
     },
     "metadata": {
      "needs_background": "light"
     },
     "output_type": "display_data"
    }
   ],
   "source": [
    "print(\"c. Nilai Rata-rata 100 baris pertama kolom Solids bukan 21900\")\n",
    "print(\"Sampel yang diambil adalah 100 baris pertama.\")\n",
    "print(\"Langkah Uji Hipotesis:\")\n",
    "df1 = df[:100]\n",
    "print(\"1. Menentukan Hipotesis Nol, H0 : mean = 21900\")\n",
    "print(\"2. Menentukan Hipotesis Alternatif, H1 : mean != 21900\")\n",
    "print(\"3. Tingkat signifikansi alpha, dengan alpha = 0.05\")\n",
    "alpha = 0.05\n",
    "print(\"4. Menentukan uji statistik yang sesuai dan Menentukan daerah kritis\")\n",
    "#two tails\n",
    "print(\"Daerah kritis hipotesis alternatif ada di sebelah kanan nilai kritis dan kiri -nilai kritis, daerah kritis : z < -1.96 atau z > 1.96\")\n",
    "print(\"5. Hitung nilai uji statistik dari data sample. Hitung p-value sesuai dengan uji statistik yang digunakan.\")\n",
    "mean = 21900\n",
    "rataan = df1[\"Solids\"].mean()\n",
    "std = df1[\"Solids\"].std()\n",
    "n = df1[\"Solids\"].count()\n",
    "z = z_score(rataan, mean, std, n)\n",
    "z_alpha = p_to_z(1-alpha/2)\n",
    "p = 2*(1-z_to_p(abs(z)))  #dikali dua karena two tails\n",
    "print(\"Nilai uji statistik (z) : \" +str(z))\n",
    "print(\"P-value : \" + str(p))\n",
    "# 6. Ambil keputusan tolak atau terima, berdasarkan uji statistik\n",
    "print(\"6. Keputusan: \")\n",
    "print(\"Berdasarkan uji hipotesis menggunakan nilai z,\", end=' ')\n",
    "if (z < -z_alpha or z > z_alpha) :\n",
    "  print(\"karena z < -z_alpha atau z > z_alpha (berada di daerah kritis), maka hipotesis nol (H0) DITOLAK\")\n",
    "  print(\"Sehingga didapat kesimpulan bahwa Nilai rata-rata 100 baris pertama kolom Solids tidak sama dengan 21900\")\n",
    "else:\n",
    "  print(\"karena -z_alpha <= z <= alpha, maka hipotesis nol (H0) TIDAK DITOLAK\")\n",
    "  print(\"Sehingga didapat kesimpulan bahwa Nilai rata-rata 100 baris pertama kolom Solids sama dengan 21900\")\n",
    "\n",
    "df1.boxplot(column=\"Solids\")\n",
    "plt.show()"
   ]
  },
  {
   "cell_type": "code",
   "execution_count": 31,
   "metadata": {},
   "outputs": [
    {
     "name": "stdout",
     "output_type": "stream",
     "text": [
      "d. Proporsi nilai Conductivity yang lebih dari 450, adalah tidak sama dengan 10%\n",
      "Sampel yang diambil adalah Conductivity dengan nilai lebih dari 450.\n",
      "Langkah Uji Hipotesis:\n",
      "1. Menentukan Hipotesis Nol, H0 : proportion (p) = 0.1\n",
      "2. Menentukan Hipotesis Alternatif, H1 : proportion (p) != 0.1\n",
      "3. Tingkat signifikansi alpha, dengan alpha = 0.05\n",
      "4. Menentukan uji statistik yang sesuai dan Menentukan daerah kritis\n",
      "Daerah kritis hipotesis alternatif ada di sebelah kanan nilai kritis dan kiri -nilai kritis, daerah kritis : z < -1.96 atau z > 1.96\n",
      "5. Hitung nilai uji statistik dari data sample. Hitung p-value sesuai dengan uji statistik yang digunakan.\n",
      "Nilai z : 40.44637613158931\n",
      "p-value : 0.0\n",
      "6. Keputusan: \n",
      "Berdasarkan uji hipotesis menggunakan nilai z, karena z < -z_alpha atau z > z_alpha (berada di daerah kritis), maka hipotesis nol (H0) DITOLAK\n",
      "Sehingga didapat kesimpulan bahwa Proporsi nilai Conductivity yang lebih dari 450, adalah tidak sama dengan 10%\n"
     ]
    },
    {
     "data": {
      "image/png": "[encoded data removed]",
      "text/plain": [
       "<Figure size 432x288 with 1 Axes>"
      ]
     },
     "metadata": {
      "needs_background": "light"
     },
     "output_type": "display_data"
    }
   ],
   "source": [
    "print(\"d. Proporsi nilai Conductivity yang lebih dari 450, adalah tidak sama dengan 10%\")\n",
    "print(\"Sampel yang diambil adalah Conductivity dengan nilai lebih dari 450.\")\n",
    "print(\"Langkah Uji Hipotesis:\")\n",
    "print(\"1. Menentukan Hipotesis Nol, H0 : proportion (p) = 0.1\")\n",
    "print(\"2. Menentukan Hipotesis Alternatif, H1 : proportion (p) != 0.1\")\n",
    "print(\"3. Tingkat signifikansi alpha, dengan alpha = 0.05\")\n",
    "alpha = 0.05\n",
    "print(\"4. Menentukan uji statistik yang sesuai dan Menentukan daerah kritis\")\n",
    "#two tails\n",
    "print(\"Daerah kritis hipotesis alternatif ada di sebelah kanan nilai kritis dan kiri -nilai kritis, daerah kritis : z < -1.96 atau z > 1.96\")\n",
    "print(\"5. Hitung nilai uji statistik dari data sample. Hitung p-value sesuai dengan uji statistik yang digunakan.\")\n",
    "df1 = df['Conductivity'].loc[df['Conductivity'] > 450]\n",
    "p0 = 0.1\n",
    "q0 = 1 - p0\n",
    "z_alpha = p_to_z(1 - alpha/2)\n",
    "n = df['Conductivity'].count()\n",
    "x = df1.count()\n",
    "p1 = x/n\n",
    "\n",
    "z = (p1-p0) * math.sqrt(n)/ math.sqrt(p0*q0)\n",
    "p = 2*(1- z_to_p(abs(z)))\n",
    "\n",
    "print(\"Nilai z : \" + str(z))\n",
    "print(\"p-value : \" + str(p))\n",
    "\n",
    "# 6. Ambil keputusan tolak atau terima, berdasarkan uji statistik\n",
    "print(\"6. Keputusan: \")\n",
    "print(\"Berdasarkan uji hipotesis menggunakan nilai z,\", end=' ')\n",
    "if (z < -z_alpha or z > z_alpha) :\n",
    "  print(\"karena z < -z_alpha atau z > z_alpha (berada di daerah kritis), maka hipotesis nol (H0) DITOLAK\")\n",
    "  print(\"Sehingga didapat kesimpulan bahwa Proporsi nilai Conductivity yang lebih dari 450, adalah tidak sama dengan 10%\")\n",
    "else:\n",
    "  print(\"karena -z_alpha <= z <= alpha, maka hipotesis nol (H0) TIDAK DITOLAK\")\n",
    "  print(\"Sehingga didapat kesimpulan bahwa Proporsi nilai Conductivity yang lebih dari 450, adalah sama dengan 10%\")\n",
    "\n",
    "df1.plot.box()\n",
    "plt.show()"
   ]
  },
  {
   "cell_type": "code",
   "execution_count": null,
   "metadata": {},
   "outputs": [],
   "source": [
    "print(\"e. Proporsi nilai Trihalomethanes yang kurang dari 40, adalah kurang dari 5%\")\n",
    "print(\"Sampel yang diambil adalah Trihalomethanes yang nilainya kurang dari 40.\")\n",
    "print(\"Langkah Uji Hipotesis:\")\n",
    "print(\"1. Menentukan Hipotesis Nol, H0 : proportion (p) = 0.05\")\n",
    "print(\"2. Menentukan Hipotesis Alternatif, H1 : proportion (p) < 0.05\")\n",
    "print(\"3. Tingkat signifikansi alpha, dengan alpha = 0.05\")\n",
    "alpha = 0.05\n",
    "print(\"4. Menentukan uji statistik yang sesuai dan Menentukan daerah kritis\")\n",
    "#one tails\n",
    "print(\"Daerah kritis hipotesis alternatif ada di sebelah kiri -nilai kritis, daerah kritis : z < -1.645\")\n",
    "print(\"5. Hitung nilai uji statistik dari data sample. Hitung p-value sesuai dengan uji statistik yang digunakan.\")\n",
    "df1 = df['Trihalomethanes'].loc[df['Trihalomethanes'] < 40]\n",
    "p0 = 0.05\n",
    "q0 = 1 - p0\n",
    "z_alpha = p_to_z(1 - alpha)\n",
    "n = df['Trihalomethanes'].count()\n",
    "x = df1.count()\n",
    "p1 = x/n\n",
    "\n",
    "z = (p1-p0) * math.sqrt(n)/ math.sqrt(p0*q0)\n",
    "p = z_to_p(z)\n",
    "\n",
    "print(\"Nilai z : \" + str(z))\n",
    "print(\"p-value : \" + str(p))\n",
    "\n",
    "p = ztop(z)\n",
    "print(\"Nilai z : \" + str(z))\n",
    "print(\"p-value : \" + str(p) )\n",
    "# 6. Ambil keputusan tolak atau terima, berdasarkan uji statistik\n",
    "print(\"6. Keputusan: \")\n",
    "print(\"Berdasarkan uji hipotesis menggunakan nilai z,\", end=' ')\n",
    "if (z < -z_alpha or z > z_alpha) :\n",
    "  print(\"karena z < -z_alpha atau z > z_alpha (berada di daerah kritis), maka hipotesis nol (H0) DITOLAK\")\n",
    "  print(\"Sehingga didapat kesimpulan bahwa Proporsi nilai Conductivity yang lebih dari 450, adalah tidak sama dengan 10%\")\n",
    "else:\n",
    "  print(\"karena -z_alpha <= z <= alpha, maka hipotesis nol (H0) TIDAK DITOLAK\")\n",
    "  print(\"Sehingga didapat kesimpulan bahwa Proporsi nilai Conductivity yang lebih dari 450, adalah sama dengan 10%\")\n",
    "\n",
    "df1.plot.box()\n",
    "plt.show()"
   ]
  }
 ],
 "metadata": {
  "interpreter": {
   "hash": "38740d3277777e2cd7c6c2cc9d8addf5118fdf3f82b1b39231fd12aeac8aee8b"
  },
  "kernelspec": {
   "display_name": "Python 3.10.0 64-bit",
   "language": "python",
   "name": "python3"
  },
  "language_info": {
   "codemirror_mode": {
    "name": "ipython",
    "version": 3
   },
   "file_extension": ".py",
   "mimetype": "text/x-python",
   "name": "python",
   "nbconvert_exporter": "python",
   "pygments_lexer": "ipython3",
   "version": "3.10.0"
  },
  "orig_nbformat": 4
 },
 "nbformat": 4,
 "nbformat_minor": 2
}
