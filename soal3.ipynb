{
 "cells": [
  {
   "cell_type": "code",
   "execution_count": 10,
   "metadata": {},
   "outputs": [],
   "source": [
    "# Soal 3\n",
    "'''\n",
    "Menentukan setiap kolom numerik berdistribusi normal atau tidak. Gunakan normality test\n",
    "yang dikaitkan dengan histogram plot.\n",
    "'''\n",
    "import pandas as pd\n",
    "import matplotlib.pyplot as plt\n",
    "from scipy import stats\n",
    "def soal3(label):\n",
    "    df = pd.read_csv(\"water_potability.csv\", names=[\"id\", \"pH\",\"Hardness\",\"Solids\",\"Chrolomines\",\"Sulfate\",\"Conductivity\",\"OrganicCarbon\",\"Trihalometanes\",\"Turbidity\",\"Potability\"])\n",
    "    statistic, p_val = stats.normaltest(df[label])\n",
    "    print(\"Nilai P :\", p_val)\n",
    "    if p_val > 0.05:\n",
    "        print(\"Data {} berdistribusi normal\".format(label))\n",
    "    else:\n",
    "        print(\"Data {} tidak berdistribusi normal\".format(label))"
   ]
  },
  {
   "cell_type": "code",
   "execution_count": 11,
   "metadata": {},
   "outputs": [
    {
     "name": "stdout",
     "output_type": "stream",
     "text": [
      "Nilai P : 2.6514813346797777e-05\n",
      "Data pH tidak berdistribusi normal\n"
     ]
    }
   ],
   "source": [
    "soal3(\"pH\")"
   ]
  },
  {
   "cell_type": "code",
   "execution_count": 12,
   "metadata": {},
   "outputs": [
    {
     "name": "stdout",
     "output_type": "stream",
     "text": [
      "Nilai P : 0.00013442428699593753\n",
      "Data Hardness tidak berdistribusi normal\n"
     ]
    }
   ],
   "source": [
    "soal3(\"Hardness\")"
   ]
  },
  {
   "cell_type": "code",
   "execution_count": 13,
   "metadata": {},
   "outputs": [
    {
     "name": "stdout",
     "output_type": "stream",
     "text": [
      "Nilai P : 2.0796613688739523e-24\n",
      "Data Solids tidak berdistribusi normal\n"
     ]
    }
   ],
   "source": [
    "soal3(\"Solids\")"
   ]
  },
  {
   "cell_type": "code",
   "execution_count": 14,
   "metadata": {},
   "outputs": [
    {
     "name": "stdout",
     "output_type": "stream",
     "text": [
      "Nilai P : 0.0002504831654753917\n",
      "Data Chrolomines tidak berdistribusi normal\n"
     ]
    }
   ],
   "source": [
    "soal3(\"Chrolomines\")"
   ]
  },
  {
   "cell_type": "code",
   "execution_count": 15,
   "metadata": {},
   "outputs": [
    {
     "name": "stdout",
     "output_type": "stream",
     "text": [
      "Nilai P : 4.4255936678013136e-07\n",
      "Data Sulfate tidak berdistribusi normal\n"
     ]
    }
   ],
   "source": [
    "soal3(\"Sulfate\")"
   ]
  },
  {
   "cell_type": "code",
   "execution_count": 16,
   "metadata": {},
   "outputs": [
    {
     "name": "stdout",
     "output_type": "stream",
     "text": [
      "Nilai P : 4.39018078287845e-07\n",
      "Data Conductivity tidak berdistribusi normal\n"
     ]
    }
   ],
   "source": [
    "soal3(\"Conductivity\")"
   ]
  },
  {
   "cell_type": "code",
   "execution_count": 17,
   "metadata": {},
   "outputs": [
    {
     "name": "stdout",
     "output_type": "stream",
     "text": [
      "Nilai P : 0.8825496581408284\n",
      "Data OrganicCarbon berdistribusi normal\n"
     ]
    }
   ],
   "source": [
    "soal3(\"OrganicCarbon\")"
   ]
  },
  {
   "cell_type": "code",
   "execution_count": 18,
   "metadata": {},
   "outputs": [
    {
     "name": "stdout",
     "output_type": "stream",
     "text": [
      "Nilai P : 0.1043598441875204\n",
      "Data Trihalometanes berdistribusi normal\n"
     ]
    }
   ],
   "source": [
    "soal3(\"Trihalometanes\")"
   ]
  },
  {
   "cell_type": "code",
   "execution_count": 19,
   "metadata": {},
   "outputs": [
    {
     "name": "stdout",
     "output_type": "stream",
     "text": [
      "Nilai P : 0.7694717369961169\n",
      "Data Turbidity berdistribusi normal\n"
     ]
    }
   ],
   "source": [
    "soal3(\"Turbidity\")"
   ]
  },
  {
   "cell_type": "code",
   "execution_count": 20,
   "metadata": {},
   "outputs": [
    {
     "name": "stdout",
     "output_type": "stream",
     "text": [
      "Nilai P : 0.0\n",
      "Data Potability tidak berdistribusi normal\n"
     ]
    }
   ],
   "source": [
    "soal3(\"Potability\")"
   ]
  }
 ],
 "metadata": {
  "interpreter": {
   "hash": "952316e4cf8100a27478111efb2f0cc62014d5c8644deebe2682fbe5d36b1b14"
  },
  "kernelspec": {
   "display_name": "Python 3.9.6 64-bit",
   "language": "python",
   "name": "python3"
  },
  "language_info": {
   "codemirror_mode": {
    "name": "ipython",
    "version": 3
   },
   "file_extension": ".py",
   "mimetype": "text/x-python",
   "name": "python",
   "nbconvert_exporter": "python",
   "pygments_lexer": "ipython3",
   "version": "3.9.10"
  },
  "orig_nbformat": 4
 },
 "nbformat": 4,
 "nbformat_minor": 2
}
