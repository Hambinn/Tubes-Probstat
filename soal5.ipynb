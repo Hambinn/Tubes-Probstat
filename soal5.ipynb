{
 "cells": [
  {
   "cell_type": "code",
   "execution_count": 13,
   "metadata": {},
   "outputs": [],
   "source": [
    "# Soal 5\n",
    "'''\n",
    "Melakukan test hipotesis 2 sampel, dengan menuliskan 6 langkah testing dan menampilkan\n",
    "juga boxplotnya untuk kolom/bagian yang bersesuaian.\n",
    "'''\n",
    "import pandas as pd\n",
    "import matplotlib.pyplot as plt\n",
    "from scipy import stats\n",
    "import math\n",
    "from statsmodels.stats import weightstats as stests"
   ]
  },
  {
   "cell_type": "markdown",
   "metadata": {},
   "source": [
    "### a. Data kolom Sulfate dibagi 2 sama rata: bagian awal dan bagian akhir kolom. Benarkah rata-rata kedua bagian tersebut sama?"
   ]
  },
  {
   "cell_type": "code",
   "execution_count": 31,
   "metadata": {},
   "outputs": [
    {
     "data": {
      "image/png": "[encoded data removed]",
      "text/plain": [
       "<Figure size 432x288 with 1 Axes>"
      ]
     },
     "metadata": {
      "needs_background": "light"
     },
     "output_type": "display_data"
    }
   ],
   "source": [
    "df = pd.read_csv(\"water_potability.csv\", names=[\"id\", \"pH\",\"Hardness\",\"Solids\",\"Chloromines\",\"Sulfate\",\"Conductivity\",\"OrganicCarbon\",\"Trihalometanes\",\"Turbidity\",\"Potability\"])\n",
    "\n",
    "ax = df.loc[:1004].boxplot([\"Sulfate\"])\n",
    "ax.set_title(\"Boxplot P1\")\n",
    "plt.show()"
   ]
  },
  {
   "cell_type": "code",
   "execution_count": 15,
   "metadata": {},
   "outputs": [
    {
     "data": {
      "image/png": "[encoded data removed]",
      "text/plain": [
       "<Figure size 432x288 with 1 Axes>"
      ]
     },
     "metadata": {
      "needs_background": "light"
     },
     "output_type": "display_data"
    }
   ],
   "source": [
    "ax = df.loc[1005:].boxplot([\"Sulfate\"])\n",
    "ax.set_title(\"Boxplot P2\")\n",
    "plt.show()"
   ]
  },
  {
   "cell_type": "markdown",
   "metadata": {},
   "source": [
    "Akan ditentukn $H_{0}$ sebagai berikut:\n",
    "$H_{0}$ = $\\mu_{P_1} = \\mu_{P_2}$\n",
    "\n",
    "Hipotesis nol yang ditentukan adalah rata-rata setengah data awal kolom Sulfate sama dengan rata-rata setengah data akhir kolom Sulfate\n",
    "\n",
    "Akan ditentukan hipotesis tandingan $H_{1}$ sebagai berikut:\n",
    "$H_{1}$ = $\\mu_{P_1} \\neq \\mu_{P_2}$\n",
    "\n",
    "Hipotesis tandingan yang ditentukan adalah rata-rata setengah data awal kolom Sulfate tidak sama dengan rata-rata setengah data akhir kolom Sulfate.\n",
    "\n",
    "Artinya, $\\mu_{P_1}$ > $\\mu_{P_2}$ atau $\\mu_{P_1}$ < $\\mu_{P_2}$\n",
    "\n",
    "ditentukan $\\alpha = 0.05$\n",
    "\n",
    "Dilakukan test statistik menggunakan distribusi t. Daerah kritisnya adalah sebagai berikut:\n",
    "$ t < -t_{\\alpha/2}(v) \\quad or \\quad t > t_{\\alpha/2}(v) $\n",
    "\n",
    "Derajat kebebasannya adalah sebagai berikut:  \n",
    "$ v = n_{P_1} + n_{P_2} - 2$  \n",
    "$ v = 1005 + 1005 - 2 = 2008$\n",
    "\n",
    "Akan dicari daerah kritis:"
   ]
  },
  {
   "cell_type": "code",
   "execution_count": 16,
   "metadata": {},
   "outputs": [
    {
     "name": "stdout",
     "output_type": "stream",
     "text": [
      "Batas bawah: -1.9611\n",
      "Batas atas: 1.9611\n"
     ]
    }
   ],
   "source": [
    "print(\"Batas bawah:\", round(stats.t.ppf(0.025 , 2008), 4))\n",
    "print(\"Batas atas:\", round(-stats.t.ppf(0.025 , 2008), 4))"
   ]
  },
  {
   "cell_type": "markdown",
   "metadata": {},
   "source": [
    "daerah kritisnya adalah $ t < -1.9611 $ atau $ t > 1.9611 $\n",
    "\n",
    "nilai $t$ harus berada di luar daerah kritis agar $H_{0}$ dapat diterima, dengan rumus $t$ adalah:\n",
    "$$\\Large t = \\Large\\frac{(\\bar{X_1} - \\bar{X_2})-(\\mu_1 - \\mu_2)}{\\sqrt{\\Large\\frac{s_1^2}{\\Large n_{1}} + \\Large\\frac{s_2^2}{\\Large n_{2}}}}$$\n",
    "\n",
    "dengan penjelasan sebagai berikut:  \n",
    "$\\bar{X_1}$ : rata-rata sampel $P_1$  \n",
    "$\\bar{X_2}$ : rata-rata sampel $P_2$  \n",
    "$\\mu_1$ : rata-rata populasi $P_1$  \n",
    "$\\mu_2$ : rata-rata populasi $P_2$  \n",
    "$S_1^2$ : variansi sampel $P_1$  \n",
    "$S_2^2$ : variansi sampel $P_2$  \n",
    "\n",
    "dari $H_{0}$ dapat ditentukan sebagai berikut: \n",
    "$\\mu_{P_1} = \\mu_{P_2}$ maka $\\mu_{P_1} - \\mu_{P_2} = 0$.\n",
    "\n",
    "Cari nilai $\\bar{X_1}$, $\\bar{X_2}$, $S_1^2$, dan $S_2^2$"
   ]
  },
  {
   "cell_type": "code",
   "execution_count": 17,
   "metadata": {},
   "outputs": [
    {
     "name": "stdout",
     "output_type": "stream",
     "text": [
      "x1: 331.30532950549565\n",
      "x2: 335.11742332488245\n",
      "s1: 2127.3262728533155\n",
      "s2: 1634.0954314679543\n",
      "tvalue: -1.9705\n",
      "pvalue: 0.9755\n"
     ]
    }
   ],
   "source": [
    "x1 = df.loc[:1004][\"Sulfate\"].mean()\n",
    "x2 = df.loc[1005:][\"Sulfate\"].mean()\n",
    "s1 = df.loc[:249][\"Sulfate\"].var()\n",
    "s2 = df.loc[250:][\"Sulfate\"].var()\n",
    "print(\"x1:\", x1)\n",
    "print(\"x2:\", x2)\n",
    "print(\"s1:\", s1)\n",
    "print(\"s2:\", s2)\n",
    "\n",
    "tvalue = (x1 - x2) / math.sqrt((s1 / 1005) + (s2 / 1005))\n",
    "print(\"tvalue:\", round(tvalue, 4))\n",
    "pvalue = 1 - stats.t.cdf(tvalue, 2008)\n",
    "print(\"pvalue:\", round(pvalue, 4))"
   ]
  },
  {
   "cell_type": "markdown",
   "metadata": {},
   "source": [
    "nilai t berada didalam daerah kritis ($-1.9705 < -1.9611$) dan p-value lebih besar dari $\\alpha$ ($0.9755 > 0.05$) maka $H_{0}$ dapat diterima."
   ]
  },
  {
   "cell_type": "markdown",
   "metadata": {},
   "source": [
    "## b. Data kolom OrganicCarbon dibagi 2 sama rata: bagian awal dan bagian akhir kolom. Benarkah rata-rata bagian awal lebih besar dari pada bagian akhir sebesar 0.15?"
   ]
  },
  {
   "cell_type": "code",
   "execution_count": 18,
   "metadata": {},
   "outputs": [
    {
     "data": {
      "image/png": "[encoded data removed]",
      "text/plain": [
       "<Figure size 432x288 with 1 Axes>"
      ]
     },
     "metadata": {
      "needs_background": "light"
     },
     "output_type": "display_data"
    }
   ],
   "source": [
    "ax = df.loc[:1004].boxplot([\"OrganicCarbon\"])\n",
    "ax.set_title(\"Boxplot P1\")\n",
    "plt.show()"
   ]
  },
  {
   "cell_type": "code",
   "execution_count": 25,
   "metadata": {},
   "outputs": [
    {
     "data": {
      "image/png": "[encoded data removed]",
      "text/plain": [
       "<Figure size 432x288 with 1 Axes>"
      ]
     },
     "metadata": {
      "needs_background": "light"
     },
     "output_type": "display_data"
    }
   ],
   "source": [
    "ax = df.loc[1005:].boxplot([\"OrganicCarbon\"])\n",
    "ax.set_title(\"Boxplot P2\")\n",
    "plt.show()"
   ]
  },
  {
   "cell_type": "markdown",
   "metadata": {},
   "source": [
    "Akan ditentukn $H_{0}$ sebagai berikut:\n",
    "$H_{0}$ = $\\mu_{P_1} = (\\mu_{P_2}$ + 0.15)\n",
    "\n",
    "Hipotesis nol yang ditentukan adalah rata-rata setengah data awal kolom OrganicCarbon sama dengan rata rata setengah data akhir kolom OrganicCarbon ditambah dengan 0.15\n",
    "\n",
    "Akan ditentukan hipotesis tandingan $H_{1}$ sebagai berikut:\n",
    "$H_{1}$ = $\\mu_{P_1} \\neq (\\mu_{P_2}$ + 0.15)\n",
    "\n",
    "Hipotesis tandingan yang ditentukan adalah rata-rata setengah data awal kolom OrganicCarbon tidak sama dengan rata-rata setengah data akhir kolom OrganicCarbon ditambah dengan 0.15.\n",
    "\n",
    "Artinya, $\\mu_{P_1} > (\\mu_{P_2}$ + 0.15) atau $\\mu_{P_1} < (\\mu_{P_2}$ + 0.15)\n",
    "\n",
    "ditentukan $\\alpha = 0.05$\n",
    "\n",
    "Dilakukan test statistik menggunakan distribusi t. Daerah kritisnya adalah sebagai berikut:\n",
    "$ t < -t_{\\alpha/2}(v) \\quad or \\quad t > t_{\\alpha/2}(v) $\n",
    "\n",
    "Derajat kebebasannya adalah sebagai berikut:  \n",
    "$ v = n_{P_1} + n_{P_2} - 2$  \n",
    "$ v = 1005 + 1005 - 2 = 2008$\n",
    "\n",
    "Akan dicari daerah kritis:"
   ]
  },
  {
   "cell_type": "code",
   "execution_count": 20,
   "metadata": {},
   "outputs": [
    {
     "name": "stdout",
     "output_type": "stream",
     "text": [
      "Batas bawah: -1.9611\n",
      "Batas atas: 1.9611\n"
     ]
    }
   ],
   "source": [
    "print(\"Batas bawah:\", round(stats.t.ppf(0.025 , 2008), 4))\n",
    "print(\"Batas atas:\", round(-stats.t.ppf(0.025 , 2008), 4))"
   ]
  },
  {
   "cell_type": "markdown",
   "metadata": {},
   "source": [
    "daerah kritisnya adalah $ t < -1.9611 $ atau $ t > 1.9611 $\n",
    "\n",
    "nilai $t$ harus berada di luar daerah kritis agar $H_{0}$ dapat diterima, dengan rumus $t$ adalah:\n",
    "$$\\Large t = \\Large\\frac{(\\bar{X_1} - \\bar{X_2})-(\\mu_1 - \\mu_2)}{\\sqrt{\\Large\\frac{s_1^2}{\\Large n_{1}} + \\Large\\frac{s_2^2}{\\Large n_{2}}}}$$\n",
    "\n",
    "dengan penjelasan sebagai berikut:  \n",
    "$\\bar{X_1}$ : rata-rata sampel $P_1$  \n",
    "$\\bar{X_2}$ : rata-rata sampel $P_2$  \n",
    "$\\mu_1$ : rata-rata populasi $P_1$  \n",
    "$\\mu_2$ : rata-rata populasi $P_2$  \n",
    "$S_1^2$ : variansi sampel $P_1$  \n",
    "$S_2^2$ : variansi sampel $P_2$  \n",
    "\n",
    "dari $H_{0}$ dapat ditentukan sebagai berikut: \n",
    "$\\mu_{P_1} = \\mu_{P_2}$ maka $\\mu_{P_1} - \\mu_{P_2} = 0$.\n",
    "\n",
    "Cari nilai $\\bar{X_1}$, $\\bar{X_2}$, $S_1^2$, dan $S_2^2$"
   ]
  },
  {
   "cell_type": "code",
   "execution_count": 23,
   "metadata": {},
   "outputs": [
    {
     "name": "stdout",
     "output_type": "stream",
     "text": [
      "x1: 14.253972723723393\n",
      "x2: 14.461907080372756\n",
      "s1: 10.557610199905154\n",
      "s2: 11.115066554827909\n",
      "t-value: -1.416\n",
      "p-value: 0.9215\n"
     ]
    }
   ],
   "source": [
    "x1 = df.loc[:1004][\"OrganicCarbon\"].mean()\n",
    "x2 = df.loc[1005:][\"OrganicCarbon\"].mean()\n",
    "s1 = df.loc[:249][\"OrganicCarbon\"].var()\n",
    "s2 = df.loc[250:][\"OrganicCarbon\"].var()\n",
    "print(\"x1:\", x1)\n",
    "print(\"x2:\", x2)\n",
    "print(\"s1:\", s1)\n",
    "print(\"s2:\", s2)\n",
    "\n",
    "tvalue = (x1 - x2) / math.sqrt((s1 / 1005) + (s2 / 1005))\n",
    "print(\"t-value:\", round(tvalue, 4))\n",
    "pvalue = 1 - stats.t.cdf(tvalue, 2008)\n",
    "print(\"p-value:\", round(pvalue, 4))"
   ]
  },
  {
   "cell_type": "markdown",
   "metadata": {},
   "source": [
    "nilai t  berada diluar daerah kritis ($-1.416 < -1.9611$) dan p-value lebih besar dari $\\alpha$ ($0.9215 > 0.05$) maka $H_{0}$ ditolak."
   ]
  },
  {
   "cell_type": "markdown",
   "metadata": {},
   "source": [
    "## c. Rata-rata 100 baris pertama kolom Chloromines sama dengan 100 baris terakhirnya?"
   ]
  },
  {
   "cell_type": "code",
   "execution_count": 32,
   "metadata": {},
   "outputs": [
    {
     "data": {
      "image/png": "[encoded data removed]",
      "text/plain": [
       "<Figure size 432x288 with 1 Axes>"
      ]
     },
     "metadata": {
      "needs_background": "light"
     },
     "output_type": "display_data"
    }
   ],
   "source": [
    "ax = df.loc[:99].boxplot([\"Chloromines\"])\n",
    "ax.set_title(\"Boxplot P1\")\n",
    "plt.show()"
   ]
  },
  {
   "cell_type": "code",
   "execution_count": 33,
   "metadata": {},
   "outputs": [
    {
     "data": {
      "image/png": "[encoded data removed]",
      "text/plain": [
       "<Figure size 432x288 with 1 Axes>"
      ]
     },
     "metadata": {
      "needs_background": "light"
     },
     "output_type": "display_data"
    }
   ],
   "source": [
    "ax = df.loc[1910:].boxplot([\"Chloromines\"])\n",
    "ax.set_title(\"Boxplot P2\")\n",
    "plt.show()"
   ]
  },
  {
   "cell_type": "markdown",
   "metadata": {},
   "source": [
    "Akan ditentukn $H_{0}$ sebagai berikut:\n",
    "$H_{0}$ = $\\mu_{P_1} = \\mu_{P_2}$\n",
    "\n",
    "Hipotesis nol yang ditentukan adalah rata-rata setengah data awal kolom Sulfate sama dengan rata-rata setengah data akhir kolom Sulfate\n",
    "\n",
    "Akan ditentukan hipotesis tandingan $H_{1}$ sebagai berikut:\n",
    "$H_{1}$ = $\\mu_{P_1} \\neq \\mu_{P_2}$\n",
    "\n",
    "Hipotesis tandingan yang ditentukan adalah rata-rata setengah data awal kolom Sulfate tidak sama dengan rata-rata setengah data akhir kolom Sulfate.\n",
    "\n",
    "Artinya, $\\mu_{P_1}$ > $\\mu_{P_2}$ atau $\\mu_{P_1}$ < $\\mu_{P_2}$\n",
    "\n",
    "ditentukan $\\alpha = 0.05$\n",
    "\n",
    "Dilakukan test statistik menggunakan distribusi t. Daerah kritisnya adalah sebagai berikut:\n",
    "$ t < -t_{\\alpha/2}(v) \\quad atau \\quad t > t_{\\alpha/2}(v) $\n",
    "\n",
    "Derajat kebebasannya adalah sebagai berikut:  \n",
    "$ v = n_{P_1} + n_{P_2} - 2$  \n",
    "$ v = 100 + 100 - 2 = 198$\n",
    "\n",
    "Akan dicari daerah kritis:"
   ]
  },
  {
   "cell_type": "code",
   "execution_count": 34,
   "metadata": {},
   "outputs": [
    {
     "name": "stdout",
     "output_type": "stream",
     "text": [
      "Batas bawah: -1.972\n",
      "Batas atas: 1.972\n"
     ]
    }
   ],
   "source": [
    "print(\"Batas bawah:\", round(stats.t.ppf(0.025 , 198), 4))\n",
    "print(\"Batas atas:\", round(-stats.t.ppf(0.025 , 198), 4))"
   ]
  },
  {
   "cell_type": "markdown",
   "metadata": {},
   "source": [
    "daerah kritisnya adalah $ t < -1.972 $ atau $ t > 1.972 $\n",
    "\n",
    "nilai $t$ harus berada di luar daerah kritis agar $H_{0}$ dapat diterima, dengan rumus $t$ adalah:\n",
    "$$\\Large t = \\Large\\frac{(\\bar{X_1} - \\bar{X_2})-(\\mu_1 - \\mu_2)}{\\sqrt{\\Large\\frac{s_1^2}{\\Large n_{1}} + \\Large\\frac{s_2^2}{\\Large n_{2}}}}$$\n",
    "\n",
    "dengan penjelasan sebagai berikut:  \n",
    "$\\bar{X_1}$ : rata-rata sampel $P_1$  \n",
    "$\\bar{X_2}$ : rata-rata sampel $P_2$  \n",
    "$\\mu_1$ : rata-rata populasi $P_1$  \n",
    "$\\mu_2$ : rata-rata populasi $P_2$  \n",
    "$S_1^2$ : variansi sampel $P_1$  \n",
    "$S_2^2$ : variansi sampel $P_2$  \n",
    "\n",
    "dari $H_{0}$ dapat ditentukan sebagai berikut: \n",
    "$\\mu_{P_1} = \\mu_{P_2}$ maka $\\mu_{P_1} - \\mu_{P_2} = 0$.\n",
    "\n",
    "Cari nilai $\\bar{X_1}$, $\\bar{X_2}$, $S_1^2$, dan $S_2^2$"
   ]
  },
  {
   "cell_type": "code",
   "execution_count": 35,
   "metadata": {},
   "outputs": [
    {
     "name": "stdout",
     "output_type": "stream",
     "text": [
      "x1: 7.1063878760058055\n",
      "x2: 7.162256813194402\n",
      "s1: 3.004433672564011\n",
      "s2: 2.442793257350769\n",
      "t-value: -0.7589\n",
      "p-value: 0.776\n"
     ]
    }
   ],
   "source": [
    "x1 = df.loc[:1004][\"Chloromines\"].mean()\n",
    "x2 = df.loc[1005:][\"Chloromines\"].mean()\n",
    "s1 = df.loc[:249][\"Chloromines\"].var()\n",
    "s2 = df.loc[250:][\"Chloromines\"].var()\n",
    "print(\"x1:\", x1)\n",
    "print(\"x2:\", x2)\n",
    "print(\"s1:\", s1)\n",
    "print(\"s2:\", s2)\n",
    "\n",
    "tvalue = (x1 - x2) / math.sqrt((s1 / 1005) + (s2 / 1005))\n",
    "print(\"t-value:\", round(tvalue, 4))\n",
    "pvalue = 1 - stats.t.cdf(tvalue, 2008)\n",
    "print(\"p-value:\", round(pvalue, 4))"
   ]
  },
  {
   "cell_type": "markdown",
   "metadata": {},
   "source": [
    "nilai t  berada diluar daerah kritis ($-0.7589 < 1.972$) dan p-value lebih besar dari $\\alpha$ ($0.776 > 0.05$) maka $H_{0}$ ditolak."
   ]
  }
 ],
 "metadata": {
  "interpreter": {
   "hash": "952316e4cf8100a27478111efb2f0cc62014d5c8644deebe2682fbe5d36b1b14"
  },
  "kernelspec": {
   "display_name": "Python 3.9.6 64-bit",
   "language": "python",
   "name": "python3"
  },
  "language_info": {
   "codemirror_mode": {
    "name": "ipython",
    "version": 3
   },
   "file_extension": ".py",
   "mimetype": "text/x-python",
   "name": "python",
   "nbconvert_exporter": "python",
   "pygments_lexer": "ipython3",
   "version": "3.9.6"
  },
  "orig_nbformat": 4
 },
 "nbformat": 4,
 "nbformat_minor": 2
}
