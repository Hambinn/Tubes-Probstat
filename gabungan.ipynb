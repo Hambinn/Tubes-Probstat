{
 "cells": [
  {
   "cell_type": "markdown",
   "metadata": {},
   "source": [
    "# Penarikan Kesimpulan dan Pengujian Hipotesis\n",
    " Diberikan sebuah dataset water_portability.csv yang merupakan data metrik kualitas air\n",
    " yang mengandung 11 kolom sebagai berikut:\n",
    " 1. id\n",
    " 2. pH\n",
    " 3. Hardness\n",
    " 4. Solids\n",
    " 5. Chloromines\n",
    " 6. Sulfate\n",
    " 7. Conductivity\n",
    " 8. OrganicCarbon\n",
    " 9. Trihalometanes\n",
    " 10. Turbidity\n",
    " 11. Potability  \n",
    "\n",
    "Kolom 2-10 adalah kolom atribut (non-targer), sedangkan kolom 11 adalah kolom target."
   ]
  },
  {
   "cell_type": "markdown",
   "metadata": {},
   "source": [
    "## 1. Menulis deskripsi statistika (Descriptive Statistics) dari semua kolom pada data yang bersifat numerik, terdiri dari mean, median, modus, standar deviasi, variansi, range, nilai minimum, maksimum, kuartil, IQR, skewness dan kurtosis. Boleh juga ditambahkan deskripsi lain."
   ]
  },
  {
   "cell_type": "code",
   "execution_count": 60,
   "metadata": {},
   "outputs": [],
   "source": [
    "\n",
    "import pandas as pd\n",
    "import matplotlib.pyplot as plt\n",
    "import scipy.stats as s\n",
    "import math\n",
    "def soal1(nama):\n",
    "    # membuka file csv\n",
    "    # menamakan kolom\n",
    "    # df.columns = ['id','Daerah','SumbuUtama','SumbuKecil','Keunikan','AreaBulatan','Diameter','KadarAir','Keliling','Bulatan','Ransum','Kelas']\n",
    "    df = pd.read_csv(\"water_potability.csv\", names=[\"id\", \"pH\",\"Hardness\",\"Solids\",\"Chrolomines\",\"Sulfate\",\"Conductivity\",\"OrganicCarbon\",\"Trihalometanes\",\"Turbidity\",\"Potability\"])\n",
    "\n",
    "    df1 = df[nama]\n",
    "    dic = {'mean':df1.mean(),'median':df1.median(),'modus':df1.mode().values,\n",
    "          'standar deviasi':df1.std(), 'variansi':df1.var(),\n",
    "           'range':df1.max()-df1.min(), 'minimum':df1.min(), \n",
    "           'maksimum':df1.max(),'kuartil 1':df1.quantile(0.25),\n",
    "           'kuartil 2':df1.quantile(0.5),'kuartil 3':df1.quantile(0.75), \n",
    "           'IQR':df1.quantile(0.75) - df1.quantile(0.25), 'skewness':df1.skew(),\n",
    "           'kurtosis':df1.kurtosis()\n",
    "          }\n",
    "    dic_list = list(dic.items())\n",
    "\n",
    "    new_df = pd.DataFrame.from_dict(dic_list)\n",
    "    return new_df.style.set_table_attributes(\"style='display:inline'\").set_caption('Deskripsi Statistik '+nama)\n"
   ]
  },
  {
   "cell_type": "code",
   "execution_count": 61,
   "metadata": {},
   "outputs": [
    {
     "data": {
      "text/html": [
       "<style type=\"text/css\">\n",
       "</style>\n",
       "<table id=\"T_7231e\" style='display:inline'>\n",
       "  <caption>Deskripsi Statistik pH</caption>\n",
       "  <thead>\n",
       "    <tr>\n",
       "      <th class=\"blank level0\" >&nbsp;</th>\n",
       "      <th id=\"T_7231e_level0_col0\" class=\"col_heading level0 col0\" >0</th>\n",
       "      <th id=\"T_7231e_level0_col1\" class=\"col_heading level0 col1\" >1</th>\n",
       "    </tr>\n",
       "  </thead>\n",
       "  <tbody>\n",
       "    <tr>\n",
       "      <th id=\"T_7231e_level0_row0\" class=\"row_heading level0 row0\" >0</th>\n",
       "      <td id=\"T_7231e_row0_col0\" class=\"data row0 col0\" >mean</td>\n",
       "      <td id=\"T_7231e_row0_col1\" class=\"data row0 col1\" >7.087193</td>\n",
       "    </tr>\n",
       "    <tr>\n",
       "      <th id=\"T_7231e_level0_row1\" class=\"row_heading level0 row1\" >1</th>\n",
       "      <td id=\"T_7231e_row1_col0\" class=\"data row1 col0\" >median</td>\n",
       "      <td id=\"T_7231e_row1_col1\" class=\"data row1 col1\" >7.029490</td>\n",
       "    </tr>\n",
       "    <tr>\n",
       "      <th id=\"T_7231e_level0_row2\" class=\"row_heading level0 row2\" >2</th>\n",
       "      <td id=\"T_7231e_row2_col0\" class=\"data row2 col0\" >modus</td>\n",
       "      <td id=\"T_7231e_row2_col1\" class=\"data row2 col1\" >[ 0.22749905  0.98991221  1.43178155 ... 12.24692807 13.34988856\n",
       " 14.        ]</td>\n",
       "    </tr>\n",
       "    <tr>\n",
       "      <th id=\"T_7231e_level0_row3\" class=\"row_heading level0 row3\" >3</th>\n",
       "      <td id=\"T_7231e_row3_col0\" class=\"data row3 col0\" >standar deviasi</td>\n",
       "      <td id=\"T_7231e_row3_col1\" class=\"data row3 col1\" >1.572803</td>\n",
       "    </tr>\n",
       "    <tr>\n",
       "      <th id=\"T_7231e_level0_row4\" class=\"row_heading level0 row4\" >4</th>\n",
       "      <td id=\"T_7231e_row4_col0\" class=\"data row4 col0\" >variansi</td>\n",
       "      <td id=\"T_7231e_row4_col1\" class=\"data row4 col1\" >2.473709</td>\n",
       "    </tr>\n",
       "    <tr>\n",
       "      <th id=\"T_7231e_level0_row5\" class=\"row_heading level0 row5\" >5</th>\n",
       "      <td id=\"T_7231e_row5_col0\" class=\"data row5 col0\" >range</td>\n",
       "      <td id=\"T_7231e_row5_col1\" class=\"data row5 col1\" >13.772501</td>\n",
       "    </tr>\n",
       "    <tr>\n",
       "      <th id=\"T_7231e_level0_row6\" class=\"row_heading level0 row6\" >6</th>\n",
       "      <td id=\"T_7231e_row6_col0\" class=\"data row6 col0\" >minimum</td>\n",
       "      <td id=\"T_7231e_row6_col1\" class=\"data row6 col1\" >0.227499</td>\n",
       "    </tr>\n",
       "    <tr>\n",
       "      <th id=\"T_7231e_level0_row7\" class=\"row_heading level0 row7\" >7</th>\n",
       "      <td id=\"T_7231e_row7_col0\" class=\"data row7 col0\" >maksimum</td>\n",
       "      <td id=\"T_7231e_row7_col1\" class=\"data row7 col1\" >14.000000</td>\n",
       "    </tr>\n",
       "    <tr>\n",
       "      <th id=\"T_7231e_level0_row8\" class=\"row_heading level0 row8\" >8</th>\n",
       "      <td id=\"T_7231e_row8_col0\" class=\"data row8 col0\" >kuartil 1</td>\n",
       "      <td id=\"T_7231e_row8_col1\" class=\"data row8 col1\" >6.090785</td>\n",
       "    </tr>\n",
       "    <tr>\n",
       "      <th id=\"T_7231e_level0_row9\" class=\"row_heading level0 row9\" >9</th>\n",
       "      <td id=\"T_7231e_row9_col0\" class=\"data row9 col0\" >kuartil 2</td>\n",
       "      <td id=\"T_7231e_row9_col1\" class=\"data row9 col1\" >7.029490</td>\n",
       "    </tr>\n",
       "    <tr>\n",
       "      <th id=\"T_7231e_level0_row10\" class=\"row_heading level0 row10\" >10</th>\n",
       "      <td id=\"T_7231e_row10_col0\" class=\"data row10 col0\" >kuartil 3</td>\n",
       "      <td id=\"T_7231e_row10_col1\" class=\"data row10 col1\" >8.053006</td>\n",
       "    </tr>\n",
       "    <tr>\n",
       "      <th id=\"T_7231e_level0_row11\" class=\"row_heading level0 row11\" >11</th>\n",
       "      <td id=\"T_7231e_row11_col0\" class=\"data row11 col0\" >IQR</td>\n",
       "      <td id=\"T_7231e_row11_col1\" class=\"data row11 col1\" >1.962221</td>\n",
       "    </tr>\n",
       "    <tr>\n",
       "      <th id=\"T_7231e_level0_row12\" class=\"row_heading level0 row12\" >12</th>\n",
       "      <td id=\"T_7231e_row12_col0\" class=\"data row12 col0\" >skewness</td>\n",
       "      <td id=\"T_7231e_row12_col1\" class=\"data row12 col1\" >0.048535</td>\n",
       "    </tr>\n",
       "    <tr>\n",
       "      <th id=\"T_7231e_level0_row13\" class=\"row_heading level0 row13\" >13</th>\n",
       "      <td id=\"T_7231e_row13_col0\" class=\"data row13 col0\" >kurtosis</td>\n",
       "      <td id=\"T_7231e_row13_col1\" class=\"data row13 col1\" >0.626904</td>\n",
       "    </tr>\n",
       "  </tbody>\n",
       "</table>\n"
      ],
      "text/plain": [
       "<pandas.io.formats.style.Styler at 0x127d41ed460>"
      ]
     },
     "execution_count": 61,
     "metadata": {},
     "output_type": "execute_result"
    }
   ],
   "source": [
    "# Deskripsi Statistika pH\n",
    "soal1('pH')"
   ]
  },
  {
   "cell_type": "code",
   "execution_count": 62,
   "metadata": {},
   "outputs": [
    {
     "data": {
      "text/html": [
       "<style type=\"text/css\">\n",
       "</style>\n",
       "<table id=\"T_e8ae5\" style='display:inline'>\n",
       "  <caption>Deskripsi Statistik Hardness</caption>\n",
       "  <thead>\n",
       "    <tr>\n",
       "      <th class=\"blank level0\" >&nbsp;</th>\n",
       "      <th id=\"T_e8ae5_level0_col0\" class=\"col_heading level0 col0\" >0</th>\n",
       "      <th id=\"T_e8ae5_level0_col1\" class=\"col_heading level0 col1\" >1</th>\n",
       "    </tr>\n",
       "  </thead>\n",
       "  <tbody>\n",
       "    <tr>\n",
       "      <th id=\"T_e8ae5_level0_row0\" class=\"row_heading level0 row0\" >0</th>\n",
       "      <td id=\"T_e8ae5_row0_col0\" class=\"data row0 col0\" >mean</td>\n",
       "      <td id=\"T_e8ae5_row0_col1\" class=\"data row0 col1\" >195.969209</td>\n",
       "    </tr>\n",
       "    <tr>\n",
       "      <th id=\"T_e8ae5_level0_row1\" class=\"row_heading level0 row1\" >1</th>\n",
       "      <td id=\"T_e8ae5_row1_col0\" class=\"data row1 col0\" >median</td>\n",
       "      <td id=\"T_e8ae5_row1_col1\" class=\"data row1 col1\" >197.203525</td>\n",
       "    </tr>\n",
       "    <tr>\n",
       "      <th id=\"T_e8ae5_level0_row2\" class=\"row_heading level0 row2\" >2</th>\n",
       "      <td id=\"T_e8ae5_row2_col0\" class=\"data row2 col0\" >modus</td>\n",
       "      <td id=\"T_e8ae5_row2_col1\" class=\"data row2 col1\" >[ 73.49223369  77.4595861   81.71089527 ... 300.2924758  306.62748142\n",
       " 317.33812406]</td>\n",
       "    </tr>\n",
       "    <tr>\n",
       "      <th id=\"T_e8ae5_level0_row3\" class=\"row_heading level0 row3\" >3</th>\n",
       "      <td id=\"T_e8ae5_row3_col0\" class=\"data row3 col0\" >standar deviasi</td>\n",
       "      <td id=\"T_e8ae5_row3_col1\" class=\"data row3 col1\" >32.643166</td>\n",
       "    </tr>\n",
       "    <tr>\n",
       "      <th id=\"T_e8ae5_level0_row4\" class=\"row_heading level0 row4\" >4</th>\n",
       "      <td id=\"T_e8ae5_row4_col0\" class=\"data row4 col0\" >variansi</td>\n",
       "      <td id=\"T_e8ae5_row4_col1\" class=\"data row4 col1\" >1065.576277</td>\n",
       "    </tr>\n",
       "    <tr>\n",
       "      <th id=\"T_e8ae5_level0_row5\" class=\"row_heading level0 row5\" >5</th>\n",
       "      <td id=\"T_e8ae5_row5_col0\" class=\"data row5 col0\" >range</td>\n",
       "      <td id=\"T_e8ae5_row5_col1\" class=\"data row5 col1\" >243.845890</td>\n",
       "    </tr>\n",
       "    <tr>\n",
       "      <th id=\"T_e8ae5_level0_row6\" class=\"row_heading level0 row6\" >6</th>\n",
       "      <td id=\"T_e8ae5_row6_col0\" class=\"data row6 col0\" >minimum</td>\n",
       "      <td id=\"T_e8ae5_row6_col1\" class=\"data row6 col1\" >73.492234</td>\n",
       "    </tr>\n",
       "    <tr>\n",
       "      <th id=\"T_e8ae5_level0_row7\" class=\"row_heading level0 row7\" >7</th>\n",
       "      <td id=\"T_e8ae5_row7_col0\" class=\"data row7 col0\" >maksimum</td>\n",
       "      <td id=\"T_e8ae5_row7_col1\" class=\"data row7 col1\" >317.338124</td>\n",
       "    </tr>\n",
       "    <tr>\n",
       "      <th id=\"T_e8ae5_level0_row8\" class=\"row_heading level0 row8\" >8</th>\n",
       "      <td id=\"T_e8ae5_row8_col0\" class=\"data row8 col0\" >kuartil 1</td>\n",
       "      <td id=\"T_e8ae5_row8_col1\" class=\"data row8 col1\" >176.740657</td>\n",
       "    </tr>\n",
       "    <tr>\n",
       "      <th id=\"T_e8ae5_level0_row9\" class=\"row_heading level0 row9\" >9</th>\n",
       "      <td id=\"T_e8ae5_row9_col0\" class=\"data row9 col0\" >kuartil 2</td>\n",
       "      <td id=\"T_e8ae5_row9_col1\" class=\"data row9 col1\" >197.203525</td>\n",
       "    </tr>\n",
       "    <tr>\n",
       "      <th id=\"T_e8ae5_level0_row10\" class=\"row_heading level0 row10\" >10</th>\n",
       "      <td id=\"T_e8ae5_row10_col0\" class=\"data row10 col0\" >kuartil 3</td>\n",
       "      <td id=\"T_e8ae5_row10_col1\" class=\"data row10 col1\" >216.447589</td>\n",
       "    </tr>\n",
       "    <tr>\n",
       "      <th id=\"T_e8ae5_level0_row11\" class=\"row_heading level0 row11\" >11</th>\n",
       "      <td id=\"T_e8ae5_row11_col0\" class=\"data row11 col0\" >IQR</td>\n",
       "      <td id=\"T_e8ae5_row11_col1\" class=\"data row11 col1\" >39.706932</td>\n",
       "    </tr>\n",
       "    <tr>\n",
       "      <th id=\"T_e8ae5_level0_row12\" class=\"row_heading level0 row12\" >12</th>\n",
       "      <td id=\"T_e8ae5_row12_col0\" class=\"data row12 col0\" >skewness</td>\n",
       "      <td id=\"T_e8ae5_row12_col1\" class=\"data row12 col1\" >-0.085321</td>\n",
       "    </tr>\n",
       "    <tr>\n",
       "      <th id=\"T_e8ae5_level0_row13\" class=\"row_heading level0 row13\" >13</th>\n",
       "      <td id=\"T_e8ae5_row13_col0\" class=\"data row13 col0\" >kurtosis</td>\n",
       "      <td id=\"T_e8ae5_row13_col1\" class=\"data row13 col1\" >0.525480</td>\n",
       "    </tr>\n",
       "  </tbody>\n",
       "</table>\n"
      ],
      "text/plain": [
       "<pandas.io.formats.style.Styler at 0x127d41970d0>"
      ]
     },
     "execution_count": 62,
     "metadata": {},
     "output_type": "execute_result"
    }
   ],
   "source": [
    "# Deskripsi Statistika Hardness\n",
    "soal1('Hardness')"
   ]
  },
  {
   "cell_type": "code",
   "execution_count": 63,
   "metadata": {},
   "outputs": [
    {
     "data": {
      "text/html": [
       "<style type=\"text/css\">\n",
       "</style>\n",
       "<table id=\"T_36f2b\" style='display:inline'>\n",
       "  <caption>Deskripsi Statistik Solids</caption>\n",
       "  <thead>\n",
       "    <tr>\n",
       "      <th class=\"blank level0\" >&nbsp;</th>\n",
       "      <th id=\"T_36f2b_level0_col0\" class=\"col_heading level0 col0\" >0</th>\n",
       "      <th id=\"T_36f2b_level0_col1\" class=\"col_heading level0 col1\" >1</th>\n",
       "    </tr>\n",
       "  </thead>\n",
       "  <tbody>\n",
       "    <tr>\n",
       "      <th id=\"T_36f2b_level0_row0\" class=\"row_heading level0 row0\" >0</th>\n",
       "      <td id=\"T_36f2b_row0_col0\" class=\"data row0 col0\" >mean</td>\n",
       "      <td id=\"T_36f2b_row0_col1\" class=\"data row0 col1\" >21904.673439</td>\n",
       "    </tr>\n",
       "    <tr>\n",
       "      <th id=\"T_36f2b_level0_row1\" class=\"row_heading level0 row1\" >1</th>\n",
       "      <td id=\"T_36f2b_row1_col0\" class=\"data row1 col0\" >median</td>\n",
       "      <td id=\"T_36f2b_row1_col1\" class=\"data row1 col1\" >20926.882155</td>\n",
       "    </tr>\n",
       "    <tr>\n",
       "      <th id=\"T_36f2b_level0_row2\" class=\"row_heading level0 row2\" >2</th>\n",
       "      <td id=\"T_36f2b_row2_col0\" class=\"data row2 col0\" >modus</td>\n",
       "      <td id=\"T_36f2b_row2_col1\" class=\"data row2 col1\" >[  320.94261127  1198.94369901  1351.9069791  ... 55334.70279929\n",
       " 56351.39630372 56488.67241274]</td>\n",
       "    </tr>\n",
       "    <tr>\n",
       "      <th id=\"T_36f2b_level0_row3\" class=\"row_heading level0 row3\" >3</th>\n",
       "      <td id=\"T_36f2b_row3_col0\" class=\"data row3 col0\" >standar deviasi</td>\n",
       "      <td id=\"T_36f2b_row3_col1\" class=\"data row3 col1\" >8625.397911</td>\n",
       "    </tr>\n",
       "    <tr>\n",
       "      <th id=\"T_36f2b_level0_row4\" class=\"row_heading level0 row4\" >4</th>\n",
       "      <td id=\"T_36f2b_row4_col0\" class=\"data row4 col0\" >variansi</td>\n",
       "      <td id=\"T_36f2b_row4_col1\" class=\"data row4 col1\" >74397489.126371</td>\n",
       "    </tr>\n",
       "    <tr>\n",
       "      <th id=\"T_36f2b_level0_row5\" class=\"row_heading level0 row5\" >5</th>\n",
       "      <td id=\"T_36f2b_row5_col0\" class=\"data row5 col0\" >range</td>\n",
       "      <td id=\"T_36f2b_row5_col1\" class=\"data row5 col1\" >56167.729801</td>\n",
       "    </tr>\n",
       "    <tr>\n",
       "      <th id=\"T_36f2b_level0_row6\" class=\"row_heading level0 row6\" >6</th>\n",
       "      <td id=\"T_36f2b_row6_col0\" class=\"data row6 col0\" >minimum</td>\n",
       "      <td id=\"T_36f2b_row6_col1\" class=\"data row6 col1\" >320.942611</td>\n",
       "    </tr>\n",
       "    <tr>\n",
       "      <th id=\"T_36f2b_level0_row7\" class=\"row_heading level0 row7\" >7</th>\n",
       "      <td id=\"T_36f2b_row7_col0\" class=\"data row7 col0\" >maksimum</td>\n",
       "      <td id=\"T_36f2b_row7_col1\" class=\"data row7 col1\" >56488.672413</td>\n",
       "    </tr>\n",
       "    <tr>\n",
       "      <th id=\"T_36f2b_level0_row8\" class=\"row_heading level0 row8\" >8</th>\n",
       "      <td id=\"T_36f2b_row8_col0\" class=\"data row8 col0\" >kuartil 1</td>\n",
       "      <td id=\"T_36f2b_row8_col1\" class=\"data row8 col1\" >15614.412962</td>\n",
       "    </tr>\n",
       "    <tr>\n",
       "      <th id=\"T_36f2b_level0_row9\" class=\"row_heading level0 row9\" >9</th>\n",
       "      <td id=\"T_36f2b_row9_col0\" class=\"data row9 col0\" >kuartil 2</td>\n",
       "      <td id=\"T_36f2b_row9_col1\" class=\"data row9 col1\" >20926.882155</td>\n",
       "    </tr>\n",
       "    <tr>\n",
       "      <th id=\"T_36f2b_level0_row10\" class=\"row_heading level0 row10\" >10</th>\n",
       "      <td id=\"T_36f2b_row10_col0\" class=\"data row10 col0\" >kuartil 3</td>\n",
       "      <td id=\"T_36f2b_row10_col1\" class=\"data row10 col1\" >27170.534649</td>\n",
       "    </tr>\n",
       "    <tr>\n",
       "      <th id=\"T_36f2b_level0_row11\" class=\"row_heading level0 row11\" >11</th>\n",
       "      <td id=\"T_36f2b_row11_col0\" class=\"data row11 col0\" >IQR</td>\n",
       "      <td id=\"T_36f2b_row11_col1\" class=\"data row11 col1\" >11556.121687</td>\n",
       "    </tr>\n",
       "    <tr>\n",
       "      <th id=\"T_36f2b_level0_row12\" class=\"row_heading level0 row12\" >12</th>\n",
       "      <td id=\"T_36f2b_row12_col0\" class=\"data row12 col0\" >skewness</td>\n",
       "      <td id=\"T_36f2b_row12_col1\" class=\"data row12 col1\" >0.591011</td>\n",
       "    </tr>\n",
       "    <tr>\n",
       "      <th id=\"T_36f2b_level0_row13\" class=\"row_heading level0 row13\" >13</th>\n",
       "      <td id=\"T_36f2b_row13_col0\" class=\"data row13 col0\" >kurtosis</td>\n",
       "      <td id=\"T_36f2b_row13_col1\" class=\"data row13 col1\" >0.337320</td>\n",
       "    </tr>\n",
       "  </tbody>\n",
       "</table>\n"
      ],
      "text/plain": [
       "<pandas.io.formats.style.Styler at 0x127d41970a0>"
      ]
     },
     "execution_count": 63,
     "metadata": {},
     "output_type": "execute_result"
    }
   ],
   "source": [
    "# Deskripsi Statistika Solids\n",
    "soal1('Solids')"
   ]
  },
  {
   "cell_type": "code",
   "execution_count": 64,
   "metadata": {},
   "outputs": [
    {
     "data": {
      "text/html": [
       "<style type=\"text/css\">\n",
       "</style>\n",
       "<table id=\"T_e554f\" style='display:inline'>\n",
       "  <caption>Deskripsi Statistik Chrolomines</caption>\n",
       "  <thead>\n",
       "    <tr>\n",
       "      <th class=\"blank level0\" >&nbsp;</th>\n",
       "      <th id=\"T_e554f_level0_col0\" class=\"col_heading level0 col0\" >0</th>\n",
       "      <th id=\"T_e554f_level0_col1\" class=\"col_heading level0 col1\" >1</th>\n",
       "    </tr>\n",
       "  </thead>\n",
       "  <tbody>\n",
       "    <tr>\n",
       "      <th id=\"T_e554f_level0_row0\" class=\"row_heading level0 row0\" >0</th>\n",
       "      <td id=\"T_e554f_row0_col0\" class=\"data row0 col0\" >mean</td>\n",
       "      <td id=\"T_e554f_row0_col1\" class=\"data row0 col1\" >7.134322</td>\n",
       "    </tr>\n",
       "    <tr>\n",
       "      <th id=\"T_e554f_level0_row1\" class=\"row_heading level0 row1\" >1</th>\n",
       "      <td id=\"T_e554f_row1_col0\" class=\"data row1 col0\" >median</td>\n",
       "      <td id=\"T_e554f_row1_col1\" class=\"data row1 col1\" >7.142014</td>\n",
       "    </tr>\n",
       "    <tr>\n",
       "      <th id=\"T_e554f_level0_row2\" class=\"row_heading level0 row2\" >2</th>\n",
       "      <td id=\"T_e554f_row2_col0\" class=\"data row2 col0\" >modus</td>\n",
       "      <td id=\"T_e554f_row2_col1\" class=\"data row2 col1\" >[ 1.3908709   1.92027145  2.39798499 ... 12.65336202 13.04380611\n",
       " 13.127     ]</td>\n",
       "    </tr>\n",
       "    <tr>\n",
       "      <th id=\"T_e554f_level0_row3\" class=\"row_heading level0 row3\" >3</th>\n",
       "      <td id=\"T_e554f_row3_col0\" class=\"data row3 col0\" >standar deviasi</td>\n",
       "      <td id=\"T_e554f_row3_col1\" class=\"data row3 col1\" >1.585214</td>\n",
       "    </tr>\n",
       "    <tr>\n",
       "      <th id=\"T_e554f_level0_row4\" class=\"row_heading level0 row4\" >4</th>\n",
       "      <td id=\"T_e554f_row4_col0\" class=\"data row4 col0\" >variansi</td>\n",
       "      <td id=\"T_e554f_row4_col1\" class=\"data row4 col1\" >2.512904</td>\n",
       "    </tr>\n",
       "    <tr>\n",
       "      <th id=\"T_e554f_level0_row5\" class=\"row_heading level0 row5\" >5</th>\n",
       "      <td id=\"T_e554f_row5_col0\" class=\"data row5 col0\" >range</td>\n",
       "      <td id=\"T_e554f_row5_col1\" class=\"data row5 col1\" >11.736129</td>\n",
       "    </tr>\n",
       "    <tr>\n",
       "      <th id=\"T_e554f_level0_row6\" class=\"row_heading level0 row6\" >6</th>\n",
       "      <td id=\"T_e554f_row6_col0\" class=\"data row6 col0\" >minimum</td>\n",
       "      <td id=\"T_e554f_row6_col1\" class=\"data row6 col1\" >1.390871</td>\n",
       "    </tr>\n",
       "    <tr>\n",
       "      <th id=\"T_e554f_level0_row7\" class=\"row_heading level0 row7\" >7</th>\n",
       "      <td id=\"T_e554f_row7_col0\" class=\"data row7 col0\" >maksimum</td>\n",
       "      <td id=\"T_e554f_row7_col1\" class=\"data row7 col1\" >13.127000</td>\n",
       "    </tr>\n",
       "    <tr>\n",
       "      <th id=\"T_e554f_level0_row8\" class=\"row_heading level0 row8\" >8</th>\n",
       "      <td id=\"T_e554f_row8_col0\" class=\"data row8 col0\" >kuartil 1</td>\n",
       "      <td id=\"T_e554f_row8_col1\" class=\"data row8 col1\" >6.138326</td>\n",
       "    </tr>\n",
       "    <tr>\n",
       "      <th id=\"T_e554f_level0_row9\" class=\"row_heading level0 row9\" >9</th>\n",
       "      <td id=\"T_e554f_row9_col0\" class=\"data row9 col0\" >kuartil 2</td>\n",
       "      <td id=\"T_e554f_row9_col1\" class=\"data row9 col1\" >7.142014</td>\n",
       "    </tr>\n",
       "    <tr>\n",
       "      <th id=\"T_e554f_level0_row10\" class=\"row_heading level0 row10\" >10</th>\n",
       "      <td id=\"T_e554f_row10_col0\" class=\"data row10 col0\" >kuartil 3</td>\n",
       "      <td id=\"T_e554f_row10_col1\" class=\"data row10 col1\" >8.109933</td>\n",
       "    </tr>\n",
       "    <tr>\n",
       "      <th id=\"T_e554f_level0_row11\" class=\"row_heading level0 row11\" >11</th>\n",
       "      <td id=\"T_e554f_row11_col0\" class=\"data row11 col0\" >IQR</td>\n",
       "      <td id=\"T_e554f_row11_col1\" class=\"data row11 col1\" >1.971607</td>\n",
       "    </tr>\n",
       "    <tr>\n",
       "      <th id=\"T_e554f_level0_row12\" class=\"row_heading level0 row12\" >12</th>\n",
       "      <td id=\"T_e554f_row12_col0\" class=\"data row12 col0\" >skewness</td>\n",
       "      <td id=\"T_e554f_row12_col1\" class=\"data row12 col1\" >0.013003</td>\n",
       "    </tr>\n",
       "    <tr>\n",
       "      <th id=\"T_e554f_level0_row13\" class=\"row_heading level0 row13\" >13</th>\n",
       "      <td id=\"T_e554f_row13_col0\" class=\"data row13 col0\" >kurtosis</td>\n",
       "      <td id=\"T_e554f_row13_col1\" class=\"data row13 col1\" >0.549782</td>\n",
       "    </tr>\n",
       "  </tbody>\n",
       "</table>\n"
      ],
      "text/plain": [
       "<pandas.io.formats.style.Styler at 0x127d1e5b3a0>"
      ]
     },
     "execution_count": 64,
     "metadata": {},
     "output_type": "execute_result"
    }
   ],
   "source": [
    "# Deskripsi Statistika Chrolomines\n",
    "soal1('Chrolomines')"
   ]
  },
  {
   "cell_type": "code",
   "execution_count": 65,
   "metadata": {},
   "outputs": [
    {
     "data": {
      "text/html": [
       "<style type=\"text/css\">\n",
       "</style>\n",
       "<table id=\"T_b509f\" style='display:inline'>\n",
       "  <caption>Deskripsi Statistik Sulfate</caption>\n",
       "  <thead>\n",
       "    <tr>\n",
       "      <th class=\"blank level0\" >&nbsp;</th>\n",
       "      <th id=\"T_b509f_level0_col0\" class=\"col_heading level0 col0\" >0</th>\n",
       "      <th id=\"T_b509f_level0_col1\" class=\"col_heading level0 col1\" >1</th>\n",
       "    </tr>\n",
       "  </thead>\n",
       "  <tbody>\n",
       "    <tr>\n",
       "      <th id=\"T_b509f_level0_row0\" class=\"row_heading level0 row0\" >0</th>\n",
       "      <td id=\"T_b509f_row0_col0\" class=\"data row0 col0\" >mean</td>\n",
       "      <td id=\"T_b509f_row0_col1\" class=\"data row0 col1\" >333.211376</td>\n",
       "    </tr>\n",
       "    <tr>\n",
       "      <th id=\"T_b509f_level0_row1\" class=\"row_heading level0 row1\" >1</th>\n",
       "      <td id=\"T_b509f_row1_col0\" class=\"data row1 col0\" >median</td>\n",
       "      <td id=\"T_b509f_row1_col1\" class=\"data row1 col1\" >332.214113</td>\n",
       "    </tr>\n",
       "    <tr>\n",
       "      <th id=\"T_b509f_level0_row2\" class=\"row_heading level0 row2\" >2</th>\n",
       "      <td id=\"T_b509f_row2_col0\" class=\"data row2 col0\" >modus</td>\n",
       "      <td id=\"T_b509f_row2_col1\" class=\"data row2 col1\" >[129.         180.20674636 182.39737025 ... 475.73746015 476.53971733\n",
       " 481.03064231]</td>\n",
       "    </tr>\n",
       "    <tr>\n",
       "      <th id=\"T_b509f_level0_row3\" class=\"row_heading level0 row3\" >3</th>\n",
       "      <td id=\"T_b509f_row3_col0\" class=\"data row3 col0\" >standar deviasi</td>\n",
       "      <td id=\"T_b509f_row3_col1\" class=\"data row3 col1\" >41.211111</td>\n",
       "    </tr>\n",
       "    <tr>\n",
       "      <th id=\"T_b509f_level0_row4\" class=\"row_heading level0 row4\" >4</th>\n",
       "      <td id=\"T_b509f_row4_col0\" class=\"data row4 col0\" >variansi</td>\n",
       "      <td id=\"T_b509f_row4_col1\" class=\"data row4 col1\" >1698.355672</td>\n",
       "    </tr>\n",
       "    <tr>\n",
       "      <th id=\"T_b509f_level0_row5\" class=\"row_heading level0 row5\" >5</th>\n",
       "      <td id=\"T_b509f_row5_col0\" class=\"data row5 col0\" >range</td>\n",
       "      <td id=\"T_b509f_row5_col1\" class=\"data row5 col1\" >352.030642</td>\n",
       "    </tr>\n",
       "    <tr>\n",
       "      <th id=\"T_b509f_level0_row6\" class=\"row_heading level0 row6\" >6</th>\n",
       "      <td id=\"T_b509f_row6_col0\" class=\"data row6 col0\" >minimum</td>\n",
       "      <td id=\"T_b509f_row6_col1\" class=\"data row6 col1\" >129.000000</td>\n",
       "    </tr>\n",
       "    <tr>\n",
       "      <th id=\"T_b509f_level0_row7\" class=\"row_heading level0 row7\" >7</th>\n",
       "      <td id=\"T_b509f_row7_col0\" class=\"data row7 col0\" >maksimum</td>\n",
       "      <td id=\"T_b509f_row7_col1\" class=\"data row7 col1\" >481.030642</td>\n",
       "    </tr>\n",
       "    <tr>\n",
       "      <th id=\"T_b509f_level0_row8\" class=\"row_heading level0 row8\" >8</th>\n",
       "      <td id=\"T_b509f_row8_col0\" class=\"data row8 col0\" >kuartil 1</td>\n",
       "      <td id=\"T_b509f_row8_col1\" class=\"data row8 col1\" >307.626986</td>\n",
       "    </tr>\n",
       "    <tr>\n",
       "      <th id=\"T_b509f_level0_row9\" class=\"row_heading level0 row9\" >9</th>\n",
       "      <td id=\"T_b509f_row9_col0\" class=\"data row9 col0\" >kuartil 2</td>\n",
       "      <td id=\"T_b509f_row9_col1\" class=\"data row9 col1\" >332.214113</td>\n",
       "    </tr>\n",
       "    <tr>\n",
       "      <th id=\"T_b509f_level0_row10\" class=\"row_heading level0 row10\" >10</th>\n",
       "      <td id=\"T_b509f_row10_col0\" class=\"data row10 col0\" >kuartil 3</td>\n",
       "      <td id=\"T_b509f_row10_col1\" class=\"data row10 col1\" >359.268147</td>\n",
       "    </tr>\n",
       "    <tr>\n",
       "      <th id=\"T_b509f_level0_row11\" class=\"row_heading level0 row11\" >11</th>\n",
       "      <td id=\"T_b509f_row11_col0\" class=\"data row11 col0\" >IQR</td>\n",
       "      <td id=\"T_b509f_row11_col1\" class=\"data row11 col1\" >51.641161</td>\n",
       "    </tr>\n",
       "    <tr>\n",
       "      <th id=\"T_b509f_level0_row12\" class=\"row_heading level0 row12\" >12</th>\n",
       "      <td id=\"T_b509f_row12_col0\" class=\"data row12 col0\" >skewness</td>\n",
       "      <td id=\"T_b509f_row12_col1\" class=\"data row12 col1\" >-0.045728</td>\n",
       "    </tr>\n",
       "    <tr>\n",
       "      <th id=\"T_b509f_level0_row13\" class=\"row_heading level0 row13\" >13</th>\n",
       "      <td id=\"T_b509f_row13_col0\" class=\"data row13 col0\" >kurtosis</td>\n",
       "      <td id=\"T_b509f_row13_col1\" class=\"data row13 col1\" >0.786854</td>\n",
       "    </tr>\n",
       "  </tbody>\n",
       "</table>\n"
      ],
      "text/plain": [
       "<pandas.io.formats.style.Styler at 0x127d4218dc0>"
      ]
     },
     "execution_count": 65,
     "metadata": {},
     "output_type": "execute_result"
    }
   ],
   "source": [
    "# Deskripsi Statistika Sulfate\n",
    "soal1('Sulfate')"
   ]
  },
  {
   "cell_type": "code",
   "execution_count": 66,
   "metadata": {},
   "outputs": [
    {
     "data": {
      "text/html": [
       "<style type=\"text/css\">\n",
       "</style>\n",
       "<table id=\"T_6befe\" style='display:inline'>\n",
       "  <caption>Deskripsi Statistik Conductivity</caption>\n",
       "  <thead>\n",
       "    <tr>\n",
       "      <th class=\"blank level0\" >&nbsp;</th>\n",
       "      <th id=\"T_6befe_level0_col0\" class=\"col_heading level0 col0\" >0</th>\n",
       "      <th id=\"T_6befe_level0_col1\" class=\"col_heading level0 col1\" >1</th>\n",
       "    </tr>\n",
       "  </thead>\n",
       "  <tbody>\n",
       "    <tr>\n",
       "      <th id=\"T_6befe_level0_row0\" class=\"row_heading level0 row0\" >0</th>\n",
       "      <td id=\"T_6befe_row0_col0\" class=\"data row0 col0\" >mean</td>\n",
       "      <td id=\"T_6befe_row0_col1\" class=\"data row0 col1\" >426.476708</td>\n",
       "    </tr>\n",
       "    <tr>\n",
       "      <th id=\"T_6befe_level0_row1\" class=\"row_heading level0 row1\" >1</th>\n",
       "      <td id=\"T_6befe_row1_col0\" class=\"data row1 col0\" >median</td>\n",
       "      <td id=\"T_6befe_row1_col1\" class=\"data row1 col1\" >423.438372</td>\n",
       "    </tr>\n",
       "    <tr>\n",
       "      <th id=\"T_6befe_level0_row2\" class=\"row_heading level0 row2\" >2</th>\n",
       "      <td id=\"T_6befe_row2_col0\" class=\"data row2 col0\" >modus</td>\n",
       "      <td id=\"T_6befe_row2_col1\" class=\"data row2 col1\" >[201.61973676 210.31918197 233.90796511 ... 695.36952799 708.22636447\n",
       " 753.34261956]</td>\n",
       "    </tr>\n",
       "    <tr>\n",
       "      <th id=\"T_6befe_level0_row3\" class=\"row_heading level0 row3\" >3</th>\n",
       "      <td id=\"T_6befe_row3_col0\" class=\"data row3 col0\" >standar deviasi</td>\n",
       "      <td id=\"T_6befe_row3_col1\" class=\"data row3 col1\" >80.701872</td>\n",
       "    </tr>\n",
       "    <tr>\n",
       "      <th id=\"T_6befe_level0_row4\" class=\"row_heading level0 row4\" >4</th>\n",
       "      <td id=\"T_6befe_row4_col0\" class=\"data row4 col0\" >variansi</td>\n",
       "      <td id=\"T_6befe_row4_col1\" class=\"data row4 col1\" >6512.792113</td>\n",
       "    </tr>\n",
       "    <tr>\n",
       "      <th id=\"T_6befe_level0_row5\" class=\"row_heading level0 row5\" >5</th>\n",
       "      <td id=\"T_6befe_row5_col0\" class=\"data row5 col0\" >range</td>\n",
       "      <td id=\"T_6befe_row5_col1\" class=\"data row5 col1\" >551.722883</td>\n",
       "    </tr>\n",
       "    <tr>\n",
       "      <th id=\"T_6befe_level0_row6\" class=\"row_heading level0 row6\" >6</th>\n",
       "      <td id=\"T_6befe_row6_col0\" class=\"data row6 col0\" >minimum</td>\n",
       "      <td id=\"T_6befe_row6_col1\" class=\"data row6 col1\" >201.619737</td>\n",
       "    </tr>\n",
       "    <tr>\n",
       "      <th id=\"T_6befe_level0_row7\" class=\"row_heading level0 row7\" >7</th>\n",
       "      <td id=\"T_6befe_row7_col0\" class=\"data row7 col0\" >maksimum</td>\n",
       "      <td id=\"T_6befe_row7_col1\" class=\"data row7 col1\" >753.342620</td>\n",
       "    </tr>\n",
       "    <tr>\n",
       "      <th id=\"T_6befe_level0_row8\" class=\"row_heading level0 row8\" >8</th>\n",
       "      <td id=\"T_6befe_row8_col0\" class=\"data row8 col0\" >kuartil 1</td>\n",
       "      <td id=\"T_6befe_row8_col1\" class=\"data row8 col1\" >366.619219</td>\n",
       "    </tr>\n",
       "    <tr>\n",
       "      <th id=\"T_6befe_level0_row9\" class=\"row_heading level0 row9\" >9</th>\n",
       "      <td id=\"T_6befe_row9_col0\" class=\"data row9 col0\" >kuartil 2</td>\n",
       "      <td id=\"T_6befe_row9_col1\" class=\"data row9 col1\" >423.438372</td>\n",
       "    </tr>\n",
       "    <tr>\n",
       "      <th id=\"T_6befe_level0_row10\" class=\"row_heading level0 row10\" >10</th>\n",
       "      <td id=\"T_6befe_row10_col0\" class=\"data row10 col0\" >kuartil 3</td>\n",
       "      <td id=\"T_6befe_row10_col1\" class=\"data row10 col1\" >482.209772</td>\n",
       "    </tr>\n",
       "    <tr>\n",
       "      <th id=\"T_6befe_level0_row11\" class=\"row_heading level0 row11\" >11</th>\n",
       "      <td id=\"T_6befe_row11_col0\" class=\"data row11 col0\" >IQR</td>\n",
       "      <td id=\"T_6befe_row11_col1\" class=\"data row11 col1\" >115.590553</td>\n",
       "    </tr>\n",
       "    <tr>\n",
       "      <th id=\"T_6befe_level0_row12\" class=\"row_heading level0 row12\" >12</th>\n",
       "      <td id=\"T_6befe_row12_col0\" class=\"data row12 col0\" >skewness</td>\n",
       "      <td id=\"T_6befe_row12_col1\" class=\"data row12 col1\" >0.268012</td>\n",
       "    </tr>\n",
       "    <tr>\n",
       "      <th id=\"T_6befe_level0_row13\" class=\"row_heading level0 row13\" >13</th>\n",
       "      <td id=\"T_6befe_row13_col0\" class=\"data row13 col0\" >kurtosis</td>\n",
       "      <td id=\"T_6befe_row13_col1\" class=\"data row13 col1\" >-0.237206</td>\n",
       "    </tr>\n",
       "  </tbody>\n",
       "</table>\n"
      ],
      "text/plain": [
       "<pandas.io.formats.style.Styler at 0x127d421d130>"
      ]
     },
     "execution_count": 66,
     "metadata": {},
     "output_type": "execute_result"
    }
   ],
   "source": [
    "# Deskripsi Statistika Conductivity\n",
    "soal1('Conductivity')"
   ]
  },
  {
   "cell_type": "code",
   "execution_count": 67,
   "metadata": {},
   "outputs": [
    {
     "data": {
      "text/html": [
       "<style type=\"text/css\">\n",
       "</style>\n",
       "<table id=\"T_a899e\" style='display:inline'>\n",
       "  <caption>Deskripsi Statistik OrganicCarbon</caption>\n",
       "  <thead>\n",
       "    <tr>\n",
       "      <th class=\"blank level0\" >&nbsp;</th>\n",
       "      <th id=\"T_a899e_level0_col0\" class=\"col_heading level0 col0\" >0</th>\n",
       "      <th id=\"T_a899e_level0_col1\" class=\"col_heading level0 col1\" >1</th>\n",
       "    </tr>\n",
       "  </thead>\n",
       "  <tbody>\n",
       "    <tr>\n",
       "      <th id=\"T_a899e_level0_row0\" class=\"row_heading level0 row0\" >0</th>\n",
       "      <td id=\"T_a899e_row0_col0\" class=\"data row0 col0\" >mean</td>\n",
       "      <td id=\"T_a899e_row0_col1\" class=\"data row0 col1\" >14.357940</td>\n",
       "    </tr>\n",
       "    <tr>\n",
       "      <th id=\"T_a899e_level0_row1\" class=\"row_heading level0 row1\" >1</th>\n",
       "      <td id=\"T_a899e_row1_col0\" class=\"data row1 col0\" >median</td>\n",
       "      <td id=\"T_a899e_row1_col1\" class=\"data row1 col1\" >14.323286</td>\n",
       "    </tr>\n",
       "    <tr>\n",
       "      <th id=\"T_a899e_level0_row2\" class=\"row_heading level0 row2\" >2</th>\n",
       "      <td id=\"T_a899e_row2_col0\" class=\"data row2 col0\" >modus</td>\n",
       "      <td id=\"T_a899e_row2_col1\" class=\"data row2 col1\" >[ 2.2         4.37189861  4.46677197 ... 23.91760126 24.75539237\n",
       " 27.00670661]</td>\n",
       "    </tr>\n",
       "    <tr>\n",
       "      <th id=\"T_a899e_level0_row3\" class=\"row_heading level0 row3\" >3</th>\n",
       "      <td id=\"T_a899e_row3_col0\" class=\"data row3 col0\" >standar deviasi</td>\n",
       "      <td id=\"T_a899e_row3_col1\" class=\"data row3 col1\" >3.325770</td>\n",
       "    </tr>\n",
       "    <tr>\n",
       "      <th id=\"T_a899e_level0_row4\" class=\"row_heading level0 row4\" >4</th>\n",
       "      <td id=\"T_a899e_row4_col0\" class=\"data row4 col0\" >variansi</td>\n",
       "      <td id=\"T_a899e_row4_col1\" class=\"data row4 col1\" >11.060746</td>\n",
       "    </tr>\n",
       "    <tr>\n",
       "      <th id=\"T_a899e_level0_row5\" class=\"row_heading level0 row5\" >5</th>\n",
       "      <td id=\"T_a899e_row5_col0\" class=\"data row5 col0\" >range</td>\n",
       "      <td id=\"T_a899e_row5_col1\" class=\"data row5 col1\" >24.806707</td>\n",
       "    </tr>\n",
       "    <tr>\n",
       "      <th id=\"T_a899e_level0_row6\" class=\"row_heading level0 row6\" >6</th>\n",
       "      <td id=\"T_a899e_row6_col0\" class=\"data row6 col0\" >minimum</td>\n",
       "      <td id=\"T_a899e_row6_col1\" class=\"data row6 col1\" >2.200000</td>\n",
       "    </tr>\n",
       "    <tr>\n",
       "      <th id=\"T_a899e_level0_row7\" class=\"row_heading level0 row7\" >7</th>\n",
       "      <td id=\"T_a899e_row7_col0\" class=\"data row7 col0\" >maksimum</td>\n",
       "      <td id=\"T_a899e_row7_col1\" class=\"data row7 col1\" >27.006707</td>\n",
       "    </tr>\n",
       "    <tr>\n",
       "      <th id=\"T_a899e_level0_row8\" class=\"row_heading level0 row8\" >8</th>\n",
       "      <td id=\"T_a899e_row8_col0\" class=\"data row8 col0\" >kuartil 1</td>\n",
       "      <td id=\"T_a899e_row8_col1\" class=\"data row8 col1\" >12.122530</td>\n",
       "    </tr>\n",
       "    <tr>\n",
       "      <th id=\"T_a899e_level0_row9\" class=\"row_heading level0 row9\" >9</th>\n",
       "      <td id=\"T_a899e_row9_col0\" class=\"data row9 col0\" >kuartil 2</td>\n",
       "      <td id=\"T_a899e_row9_col1\" class=\"data row9 col1\" >14.323286</td>\n",
       "    </tr>\n",
       "    <tr>\n",
       "      <th id=\"T_a899e_level0_row10\" class=\"row_heading level0 row10\" >10</th>\n",
       "      <td id=\"T_a899e_row10_col0\" class=\"data row10 col0\" >kuartil 3</td>\n",
       "      <td id=\"T_a899e_row10_col1\" class=\"data row10 col1\" >16.683562</td>\n",
       "    </tr>\n",
       "    <tr>\n",
       "      <th id=\"T_a899e_level0_row11\" class=\"row_heading level0 row11\" >11</th>\n",
       "      <td id=\"T_a899e_row11_col0\" class=\"data row11 col0\" >IQR</td>\n",
       "      <td id=\"T_a899e_row11_col1\" class=\"data row11 col1\" >4.561031</td>\n",
       "    </tr>\n",
       "    <tr>\n",
       "      <th id=\"T_a899e_level0_row12\" class=\"row_heading level0 row12\" >12</th>\n",
       "      <td id=\"T_a899e_row12_col0\" class=\"data row12 col0\" >skewness</td>\n",
       "      <td id=\"T_a899e_row12_col1\" class=\"data row12 col1\" >-0.020220</td>\n",
       "    </tr>\n",
       "    <tr>\n",
       "      <th id=\"T_a899e_level0_row13\" class=\"row_heading level0 row13\" >13</th>\n",
       "      <td id=\"T_a899e_row13_col0\" class=\"data row13 col0\" >kurtosis</td>\n",
       "      <td id=\"T_a899e_row13_col1\" class=\"data row13 col1\" >0.031018</td>\n",
       "    </tr>\n",
       "  </tbody>\n",
       "</table>\n"
      ],
      "text/plain": [
       "<pandas.io.formats.style.Styler at 0x127d4197ac0>"
      ]
     },
     "execution_count": 67,
     "metadata": {},
     "output_type": "execute_result"
    }
   ],
   "source": [
    "# Deskripsi Statistika OrganicCarbon\n",
    "soal1('OrganicCarbon')"
   ]
  },
  {
   "cell_type": "code",
   "execution_count": 68,
   "metadata": {},
   "outputs": [
    {
     "data": {
      "text/html": [
       "<style type=\"text/css\">\n",
       "</style>\n",
       "<table id=\"T_0070d\" style='display:inline'>\n",
       "  <caption>Deskripsi Statistik Trihalometanes</caption>\n",
       "  <thead>\n",
       "    <tr>\n",
       "      <th class=\"blank level0\" >&nbsp;</th>\n",
       "      <th id=\"T_0070d_level0_col0\" class=\"col_heading level0 col0\" >0</th>\n",
       "      <th id=\"T_0070d_level0_col1\" class=\"col_heading level0 col1\" >1</th>\n",
       "    </tr>\n",
       "  </thead>\n",
       "  <tbody>\n",
       "    <tr>\n",
       "      <th id=\"T_0070d_level0_row0\" class=\"row_heading level0 row0\" >0</th>\n",
       "      <td id=\"T_0070d_row0_col0\" class=\"data row0 col0\" >mean</td>\n",
       "      <td id=\"T_0070d_row0_col1\" class=\"data row0 col1\" >66.400717</td>\n",
       "    </tr>\n",
       "    <tr>\n",
       "      <th id=\"T_0070d_level0_row1\" class=\"row_heading level0 row1\" >1</th>\n",
       "      <td id=\"T_0070d_row1_col0\" class=\"data row1 col0\" >median</td>\n",
       "      <td id=\"T_0070d_row1_col1\" class=\"data row1 col1\" >66.482041</td>\n",
       "    </tr>\n",
       "    <tr>\n",
       "      <th id=\"T_0070d_level0_row2\" class=\"row_heading level0 row2\" >2</th>\n",
       "      <td id=\"T_0070d_row2_col0\" class=\"data row2 col0\" >modus</td>\n",
       "      <td id=\"T_0070d_row2_col1\" class=\"data row2 col1\" >[  8.57701293  14.34316145  15.6848768  ... 116.16162156 120.03007701\n",
       " 124.        ]</td>\n",
       "    </tr>\n",
       "    <tr>\n",
       "      <th id=\"T_0070d_level0_row3\" class=\"row_heading level0 row3\" >3</th>\n",
       "      <td id=\"T_0070d_row3_col0\" class=\"data row3 col0\" >standar deviasi</td>\n",
       "      <td id=\"T_0070d_row3_col1\" class=\"data row3 col1\" >16.081109</td>\n",
       "    </tr>\n",
       "    <tr>\n",
       "      <th id=\"T_0070d_level0_row4\" class=\"row_heading level0 row4\" >4</th>\n",
       "      <td id=\"T_0070d_row4_col0\" class=\"data row4 col0\" >variansi</td>\n",
       "      <td id=\"T_0070d_row4_col1\" class=\"data row4 col1\" >258.602066</td>\n",
       "    </tr>\n",
       "    <tr>\n",
       "      <th id=\"T_0070d_level0_row5\" class=\"row_heading level0 row5\" >5</th>\n",
       "      <td id=\"T_0070d_row5_col0\" class=\"data row5 col0\" >range</td>\n",
       "      <td id=\"T_0070d_row5_col1\" class=\"data row5 col1\" >115.422987</td>\n",
       "    </tr>\n",
       "    <tr>\n",
       "      <th id=\"T_0070d_level0_row6\" class=\"row_heading level0 row6\" >6</th>\n",
       "      <td id=\"T_0070d_row6_col0\" class=\"data row6 col0\" >minimum</td>\n",
       "      <td id=\"T_0070d_row6_col1\" class=\"data row6 col1\" >8.577013</td>\n",
       "    </tr>\n",
       "    <tr>\n",
       "      <th id=\"T_0070d_level0_row7\" class=\"row_heading level0 row7\" >7</th>\n",
       "      <td id=\"T_0070d_row7_col0\" class=\"data row7 col0\" >maksimum</td>\n",
       "      <td id=\"T_0070d_row7_col1\" class=\"data row7 col1\" >124.000000</td>\n",
       "    </tr>\n",
       "    <tr>\n",
       "      <th id=\"T_0070d_level0_row8\" class=\"row_heading level0 row8\" >8</th>\n",
       "      <td id=\"T_0070d_row8_col0\" class=\"data row8 col0\" >kuartil 1</td>\n",
       "      <td id=\"T_0070d_row8_col1\" class=\"data row8 col1\" >55.949993</td>\n",
       "    </tr>\n",
       "    <tr>\n",
       "      <th id=\"T_0070d_level0_row9\" class=\"row_heading level0 row9\" >9</th>\n",
       "      <td id=\"T_0070d_row9_col0\" class=\"data row9 col0\" >kuartil 2</td>\n",
       "      <td id=\"T_0070d_row9_col1\" class=\"data row9 col1\" >66.482041</td>\n",
       "    </tr>\n",
       "    <tr>\n",
       "      <th id=\"T_0070d_level0_row10\" class=\"row_heading level0 row10\" >10</th>\n",
       "      <td id=\"T_0070d_row10_col0\" class=\"data row10 col0\" >kuartil 3</td>\n",
       "      <td id=\"T_0070d_row10_col1\" class=\"data row10 col1\" >77.294613</td>\n",
       "    </tr>\n",
       "    <tr>\n",
       "      <th id=\"T_0070d_level0_row11\" class=\"row_heading level0 row11\" >11</th>\n",
       "      <td id=\"T_0070d_row11_col0\" class=\"data row11 col0\" >IQR</td>\n",
       "      <td id=\"T_0070d_row11_col1\" class=\"data row11 col1\" >21.344620</td>\n",
       "    </tr>\n",
       "    <tr>\n",
       "      <th id=\"T_0070d_level0_row12\" class=\"row_heading level0 row12\" >12</th>\n",
       "      <td id=\"T_0070d_row12_col0\" class=\"data row12 col0\" >skewness</td>\n",
       "      <td id=\"T_0070d_row12_col1\" class=\"data row12 col1\" >-0.051383</td>\n",
       "    </tr>\n",
       "    <tr>\n",
       "      <th id=\"T_0070d_level0_row13\" class=\"row_heading level0 row13\" >13</th>\n",
       "      <td id=\"T_0070d_row13_col0\" class=\"data row13 col0\" >kurtosis</td>\n",
       "      <td id=\"T_0070d_row13_col1\" class=\"data row13 col1\" >0.223017</td>\n",
       "    </tr>\n",
       "  </tbody>\n",
       "</table>\n"
      ],
      "text/plain": [
       "<pandas.io.formats.style.Styler at 0x127d4178ca0>"
      ]
     },
     "execution_count": 68,
     "metadata": {},
     "output_type": "execute_result"
    }
   ],
   "source": [
    "# Deskripsi Statistika Trihalometanes\n",
    "soal1('Trihalometanes')"
   ]
  },
  {
   "cell_type": "code",
   "execution_count": 69,
   "metadata": {},
   "outputs": [
    {
     "data": {
      "text/html": [
       "<style type=\"text/css\">\n",
       "</style>\n",
       "<table id=\"T_27a26\" style='display:inline'>\n",
       "  <caption>Deskripsi Statistik Turbidity</caption>\n",
       "  <thead>\n",
       "    <tr>\n",
       "      <th class=\"blank level0\" >&nbsp;</th>\n",
       "      <th id=\"T_27a26_level0_col0\" class=\"col_heading level0 col0\" >0</th>\n",
       "      <th id=\"T_27a26_level0_col1\" class=\"col_heading level0 col1\" >1</th>\n",
       "    </tr>\n",
       "  </thead>\n",
       "  <tbody>\n",
       "    <tr>\n",
       "      <th id=\"T_27a26_level0_row0\" class=\"row_heading level0 row0\" >0</th>\n",
       "      <td id=\"T_27a26_row0_col0\" class=\"data row0 col0\" >mean</td>\n",
       "      <td id=\"T_27a26_row0_col1\" class=\"data row0 col1\" >3.969497</td>\n",
       "    </tr>\n",
       "    <tr>\n",
       "      <th id=\"T_27a26_level0_row1\" class=\"row_heading level0 row1\" >1</th>\n",
       "      <td id=\"T_27a26_row1_col0\" class=\"data row1 col0\" >median</td>\n",
       "      <td id=\"T_27a26_row1_col1\" class=\"data row1 col1\" >3.967374</td>\n",
       "    </tr>\n",
       "    <tr>\n",
       "      <th id=\"T_27a26_level0_row2\" class=\"row_heading level0 row2\" >2</th>\n",
       "      <td id=\"T_27a26_row2_col0\" class=\"data row2 col0\" >modus</td>\n",
       "      <td id=\"T_27a26_row2_col1\" class=\"data row2 col1\" >[1.45       1.49220662 1.49610094 ... 6.38916101 6.49424947 6.49474856]</td>\n",
       "    </tr>\n",
       "    <tr>\n",
       "      <th id=\"T_27a26_level0_row3\" class=\"row_heading level0 row3\" >3</th>\n",
       "      <td id=\"T_27a26_row3_col0\" class=\"data row3 col0\" >standar deviasi</td>\n",
       "      <td id=\"T_27a26_row3_col1\" class=\"data row3 col1\" >0.780471</td>\n",
       "    </tr>\n",
       "    <tr>\n",
       "      <th id=\"T_27a26_level0_row4\" class=\"row_heading level0 row4\" >4</th>\n",
       "      <td id=\"T_27a26_row4_col0\" class=\"data row4 col0\" >variansi</td>\n",
       "      <td id=\"T_27a26_row4_col1\" class=\"data row4 col1\" >0.609135</td>\n",
       "    </tr>\n",
       "    <tr>\n",
       "      <th id=\"T_27a26_level0_row5\" class=\"row_heading level0 row5\" >5</th>\n",
       "      <td id=\"T_27a26_row5_col0\" class=\"data row5 col0\" >range</td>\n",
       "      <td id=\"T_27a26_row5_col1\" class=\"data row5 col1\" >5.044749</td>\n",
       "    </tr>\n",
       "    <tr>\n",
       "      <th id=\"T_27a26_level0_row6\" class=\"row_heading level0 row6\" >6</th>\n",
       "      <td id=\"T_27a26_row6_col0\" class=\"data row6 col0\" >minimum</td>\n",
       "      <td id=\"T_27a26_row6_col1\" class=\"data row6 col1\" >1.450000</td>\n",
       "    </tr>\n",
       "    <tr>\n",
       "      <th id=\"T_27a26_level0_row7\" class=\"row_heading level0 row7\" >7</th>\n",
       "      <td id=\"T_27a26_row7_col0\" class=\"data row7 col0\" >maksimum</td>\n",
       "      <td id=\"T_27a26_row7_col1\" class=\"data row7 col1\" >6.494749</td>\n",
       "    </tr>\n",
       "    <tr>\n",
       "      <th id=\"T_27a26_level0_row8\" class=\"row_heading level0 row8\" >8</th>\n",
       "      <td id=\"T_27a26_row8_col0\" class=\"data row8 col0\" >kuartil 1</td>\n",
       "      <td id=\"T_27a26_row8_col1\" class=\"data row8 col1\" >3.442882</td>\n",
       "    </tr>\n",
       "    <tr>\n",
       "      <th id=\"T_27a26_level0_row9\" class=\"row_heading level0 row9\" >9</th>\n",
       "      <td id=\"T_27a26_row9_col0\" class=\"data row9 col0\" >kuartil 2</td>\n",
       "      <td id=\"T_27a26_row9_col1\" class=\"data row9 col1\" >3.967374</td>\n",
       "    </tr>\n",
       "    <tr>\n",
       "      <th id=\"T_27a26_level0_row10\" class=\"row_heading level0 row10\" >10</th>\n",
       "      <td id=\"T_27a26_row10_col0\" class=\"data row10 col0\" >kuartil 3</td>\n",
       "      <td id=\"T_27a26_row10_col1\" class=\"data row10 col1\" >4.514663</td>\n",
       "    </tr>\n",
       "    <tr>\n",
       "      <th id=\"T_27a26_level0_row11\" class=\"row_heading level0 row11\" >11</th>\n",
       "      <td id=\"T_27a26_row11_col0\" class=\"data row11 col0\" >IQR</td>\n",
       "      <td id=\"T_27a26_row11_col1\" class=\"data row11 col1\" >1.071781</td>\n",
       "    </tr>\n",
       "    <tr>\n",
       "      <th id=\"T_27a26_level0_row12\" class=\"row_heading level0 row12\" >12</th>\n",
       "      <td id=\"T_27a26_row12_col0\" class=\"data row12 col0\" >skewness</td>\n",
       "      <td id=\"T_27a26_row12_col1\" class=\"data row12 col1\" >-0.032266</td>\n",
       "    </tr>\n",
       "    <tr>\n",
       "      <th id=\"T_27a26_level0_row13\" class=\"row_heading level0 row13\" >13</th>\n",
       "      <td id=\"T_27a26_row13_col0\" class=\"data row13 col0\" >kurtosis</td>\n",
       "      <td id=\"T_27a26_row13_col1\" class=\"data row13 col1\" >-0.049831</td>\n",
       "    </tr>\n",
       "  </tbody>\n",
       "</table>\n"
      ],
      "text/plain": [
       "<pandas.io.formats.style.Styler at 0x127d3f0c370>"
      ]
     },
     "execution_count": 69,
     "metadata": {},
     "output_type": "execute_result"
    }
   ],
   "source": [
    "# Deskripsi Statistika Turbidity\n",
    "soal1('Turbidity')"
   ]
  },
  {
   "cell_type": "code",
   "execution_count": 70,
   "metadata": {},
   "outputs": [
    {
     "data": {
      "text/html": [
       "<style type=\"text/css\">\n",
       "</style>\n",
       "<table id=\"T_d8dd8\" style='display:inline'>\n",
       "  <caption>Deskripsi Statistik Potability</caption>\n",
       "  <thead>\n",
       "    <tr>\n",
       "      <th class=\"blank level0\" >&nbsp;</th>\n",
       "      <th id=\"T_d8dd8_level0_col0\" class=\"col_heading level0 col0\" >0</th>\n",
       "      <th id=\"T_d8dd8_level0_col1\" class=\"col_heading level0 col1\" >1</th>\n",
       "    </tr>\n",
       "  </thead>\n",
       "  <tbody>\n",
       "    <tr>\n",
       "      <th id=\"T_d8dd8_level0_row0\" class=\"row_heading level0 row0\" >0</th>\n",
       "      <td id=\"T_d8dd8_row0_col0\" class=\"data row0 col0\" >mean</td>\n",
       "      <td id=\"T_d8dd8_row0_col1\" class=\"data row0 col1\" >0.402985</td>\n",
       "    </tr>\n",
       "    <tr>\n",
       "      <th id=\"T_d8dd8_level0_row1\" class=\"row_heading level0 row1\" >1</th>\n",
       "      <td id=\"T_d8dd8_row1_col0\" class=\"data row1 col0\" >median</td>\n",
       "      <td id=\"T_d8dd8_row1_col1\" class=\"data row1 col1\" >0.000000</td>\n",
       "    </tr>\n",
       "    <tr>\n",
       "      <th id=\"T_d8dd8_level0_row2\" class=\"row_heading level0 row2\" >2</th>\n",
       "      <td id=\"T_d8dd8_row2_col0\" class=\"data row2 col0\" >modus</td>\n",
       "      <td id=\"T_d8dd8_row2_col1\" class=\"data row2 col1\" >[0]</td>\n",
       "    </tr>\n",
       "    <tr>\n",
       "      <th id=\"T_d8dd8_level0_row3\" class=\"row_heading level0 row3\" >3</th>\n",
       "      <td id=\"T_d8dd8_row3_col0\" class=\"data row3 col0\" >standar deviasi</td>\n",
       "      <td id=\"T_d8dd8_row3_col1\" class=\"data row3 col1\" >0.490620</td>\n",
       "    </tr>\n",
       "    <tr>\n",
       "      <th id=\"T_d8dd8_level0_row4\" class=\"row_heading level0 row4\" >4</th>\n",
       "      <td id=\"T_d8dd8_row4_col0\" class=\"data row4 col0\" >variansi</td>\n",
       "      <td id=\"T_d8dd8_row4_col1\" class=\"data row4 col1\" >0.240708</td>\n",
       "    </tr>\n",
       "    <tr>\n",
       "      <th id=\"T_d8dd8_level0_row5\" class=\"row_heading level0 row5\" >5</th>\n",
       "      <td id=\"T_d8dd8_row5_col0\" class=\"data row5 col0\" >range</td>\n",
       "      <td id=\"T_d8dd8_row5_col1\" class=\"data row5 col1\" >1</td>\n",
       "    </tr>\n",
       "    <tr>\n",
       "      <th id=\"T_d8dd8_level0_row6\" class=\"row_heading level0 row6\" >6</th>\n",
       "      <td id=\"T_d8dd8_row6_col0\" class=\"data row6 col0\" >minimum</td>\n",
       "      <td id=\"T_d8dd8_row6_col1\" class=\"data row6 col1\" >0</td>\n",
       "    </tr>\n",
       "    <tr>\n",
       "      <th id=\"T_d8dd8_level0_row7\" class=\"row_heading level0 row7\" >7</th>\n",
       "      <td id=\"T_d8dd8_row7_col0\" class=\"data row7 col0\" >maksimum</td>\n",
       "      <td id=\"T_d8dd8_row7_col1\" class=\"data row7 col1\" >1</td>\n",
       "    </tr>\n",
       "    <tr>\n",
       "      <th id=\"T_d8dd8_level0_row8\" class=\"row_heading level0 row8\" >8</th>\n",
       "      <td id=\"T_d8dd8_row8_col0\" class=\"data row8 col0\" >kuartil 1</td>\n",
       "      <td id=\"T_d8dd8_row8_col1\" class=\"data row8 col1\" >0.000000</td>\n",
       "    </tr>\n",
       "    <tr>\n",
       "      <th id=\"T_d8dd8_level0_row9\" class=\"row_heading level0 row9\" >9</th>\n",
       "      <td id=\"T_d8dd8_row9_col0\" class=\"data row9 col0\" >kuartil 2</td>\n",
       "      <td id=\"T_d8dd8_row9_col1\" class=\"data row9 col1\" >0.000000</td>\n",
       "    </tr>\n",
       "    <tr>\n",
       "      <th id=\"T_d8dd8_level0_row10\" class=\"row_heading level0 row10\" >10</th>\n",
       "      <td id=\"T_d8dd8_row10_col0\" class=\"data row10 col0\" >kuartil 3</td>\n",
       "      <td id=\"T_d8dd8_row10_col1\" class=\"data row10 col1\" >1.000000</td>\n",
       "    </tr>\n",
       "    <tr>\n",
       "      <th id=\"T_d8dd8_level0_row11\" class=\"row_heading level0 row11\" >11</th>\n",
       "      <td id=\"T_d8dd8_row11_col0\" class=\"data row11 col0\" >IQR</td>\n",
       "      <td id=\"T_d8dd8_row11_col1\" class=\"data row11 col1\" >1.000000</td>\n",
       "    </tr>\n",
       "    <tr>\n",
       "      <th id=\"T_d8dd8_level0_row12\" class=\"row_heading level0 row12\" >12</th>\n",
       "      <td id=\"T_d8dd8_row12_col0\" class=\"data row12 col0\" >skewness</td>\n",
       "      <td id=\"T_d8dd8_row12_col1\" class=\"data row12 col1\" >0.395873</td>\n",
       "    </tr>\n",
       "    <tr>\n",
       "      <th id=\"T_d8dd8_level0_row13\" class=\"row_heading level0 row13\" >13</th>\n",
       "      <td id=\"T_d8dd8_row13_col0\" class=\"data row13 col0\" >kurtosis</td>\n",
       "      <td id=\"T_d8dd8_row13_col1\" class=\"data row13 col1\" >-1.845122</td>\n",
       "    </tr>\n",
       "  </tbody>\n",
       "</table>\n"
      ],
      "text/plain": [
       "<pandas.io.formats.style.Styler at 0x127d1e74b50>"
      ]
     },
     "execution_count": 70,
     "metadata": {},
     "output_type": "execute_result"
    }
   ],
   "source": [
    "# Deskripsi Statistika Potability\n",
    "soal1('Potability')"
   ]
  },
  {
   "cell_type": "markdown",
   "metadata": {},
   "source": [
    "## 2. Membuat Visualisasi plot distribusi, dalam bentuk histogram dan boxplot untuk setiap kolom numerik. Berikan uraian penjelasan kondisi setiap kolom berdasarkan kedua plot tersebut."
   ]
  },
  {
   "cell_type": "code",
   "execution_count": 71,
   "metadata": {},
   "outputs": [],
   "source": [
    "#membuat procedure untuk menghasilkan histogram dan boxplot tiap kolom\n",
    "def boxnHist(column_name):\n",
    "    alpha = 0.05\n",
    "    # membuka file csv\n",
    "    path = '.\\water_potability.csv'\n",
    "    # menamakan kolom\n",
    "    df = pd.read_csv(path, names=[\"id\", \"pH\", \"Hardness\", \"Solids\", \"Chloromines\", \"Sulfate\", \"Conductivity\", \"OrganicCarbon\", \"Trihalomethanes\", \"Turbidity\", \"Potability\"])\n",
    "    df1=df[column_name]\n",
    "    #Membuat Histogram\n",
    "    print(\"Histogram :\")\n",
    "    df1.plot(kind='hist',edgecolor='black', color='#fff6ce', title=\"Histogram \"+ column_name, grid=True)\n",
    "    plt.show()\n",
    "    #Membuat Boxplot\n",
    "    print(\"Boxplot :\")\n",
    "    df.boxplot(column=column_name)\n",
    "    plt.show()\n",
    "    stat, p = s.shapiro(df1) #shapiro wilks\n",
    "    print(\"p = {:g}\".format(p))\n",
    "    if p <= alpha: #jika p value dibawah atau sama dengan alpha, maka tidak berdistribusi normal\n",
    "        print(\"Tidak berdistribusi normal\")\n",
    "    else:\n",
    "        print(\"Berdistribusi normal\")"
   ]
  },
  {
   "cell_type": "code",
   "execution_count": 72,
   "metadata": {},
   "outputs": [
    {
     "name": "stdout",
     "output_type": "stream",
     "text": [
      "Histogram :\n"
     ]
    },
    {
     "data": {
      "image/png": "[encoded data removed]",
      "text/plain": [
       "<Figure size 432x288 with 1 Axes>"
      ]
     },
     "metadata": {
      "needs_background": "light"
     },
     "output_type": "display_data"
    },
    {
     "name": "stdout",
     "output_type": "stream",
     "text": [
      "Boxplot :\n"
     ]
    },
    {
     "data": {
      "image/png": "[encoded data removed]",
      "text/plain": [
       "<Figure size 432x288 with 1 Axes>"
      ]
     },
     "metadata": {
      "needs_background": "light"
     },
     "output_type": "display_data"
    },
    {
     "name": "stdout",
     "output_type": "stream",
     "text": [
      "p = 1.86921e-24\n",
      "Tidak berdistribusi normal\n",
      "Berdasarkan histogram dan boxplot yang dihasilkan, kolom 'id' termasuk distribusi uniform\n"
     ]
    }
   ],
   "source": [
    "#Histogram dan Boxplot untuk kolom 'id'\n",
    "boxnHist(\"id\")\n",
    "print(\"Berdasarkan histogram dan boxplot yang dihasilkan, kolom 'id' termasuk distribusi uniform\")"
   ]
  },
  {
   "cell_type": "code",
   "execution_count": 73,
   "metadata": {},
   "outputs": [
    {
     "name": "stdout",
     "output_type": "stream",
     "text": [
      "Histogram :\n"
     ]
    },
    {
     "data": {
      "image/png": "[encoded data removed]",
      "text/plain": [
       "<Figure size 432x288 with 1 Axes>"
      ]
     },
     "metadata": {
      "needs_background": "light"
     },
     "output_type": "display_data"
    },
    {
     "name": "stdout",
     "output_type": "stream",
     "text": [
      "Boxplot :\n"
     ]
    },
    {
     "data": {
      "image/png": "[encoded data removed]",
      "text/plain": [
       "<Figure size 432x288 with 1 Axes>"
      ]
     },
     "metadata": {
      "needs_background": "light"
     },
     "output_type": "display_data"
    },
    {
     "name": "stdout",
     "output_type": "stream",
     "text": [
      "p = 8.88095e-05\n",
      "Tidak berdistribusi normal\n",
      "Berdasarkan histogram dan boxplot yang dihasilkan, kolom 'pH' memiliki distribusi tidak normal (berbentuk negative skewed) dan memiliki banyak pencilan (outliers) atas dan bawah\n"
     ]
    }
   ],
   "source": [
    "#Histogram dan Boxplot untuk kolom 'pH'\n",
    "boxnHist(\"pH\")\n",
    "print(\"Berdasarkan histogram dan boxplot yang dihasilkan, kolom 'pH' memiliki distribusi tidak normal (berbentuk negative skewed) dan memiliki banyak pencilan (outliers) atas dan bawah\")"
   ]
  },
  {
   "cell_type": "code",
   "execution_count": 74,
   "metadata": {},
   "outputs": [
    {
     "name": "stdout",
     "output_type": "stream",
     "text": [
      "Histogram :\n"
     ]
    },
    {
     "data": {
      "image/png": "[encoded data removed]",
      "text/plain": [
       "<Figure size 432x288 with 1 Axes>"
      ]
     },
     "metadata": {
      "needs_background": "light"
     },
     "output_type": "display_data"
    },
    {
     "name": "stdout",
     "output_type": "stream",
     "text": [
      "Boxplot :\n"
     ]
    },
    {
     "data": {
      "image/png": "[encoded data removed]",
      "text/plain": [
       "<Figure size 432x288 with 1 Axes>"
      ]
     },
     "metadata": {
      "needs_background": "light"
     },
     "output_type": "display_data"
    },
    {
     "name": "stdout",
     "output_type": "stream",
     "text": [
      "p = 1.31888e-05\n",
      "Tidak berdistribusi normal\n",
      "Berdasarkan histogram dan boxplot yang dihasilkan, kolom 'Hardness' memiliki distribusi tidak normal (berbentuk positive skewed) dan memiliki banyak pencilan (outliers) atas dan bawah\n"
     ]
    }
   ],
   "source": [
    "#Histogram dan Boxplot untuk kolom 'Hardness'\n",
    "boxnHist(\"Hardness\")\n",
    "print(\"Berdasarkan histogram dan boxplot yang dihasilkan, kolom 'Hardness' memiliki distribusi tidak normal (berbentuk positive skewed) dan memiliki banyak pencilan (outliers) atas dan bawah\")"
   ]
  },
  {
   "cell_type": "code",
   "execution_count": 75,
   "metadata": {},
   "outputs": [
    {
     "name": "stdout",
     "output_type": "stream",
     "text": [
      "Histogram :\n"
     ]
    },
    {
     "data": {
      "image/png": "[encoded data removed]",
      "text/plain": [
       "<Figure size 432x288 with 1 Axes>"
      ]
     },
     "metadata": {
      "needs_background": "light"
     },
     "output_type": "display_data"
    },
    {
     "name": "stdout",
     "output_type": "stream",
     "text": [
      "Boxplot :\n"
     ]
    },
    {
     "data": {
      "image/png": "[encoded data removed]",
      "text/plain": [
       "<Figure size 432x288 with 1 Axes>"
      ]
     },
     "metadata": {
      "needs_background": "light"
     },
     "output_type": "display_data"
    },
    {
     "name": "stdout",
     "output_type": "stream",
     "text": [
      "p = 1.41333e-16\n",
      "Tidak berdistribusi normal\n",
      "Berdasarkan histogram dan boxplot yang dihasilkan, kolom 'Solids' memiliki distribusi tidak normal (berbentuk positive skewed) dan hanya memiliki pencilan (outliers) atas\n"
     ]
    }
   ],
   "source": [
    "#Histogram dan Boxplot untuk kolom 'Solids'\n",
    "boxnHist(\"Solids\")\n",
    "print(\"Berdasarkan histogram dan boxplot yang dihasilkan, kolom 'Solids' memiliki distribusi tidak normal (berbentuk positive skewed) dan hanya memiliki pencilan (outliers) atas\")"
   ]
  },
  {
   "cell_type": "code",
   "execution_count": 76,
   "metadata": {},
   "outputs": [
    {
     "name": "stdout",
     "output_type": "stream",
     "text": [
      "Histogram :\n"
     ]
    },
    {
     "data": {
      "image/png": "[encoded data removed]",
      "text/plain": [
       "<Figure size 432x288 with 1 Axes>"
      ]
     },
     "metadata": {
      "needs_background": "light"
     },
     "output_type": "display_data"
    },
    {
     "name": "stdout",
     "output_type": "stream",
     "text": [
      "Boxplot :\n"
     ]
    },
    {
     "data": {
      "image/png": "[encoded data removed]",
      "text/plain": [
       "<Figure size 432x288 with 1 Axes>"
      ]
     },
     "metadata": {
      "needs_background": "light"
     },
     "output_type": "display_data"
    },
    {
     "name": "stdout",
     "output_type": "stream",
     "text": [
      "p = 3.57332e-05\n",
      "Tidak berdistribusi normal\n",
      "Berdasarkan histogram dan boxplot yang dihasilkan, kolom 'Chloromines' memiliki distribusi tidak normal (berbentuk positive skewed) dan memiliki banyak pencilan (outliers) atas dan bawah\n"
     ]
    }
   ],
   "source": [
    "#Histogram dan Boxplot untuk kolom 'Chloromines'\n",
    "boxnHist(\"Chloromines\")\n",
    "print(\"Berdasarkan histogram dan boxplot yang dihasilkan, kolom 'Chloromines' memiliki distribusi tidak normal (berbentuk positive skewed) dan memiliki banyak pencilan (outliers) atas dan bawah\")"
   ]
  },
  {
   "cell_type": "code",
   "execution_count": 77,
   "metadata": {},
   "outputs": [
    {
     "name": "stdout",
     "output_type": "stream",
     "text": [
      "Histogram :\n"
     ]
    },
    {
     "data": {
      "image/png": "[encoded data removed]",
      "text/plain": [
       "<Figure size 432x288 with 1 Axes>"
      ]
     },
     "metadata": {
      "needs_background": "light"
     },
     "output_type": "display_data"
    },
    {
     "name": "stdout",
     "output_type": "stream",
     "text": [
      "Boxplot :\n"
     ]
    },
    {
     "data": {
      "image/png": "[encoded data removed]",
      "text/plain": [
       "<Figure size 432x288 with 1 Axes>"
      ]
     },
     "metadata": {
      "needs_background": "light"
     },
     "output_type": "display_data"
    },
    {
     "name": "stdout",
     "output_type": "stream",
     "text": [
      "p = 8.84371e-07\n",
      "Tidak berdistribusi normal\n",
      "Berdasarkan histogram dan boxplot yang dihasilkan, kolom 'Sulfate' memiliki distribusi tidak normal (berbentuk negative skewed) dan memiliki banyak pencilan (outliers) atas dan bawah\n"
     ]
    }
   ],
   "source": [
    "#Histogram dan Boxplot untuk kolom 'Sulfate'\n",
    "boxnHist(\"Sulfate\")\n",
    "print(\"Berdasarkan histogram dan boxplot yang dihasilkan, kolom 'Sulfate' memiliki distribusi tidak normal (berbentuk negative skewed) dan memiliki banyak pencilan (outliers) atas dan bawah\")"
   ]
  },
  {
   "cell_type": "code",
   "execution_count": 78,
   "metadata": {},
   "outputs": [
    {
     "name": "stdout",
     "output_type": "stream",
     "text": [
      "Histogram :\n"
     ]
    },
    {
     "data": {
      "image/png": "[encoded data removed]",
      "text/plain": [
       "<Figure size 432x288 with 1 Axes>"
      ]
     },
     "metadata": {
      "needs_background": "light"
     },
     "output_type": "display_data"
    },
    {
     "name": "stdout",
     "output_type": "stream",
     "text": [
      "Boxplot :\n"
     ]
    },
    {
     "data": {
      "image/png": "[encoded data removed]",
      "text/plain": [
       "<Figure size 432x288 with 1 Axes>"
      ]
     },
     "metadata": {
      "needs_background": "light"
     },
     "output_type": "display_data"
    },
    {
     "name": "stdout",
     "output_type": "stream",
     "text": [
      "p = 2.08714e-08\n",
      "Tidak berdistribusi normal\n",
      "Berdasarkan histogram dan boxplot yang dihasilkan, kolom 'Conductivity' memiliki distribusi tidak normal (berbentuk positive skewed) dan memiliki beberapa pencilan (outliers) atas\n"
     ]
    }
   ],
   "source": [
    "#Histogram dan Boxplot untuk kolom 'Conductivity'\n",
    "boxnHist(\"Conductivity\")\n",
    "print(\"Berdasarkan histogram dan boxplot yang dihasilkan, kolom 'Conductivity' memiliki distribusi tidak normal (berbentuk positive skewed) dan memiliki beberapa pencilan (outliers) atas\")"
   ]
  },
  {
   "cell_type": "code",
   "execution_count": 79,
   "metadata": {},
   "outputs": [
    {
     "name": "stdout",
     "output_type": "stream",
     "text": [
      "Histogram :\n"
     ]
    },
    {
     "data": {
      "image/png": "[encoded data removed]",
      "text/plain": [
       "<Figure size 432x288 with 1 Axes>"
      ]
     },
     "metadata": {
      "needs_background": "light"
     },
     "output_type": "display_data"
    },
    {
     "name": "stdout",
     "output_type": "stream",
     "text": [
      "Boxplot :\n"
     ]
    },
    {
     "data": {
      "image/png": "[encoded data removed]",
      "text/plain": [
       "<Figure size 432x288 with 1 Axes>"
      ]
     },
     "metadata": {
      "needs_background": "light"
     },
     "output_type": "display_data"
    },
    {
     "name": "stdout",
     "output_type": "stream",
     "text": [
      "p = 0.628337\n",
      "Berdistribusi normal\n",
      "Berdasarkan histogram dan boxplot yang dihasilkan, kolom 'OrganicCarbon' memiliki distribusi normal (relatif simetris) dan memiliki banyak pencilan (outliers) atas dan bawah\n"
     ]
    }
   ],
   "source": [
    "#Histogram dan Boxplot untuk kolom 'OrganicCarbon'\n",
    "boxnHist(\"OrganicCarbon\")\n",
    "print(\"Berdasarkan histogram dan boxplot yang dihasilkan, kolom 'OrganicCarbon' memiliki distribusi normal (relatif simetris) dan memiliki banyak pencilan (outliers) atas dan bawah\")"
   ]
  },
  {
   "cell_type": "code",
   "execution_count": 80,
   "metadata": {},
   "outputs": [
    {
     "name": "stdout",
     "output_type": "stream",
     "text": [
      "Histogram :\n"
     ]
    },
    {
     "data": {
      "image/png": "[encoded data removed]",
      "text/plain": [
       "<Figure size 432x288 with 1 Axes>"
      ]
     },
     "metadata": {
      "needs_background": "light"
     },
     "output_type": "display_data"
    },
    {
     "name": "stdout",
     "output_type": "stream",
     "text": [
      "Boxplot :\n"
     ]
    },
    {
     "data": {
      "image/png": "[encoded data removed]",
      "text/plain": [
       "<Figure size 432x288 with 1 Axes>"
      ]
     },
     "metadata": {
      "needs_background": "light"
     },
     "output_type": "display_data"
    },
    {
     "name": "stdout",
     "output_type": "stream",
     "text": [
      "p = 0.1169\n",
      "Berdistribusi normal\n",
      "Berdasarkan histogram dan boxplot yang dihasilkan, kolom 'Trihalomethanes' memiliki distribusi normal (relatif simetris) dan memiliki banyak pencilan (outliers) atas dan bawah\n"
     ]
    }
   ],
   "source": [
    "#Histogram dan Boxplot untuk kolom 'Trihalomethanes'\n",
    "boxnHist(\"Trihalomethanes\")\n",
    "print(\"Berdasarkan histogram dan boxplot yang dihasilkan, kolom 'Trihalomethanes' memiliki distribusi normal (relatif simetris) dan memiliki banyak pencilan (outliers) atas dan bawah\")"
   ]
  },
  {
   "cell_type": "code",
   "execution_count": 81,
   "metadata": {},
   "outputs": [
    {
     "name": "stdout",
     "output_type": "stream",
     "text": [
      "Histogram :\n"
     ]
    },
    {
     "data": {
      "image/png": "[encoded data removed]",
      "text/plain": [
       "<Figure size 432x288 with 1 Axes>"
      ]
     },
     "metadata": {
      "needs_background": "light"
     },
     "output_type": "display_data"
    },
    {
     "name": "stdout",
     "output_type": "stream",
     "text": [
      "Boxplot :\n"
     ]
    },
    {
     "data": {
      "image/png": "[encoded data removed]",
      "text/plain": [
       "<Figure size 432x288 with 1 Axes>"
      ]
     },
     "metadata": {
      "needs_background": "light"
     },
     "output_type": "display_data"
    },
    {
     "name": "stdout",
     "output_type": "stream",
     "text": [
      "p = 0.687017\n",
      "Berdistribusi normal\n",
      "Berdasarkan histogram dan boxplot yang dihasilkan, kolom 'Turbidity' memiliki distribusi normal (relatif simetris) dan memiliki banyak pencilan (outliers) atas dan bawah\n"
     ]
    }
   ],
   "source": [
    "#Histogram dan Boxplot untuk kolom 'Turbidity'\n",
    "boxnHist(\"Turbidity\")\n",
    "print(\"Berdasarkan histogram dan boxplot yang dihasilkan, kolom 'Turbidity' memiliki distribusi normal (relatif simetris) dan memiliki banyak pencilan (outliers) atas dan bawah\")"
   ]
  },
  {
   "cell_type": "code",
   "execution_count": 82,
   "metadata": {},
   "outputs": [
    {
     "name": "stdout",
     "output_type": "stream",
     "text": [
      "Histogram :\n"
     ]
    },
    {
     "data": {
      "image/png": "[encoded data removed]",
      "text/plain": [
       "<Figure size 432x288 with 1 Axes>"
      ]
     },
     "metadata": {
      "needs_background": "light"
     },
     "output_type": "display_data"
    },
    {
     "name": "stdout",
     "output_type": "stream",
     "text": [
      "Boxplot :\n"
     ]
    },
    {
     "data": {
      "image/png": "[encoded data removed]",
      "text/plain": [
       "<Figure size 432x288 with 1 Axes>"
      ]
     },
     "metadata": {
      "needs_background": "light"
     },
     "output_type": "display_data"
    },
    {
     "name": "stdout",
     "output_type": "stream",
     "text": [
      "p = 0\n",
      "Tidak berdistribusi normal\n",
      "Berdasarkan histogram dan boxplot yang dihasilkan, kolom 'Potability' memiliki distribusi tidak normal (hanya memiliki nilai 0 atau 1 saja) dan tidak memiliki pencilan (outliers)\n"
     ]
    }
   ],
   "source": [
    "#Histogram dan Boxplot untuk kolom 'Potability'\n",
    "boxnHist(\"Potability\")\n",
    "print(\"Berdasarkan histogram dan boxplot yang dihasilkan, kolom 'Potability' memiliki distribusi tidak normal (hanya memiliki nilai 0 atau 1 saja) dan tidak memiliki pencilan (outliers)\")"
   ]
  },
  {
   "cell_type": "markdown",
   "metadata": {},
   "source": [
    "## 3.Menentukan setiap kolom numerik berdistribusi normal atau tidak. Gunakan normality test yang dikaitkan dengan histogram plot."
   ]
  },
  {
   "cell_type": "code",
   "execution_count": 83,
   "metadata": {},
   "outputs": [],
   "source": [
    "def soal3(label):\n",
    "    df = pd.read_csv(\"water_potability.csv\", names=[\"id\", \"pH\",\"Hardness\",\"Solids\",\"Chrolomines\",\"Sulfate\",\"Conductivity\",\"OrganicCarbon\",\"Trihalometanes\",\"Turbidity\",\"Potability\"])\n",
    "    statistic, p_val = s.normaltest(df[label])\n",
    "    print(\"Nilai P :\", p_val)\n",
    "    if p_val > 0.05:\n",
    "        print(\"Data {} berdistribusi normal\".format(label))\n",
    "    else:\n",
    "        print(\"Data {} tidak berdistribusi normal\".format(label))"
   ]
  },
  {
   "cell_type": "code",
   "execution_count": 84,
   "metadata": {},
   "outputs": [
    {
     "name": "stdout",
     "output_type": "stream",
     "text": [
      "Nilai P : 2.6514813346797777e-05\n",
      "Data pH tidak berdistribusi normal\n"
     ]
    }
   ],
   "source": [
    "soal3(\"pH\")"
   ]
  },
  {
   "cell_type": "code",
   "execution_count": 85,
   "metadata": {},
   "outputs": [
    {
     "name": "stdout",
     "output_type": "stream",
     "text": [
      "Nilai P : 0.00013442428699593753\n",
      "Data Hardness tidak berdistribusi normal\n"
     ]
    }
   ],
   "source": [
    "soal3(\"Hardness\")"
   ]
  },
  {
   "cell_type": "code",
   "execution_count": 86,
   "metadata": {},
   "outputs": [
    {
     "name": "stdout",
     "output_type": "stream",
     "text": [
      "Nilai P : 2.0796613688739523e-24\n",
      "Data Solids tidak berdistribusi normal\n"
     ]
    }
   ],
   "source": [
    "soal3(\"Solids\")"
   ]
  },
  {
   "cell_type": "code",
   "execution_count": 87,
   "metadata": {},
   "outputs": [
    {
     "name": "stdout",
     "output_type": "stream",
     "text": [
      "Nilai P : 0.0002504831654753917\n",
      "Data Chrolomines tidak berdistribusi normal\n"
     ]
    }
   ],
   "source": [
    "soal3(\"Chrolomines\")"
   ]
  },
  {
   "cell_type": "code",
   "execution_count": 88,
   "metadata": {},
   "outputs": [
    {
     "name": "stdout",
     "output_type": "stream",
     "text": [
      "Nilai P : 4.4255936678013136e-07\n",
      "Data Sulfate tidak berdistribusi normal\n"
     ]
    }
   ],
   "source": [
    "soal3(\"Sulfate\")"
   ]
  },
  {
   "cell_type": "code",
   "execution_count": 89,
   "metadata": {},
   "outputs": [
    {
     "name": "stdout",
     "output_type": "stream",
     "text": [
      "Nilai P : 4.39018078287845e-07\n",
      "Data Conductivity tidak berdistribusi normal\n"
     ]
    }
   ],
   "source": [
    "soal3(\"Conductivity\")"
   ]
  },
  {
   "cell_type": "code",
   "execution_count": 90,
   "metadata": {},
   "outputs": [
    {
     "name": "stdout",
     "output_type": "stream",
     "text": [
      "Nilai P : 0.8825496581408284\n",
      "Data OrganicCarbon berdistribusi normal\n"
     ]
    }
   ],
   "source": [
    "soal3(\"OrganicCarbon\")"
   ]
  },
  {
   "cell_type": "code",
   "execution_count": 91,
   "metadata": {},
   "outputs": [
    {
     "name": "stdout",
     "output_type": "stream",
     "text": [
      "Nilai P : 0.1043598441875204\n",
      "Data Trihalometanes berdistribusi normal\n"
     ]
    }
   ],
   "source": [
    "soal3(\"Trihalometanes\")"
   ]
  },
  {
   "cell_type": "code",
   "execution_count": 92,
   "metadata": {},
   "outputs": [
    {
     "name": "stdout",
     "output_type": "stream",
     "text": [
      "Nilai P : 0.7694717369961169\n",
      "Data Turbidity berdistribusi normal\n"
     ]
    }
   ],
   "source": [
    "soal3(\"Turbidity\")"
   ]
  },
  {
   "cell_type": "code",
   "execution_count": 93,
   "metadata": {},
   "outputs": [
    {
     "name": "stdout",
     "output_type": "stream",
     "text": [
      "Nilai P : 0.0\n",
      "Data Potability tidak berdistribusi normal\n"
     ]
    }
   ],
   "source": [
    "soal3(\"Potability\")"
   ]
  }
 ],
 "metadata": {
  "interpreter": {
   "hash": "952316e4cf8100a27478111efb2f0cc62014d5c8644deebe2682fbe5d36b1b14"
  },
  "kernelspec": {
   "display_name": "Python 3.9.6 64-bit",
   "language": "python",
   "name": "python3"
  },
  "language_info": {
   "codemirror_mode": {
    "name": "ipython",
    "version": 3
   },
   "file_extension": ".py",
   "mimetype": "text/x-python",
   "name": "python",
   "nbconvert_exporter": "python",
   "pygments_lexer": "ipython3",
   "version": "3.9.6"
  },
  "orig_nbformat": 4
 },
 "nbformat": 4,
 "nbformat_minor": 2
}
