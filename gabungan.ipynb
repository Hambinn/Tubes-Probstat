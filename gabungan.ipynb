{
 "cells": [
  {
   "cell_type": "markdown",
   "metadata": {},
   "source": [
    "# Penarikan Kesimpulan dan Pengujian Hipotesis\n",
    "### Oleh :\n",
    "### 1. Ilham Bintang Nurmansyah     13520102\n",
    "### 2. Haidar Ihzaulhaq             13520150\n",
    " Diberikan sebuah dataset water_portability.csv yang merupakan data metrik kualitas air\n",
    " yang mengandung 11 kolom sebagai berikut:\n",
    " 1. id\n",
    " 2. pH\n",
    " 3. Hardness\n",
    " 4. Solids\n",
    " 5. Chloromines\n",
    " 6. Sulfate\n",
    " 7. Conductivity\n",
    " 8. OrganicCarbon\n",
    " 9. Trihalometanes\n",
    " 10. Turbidity\n",
    " 11. Potability  \n",
    "\n",
    "Kolom 2-10 adalah kolom atribut (non-targer), sedangkan kolom 11 adalah kolom target."
   ]
  },
  {
   "cell_type": "markdown",
   "metadata": {},
   "source": [
    "## Soal No. 1\n",
    "\n",
    "### Menulis deskripsi statistika (Descriptive Statistics) dari semua kolom pada data yang bersifat numerik, terdiri dari mean, median, modus, standar deviasi, variansi, range, nilai minimum, maksimum, kuartil, IQR, skewness dan kurtosis. Boleh juga ditambahkan deskripsi lain."
   ]
  },
  {
   "cell_type": "code",
   "execution_count": 5,
   "metadata": {},
   "outputs": [],
   "source": [
    "\n",
    "import pandas as pd\n",
    "import matplotlib.pyplot as plt\n",
    "import scipy.stats as s\n",
    "import math\n",
    "def soal1(nama):\n",
    "    # membuka file csv\n",
    "    # menamakan kolom\n",
    "    # df.columns = ['id','Daerah','SumbuUtama','SumbuKecil','Keunikan','AreaBulatan','Diameter','KadarAir','Keliling','Bulatan','Ransum','Kelas']\n",
    "    df = pd.read_csv(\"water_potability.csv\", names=[\"id\", \"pH\",\"Hardness\",\"Solids\",\"Chrolomines\",\"Sulfate\",\"Conductivity\",\"OrganicCarbon\",\"Trihalometanes\",\"Turbidity\",\"Potability\"])\n",
    "\n",
    "    df1 = df[nama]\n",
    "    dic = {'mean':df1.mean(),'median':df1.median(),'modus':df1.mode().values,\n",
    "          'standar deviasi':df1.std(), 'variansi':df1.var(),\n",
    "           'range':df1.max()-df1.min(), 'minimum':df1.min(), \n",
    "           'maksimum':df1.max(),'kuartil 1':df1.quantile(0.25),\n",
    "           'kuartil 2':df1.quantile(0.5),'kuartil 3':df1.quantile(0.75), \n",
    "           'IQR':df1.quantile(0.75) - df1.quantile(0.25), 'skewness':df1.skew(),\n",
    "           'kurtosis':df1.kurtosis()\n",
    "          }\n",
    "    dic_list = list(dic.items())\n",
    "\n",
    "    new_df = pd.DataFrame.from_dict(dic_list)\n",
    "    return new_df.style.set_table_attributes(\"style='display:inline'\").set_caption('Deskripsi Statistik '+nama)\n"
   ]
  },
  {
   "cell_type": "code",
   "execution_count": 61,
   "metadata": {},
   "outputs": [
    {
     "data": {
      "text/html": [
       "<style type=\"text/css\">\n",
       "</style>\n",
       "<table id=\"T_7231e\" style='display:inline'>\n",
       "  <caption>Deskripsi Statistik pH</caption>\n",
       "  <thead>\n",
       "    <tr>\n",
       "      <th class=\"blank level0\" >&nbsp;</th>\n",
       "      <th id=\"T_7231e_level0_col0\" class=\"col_heading level0 col0\" >0</th>\n",
       "      <th id=\"T_7231e_level0_col1\" class=\"col_heading level0 col1\" >1</th>\n",
       "    </tr>\n",
       "  </thead>\n",
       "  <tbody>\n",
       "    <tr>\n",
       "      <th id=\"T_7231e_level0_row0\" class=\"row_heading level0 row0\" >0</th>\n",
       "      <td id=\"T_7231e_row0_col0\" class=\"data row0 col0\" >mean</td>\n",
       "      <td id=\"T_7231e_row0_col1\" class=\"data row0 col1\" >7.087193</td>\n",
       "    </tr>\n",
       "    <tr>\n",
       "      <th id=\"T_7231e_level0_row1\" class=\"row_heading level0 row1\" >1</th>\n",
       "      <td id=\"T_7231e_row1_col0\" class=\"data row1 col0\" >median</td>\n",
       "      <td id=\"T_7231e_row1_col1\" class=\"data row1 col1\" >7.029490</td>\n",
       "    </tr>\n",
       "    <tr>\n",
       "      <th id=\"T_7231e_level0_row2\" class=\"row_heading level0 row2\" >2</th>\n",
       "      <td id=\"T_7231e_row2_col0\" class=\"data row2 col0\" >modus</td>\n",
       "      <td id=\"T_7231e_row2_col1\" class=\"data row2 col1\" >[ 0.22749905  0.98991221  1.43178155 ... 12.24692807 13.34988856\n",
       " 14.        ]</td>\n",
       "    </tr>\n",
       "    <tr>\n",
       "      <th id=\"T_7231e_level0_row3\" class=\"row_heading level0 row3\" >3</th>\n",
       "      <td id=\"T_7231e_row3_col0\" class=\"data row3 col0\" >standar deviasi</td>\n",
       "      <td id=\"T_7231e_row3_col1\" class=\"data row3 col1\" >1.572803</td>\n",
       "    </tr>\n",
       "    <tr>\n",
       "      <th id=\"T_7231e_level0_row4\" class=\"row_heading level0 row4\" >4</th>\n",
       "      <td id=\"T_7231e_row4_col0\" class=\"data row4 col0\" >variansi</td>\n",
       "      <td id=\"T_7231e_row4_col1\" class=\"data row4 col1\" >2.473709</td>\n",
       "    </tr>\n",
       "    <tr>\n",
       "      <th id=\"T_7231e_level0_row5\" class=\"row_heading level0 row5\" >5</th>\n",
       "      <td id=\"T_7231e_row5_col0\" class=\"data row5 col0\" >range</td>\n",
       "      <td id=\"T_7231e_row5_col1\" class=\"data row5 col1\" >13.772501</td>\n",
       "    </tr>\n",
       "    <tr>\n",
       "      <th id=\"T_7231e_level0_row6\" class=\"row_heading level0 row6\" >6</th>\n",
       "      <td id=\"T_7231e_row6_col0\" class=\"data row6 col0\" >minimum</td>\n",
       "      <td id=\"T_7231e_row6_col1\" class=\"data row6 col1\" >0.227499</td>\n",
       "    </tr>\n",
       "    <tr>\n",
       "      <th id=\"T_7231e_level0_row7\" class=\"row_heading level0 row7\" >7</th>\n",
       "      <td id=\"T_7231e_row7_col0\" class=\"data row7 col0\" >maksimum</td>\n",
       "      <td id=\"T_7231e_row7_col1\" class=\"data row7 col1\" >14.000000</td>\n",
       "    </tr>\n",
       "    <tr>\n",
       "      <th id=\"T_7231e_level0_row8\" class=\"row_heading level0 row8\" >8</th>\n",
       "      <td id=\"T_7231e_row8_col0\" class=\"data row8 col0\" >kuartil 1</td>\n",
       "      <td id=\"T_7231e_row8_col1\" class=\"data row8 col1\" >6.090785</td>\n",
       "    </tr>\n",
       "    <tr>\n",
       "      <th id=\"T_7231e_level0_row9\" class=\"row_heading level0 row9\" >9</th>\n",
       "      <td id=\"T_7231e_row9_col0\" class=\"data row9 col0\" >kuartil 2</td>\n",
       "      <td id=\"T_7231e_row9_col1\" class=\"data row9 col1\" >7.029490</td>\n",
       "    </tr>\n",
       "    <tr>\n",
       "      <th id=\"T_7231e_level0_row10\" class=\"row_heading level0 row10\" >10</th>\n",
       "      <td id=\"T_7231e_row10_col0\" class=\"data row10 col0\" >kuartil 3</td>\n",
       "      <td id=\"T_7231e_row10_col1\" class=\"data row10 col1\" >8.053006</td>\n",
       "    </tr>\n",
       "    <tr>\n",
       "      <th id=\"T_7231e_level0_row11\" class=\"row_heading level0 row11\" >11</th>\n",
       "      <td id=\"T_7231e_row11_col0\" class=\"data row11 col0\" >IQR</td>\n",
       "      <td id=\"T_7231e_row11_col1\" class=\"data row11 col1\" >1.962221</td>\n",
       "    </tr>\n",
       "    <tr>\n",
       "      <th id=\"T_7231e_level0_row12\" class=\"row_heading level0 row12\" >12</th>\n",
       "      <td id=\"T_7231e_row12_col0\" class=\"data row12 col0\" >skewness</td>\n",
       "      <td id=\"T_7231e_row12_col1\" class=\"data row12 col1\" >0.048535</td>\n",
       "    </tr>\n",
       "    <tr>\n",
       "      <th id=\"T_7231e_level0_row13\" class=\"row_heading level0 row13\" >13</th>\n",
       "      <td id=\"T_7231e_row13_col0\" class=\"data row13 col0\" >kurtosis</td>\n",
       "      <td id=\"T_7231e_row13_col1\" class=\"data row13 col1\" >0.626904</td>\n",
       "    </tr>\n",
       "  </tbody>\n",
       "</table>\n"
      ],
      "text/plain": [
       "<pandas.io.formats.style.Styler at 0x127d41ed460>"
      ]
     },
     "execution_count": 61,
     "metadata": {},
     "output_type": "execute_result"
    }
   ],
   "source": [
    "# Deskripsi Statistika pH\n",
    "soal1('pH')"
   ]
  },
  {
   "cell_type": "code",
   "execution_count": 62,
   "metadata": {},
   "outputs": [
    {
     "data": {
      "text/html": [
       "<style type=\"text/css\">\n",
       "</style>\n",
       "<table id=\"T_e8ae5\" style='display:inline'>\n",
       "  <caption>Deskripsi Statistik Hardness</caption>\n",
       "  <thead>\n",
       "    <tr>\n",
       "      <th class=\"blank level0\" >&nbsp;</th>\n",
       "      <th id=\"T_e8ae5_level0_col0\" class=\"col_heading level0 col0\" >0</th>\n",
       "      <th id=\"T_e8ae5_level0_col1\" class=\"col_heading level0 col1\" >1</th>\n",
       "    </tr>\n",
       "  </thead>\n",
       "  <tbody>\n",
       "    <tr>\n",
       "      <th id=\"T_e8ae5_level0_row0\" class=\"row_heading level0 row0\" >0</th>\n",
       "      <td id=\"T_e8ae5_row0_col0\" class=\"data row0 col0\" >mean</td>\n",
       "      <td id=\"T_e8ae5_row0_col1\" class=\"data row0 col1\" >195.969209</td>\n",
       "    </tr>\n",
       "    <tr>\n",
       "      <th id=\"T_e8ae5_level0_row1\" class=\"row_heading level0 row1\" >1</th>\n",
       "      <td id=\"T_e8ae5_row1_col0\" class=\"data row1 col0\" >median</td>\n",
       "      <td id=\"T_e8ae5_row1_col1\" class=\"data row1 col1\" >197.203525</td>\n",
       "    </tr>\n",
       "    <tr>\n",
       "      <th id=\"T_e8ae5_level0_row2\" class=\"row_heading level0 row2\" >2</th>\n",
       "      <td id=\"T_e8ae5_row2_col0\" class=\"data row2 col0\" >modus</td>\n",
       "      <td id=\"T_e8ae5_row2_col1\" class=\"data row2 col1\" >[ 73.49223369  77.4595861   81.71089527 ... 300.2924758  306.62748142\n",
       " 317.33812406]</td>\n",
       "    </tr>\n",
       "    <tr>\n",
       "      <th id=\"T_e8ae5_level0_row3\" class=\"row_heading level0 row3\" >3</th>\n",
       "      <td id=\"T_e8ae5_row3_col0\" class=\"data row3 col0\" >standar deviasi</td>\n",
       "      <td id=\"T_e8ae5_row3_col1\" class=\"data row3 col1\" >32.643166</td>\n",
       "    </tr>\n",
       "    <tr>\n",
       "      <th id=\"T_e8ae5_level0_row4\" class=\"row_heading level0 row4\" >4</th>\n",
       "      <td id=\"T_e8ae5_row4_col0\" class=\"data row4 col0\" >variansi</td>\n",
       "      <td id=\"T_e8ae5_row4_col1\" class=\"data row4 col1\" >1065.576277</td>\n",
       "    </tr>\n",
       "    <tr>\n",
       "      <th id=\"T_e8ae5_level0_row5\" class=\"row_heading level0 row5\" >5</th>\n",
       "      <td id=\"T_e8ae5_row5_col0\" class=\"data row5 col0\" >range</td>\n",
       "      <td id=\"T_e8ae5_row5_col1\" class=\"data row5 col1\" >243.845890</td>\n",
       "    </tr>\n",
       "    <tr>\n",
       "      <th id=\"T_e8ae5_level0_row6\" class=\"row_heading level0 row6\" >6</th>\n",
       "      <td id=\"T_e8ae5_row6_col0\" class=\"data row6 col0\" >minimum</td>\n",
       "      <td id=\"T_e8ae5_row6_col1\" class=\"data row6 col1\" >73.492234</td>\n",
       "    </tr>\n",
       "    <tr>\n",
       "      <th id=\"T_e8ae5_level0_row7\" class=\"row_heading level0 row7\" >7</th>\n",
       "      <td id=\"T_e8ae5_row7_col0\" class=\"data row7 col0\" >maksimum</td>\n",
       "      <td id=\"T_e8ae5_row7_col1\" class=\"data row7 col1\" >317.338124</td>\n",
       "    </tr>\n",
       "    <tr>\n",
       "      <th id=\"T_e8ae5_level0_row8\" class=\"row_heading level0 row8\" >8</th>\n",
       "      <td id=\"T_e8ae5_row8_col0\" class=\"data row8 col0\" >kuartil 1</td>\n",
       "      <td id=\"T_e8ae5_row8_col1\" class=\"data row8 col1\" >176.740657</td>\n",
       "    </tr>\n",
       "    <tr>\n",
       "      <th id=\"T_e8ae5_level0_row9\" class=\"row_heading level0 row9\" >9</th>\n",
       "      <td id=\"T_e8ae5_row9_col0\" class=\"data row9 col0\" >kuartil 2</td>\n",
       "      <td id=\"T_e8ae5_row9_col1\" class=\"data row9 col1\" >197.203525</td>\n",
       "    </tr>\n",
       "    <tr>\n",
       "      <th id=\"T_e8ae5_level0_row10\" class=\"row_heading level0 row10\" >10</th>\n",
       "      <td id=\"T_e8ae5_row10_col0\" class=\"data row10 col0\" >kuartil 3</td>\n",
       "      <td id=\"T_e8ae5_row10_col1\" class=\"data row10 col1\" >216.447589</td>\n",
       "    </tr>\n",
       "    <tr>\n",
       "      <th id=\"T_e8ae5_level0_row11\" class=\"row_heading level0 row11\" >11</th>\n",
       "      <td id=\"T_e8ae5_row11_col0\" class=\"data row11 col0\" >IQR</td>\n",
       "      <td id=\"T_e8ae5_row11_col1\" class=\"data row11 col1\" >39.706932</td>\n",
       "    </tr>\n",
       "    <tr>\n",
       "      <th id=\"T_e8ae5_level0_row12\" class=\"row_heading level0 row12\" >12</th>\n",
       "      <td id=\"T_e8ae5_row12_col0\" class=\"data row12 col0\" >skewness</td>\n",
       "      <td id=\"T_e8ae5_row12_col1\" class=\"data row12 col1\" >-0.085321</td>\n",
       "    </tr>\n",
       "    <tr>\n",
       "      <th id=\"T_e8ae5_level0_row13\" class=\"row_heading level0 row13\" >13</th>\n",
       "      <td id=\"T_e8ae5_row13_col0\" class=\"data row13 col0\" >kurtosis</td>\n",
       "      <td id=\"T_e8ae5_row13_col1\" class=\"data row13 col1\" >0.525480</td>\n",
       "    </tr>\n",
       "  </tbody>\n",
       "</table>\n"
      ],
      "text/plain": [
       "<pandas.io.formats.style.Styler at 0x127d41970d0>"
      ]
     },
     "execution_count": 62,
     "metadata": {},
     "output_type": "execute_result"
    }
   ],
   "source": [
    "# Deskripsi Statistika Hardness\n",
    "soal1('Hardness')"
   ]
  },
  {
   "cell_type": "code",
   "execution_count": 63,
   "metadata": {},
   "outputs": [
    {
     "data": {
      "text/html": [
       "<style type=\"text/css\">\n",
       "</style>\n",
       "<table id=\"T_36f2b\" style='display:inline'>\n",
       "  <caption>Deskripsi Statistik Solids</caption>\n",
       "  <thead>\n",
       "    <tr>\n",
       "      <th class=\"blank level0\" >&nbsp;</th>\n",
       "      <th id=\"T_36f2b_level0_col0\" class=\"col_heading level0 col0\" >0</th>\n",
       "      <th id=\"T_36f2b_level0_col1\" class=\"col_heading level0 col1\" >1</th>\n",
       "    </tr>\n",
       "  </thead>\n",
       "  <tbody>\n",
       "    <tr>\n",
       "      <th id=\"T_36f2b_level0_row0\" class=\"row_heading level0 row0\" >0</th>\n",
       "      <td id=\"T_36f2b_row0_col0\" class=\"data row0 col0\" >mean</td>\n",
       "      <td id=\"T_36f2b_row0_col1\" class=\"data row0 col1\" >21904.673439</td>\n",
       "    </tr>\n",
       "    <tr>\n",
       "      <th id=\"T_36f2b_level0_row1\" class=\"row_heading level0 row1\" >1</th>\n",
       "      <td id=\"T_36f2b_row1_col0\" class=\"data row1 col0\" >median</td>\n",
       "      <td id=\"T_36f2b_row1_col1\" class=\"data row1 col1\" >20926.882155</td>\n",
       "    </tr>\n",
       "    <tr>\n",
       "      <th id=\"T_36f2b_level0_row2\" class=\"row_heading level0 row2\" >2</th>\n",
       "      <td id=\"T_36f2b_row2_col0\" class=\"data row2 col0\" >modus</td>\n",
       "      <td id=\"T_36f2b_row2_col1\" class=\"data row2 col1\" >[  320.94261127  1198.94369901  1351.9069791  ... 55334.70279929\n",
       " 56351.39630372 56488.67241274]</td>\n",
       "    </tr>\n",
       "    <tr>\n",
       "      <th id=\"T_36f2b_level0_row3\" class=\"row_heading level0 row3\" >3</th>\n",
       "      <td id=\"T_36f2b_row3_col0\" class=\"data row3 col0\" >standar deviasi</td>\n",
       "      <td id=\"T_36f2b_row3_col1\" class=\"data row3 col1\" >8625.397911</td>\n",
       "    </tr>\n",
       "    <tr>\n",
       "      <th id=\"T_36f2b_level0_row4\" class=\"row_heading level0 row4\" >4</th>\n",
       "      <td id=\"T_36f2b_row4_col0\" class=\"data row4 col0\" >variansi</td>\n",
       "      <td id=\"T_36f2b_row4_col1\" class=\"data row4 col1\" >74397489.126371</td>\n",
       "    </tr>\n",
       "    <tr>\n",
       "      <th id=\"T_36f2b_level0_row5\" class=\"row_heading level0 row5\" >5</th>\n",
       "      <td id=\"T_36f2b_row5_col0\" class=\"data row5 col0\" >range</td>\n",
       "      <td id=\"T_36f2b_row5_col1\" class=\"data row5 col1\" >56167.729801</td>\n",
       "    </tr>\n",
       "    <tr>\n",
       "      <th id=\"T_36f2b_level0_row6\" class=\"row_heading level0 row6\" >6</th>\n",
       "      <td id=\"T_36f2b_row6_col0\" class=\"data row6 col0\" >minimum</td>\n",
       "      <td id=\"T_36f2b_row6_col1\" class=\"data row6 col1\" >320.942611</td>\n",
       "    </tr>\n",
       "    <tr>\n",
       "      <th id=\"T_36f2b_level0_row7\" class=\"row_heading level0 row7\" >7</th>\n",
       "      <td id=\"T_36f2b_row7_col0\" class=\"data row7 col0\" >maksimum</td>\n",
       "      <td id=\"T_36f2b_row7_col1\" class=\"data row7 col1\" >56488.672413</td>\n",
       "    </tr>\n",
       "    <tr>\n",
       "      <th id=\"T_36f2b_level0_row8\" class=\"row_heading level0 row8\" >8</th>\n",
       "      <td id=\"T_36f2b_row8_col0\" class=\"data row8 col0\" >kuartil 1</td>\n",
       "      <td id=\"T_36f2b_row8_col1\" class=\"data row8 col1\" >15614.412962</td>\n",
       "    </tr>\n",
       "    <tr>\n",
       "      <th id=\"T_36f2b_level0_row9\" class=\"row_heading level0 row9\" >9</th>\n",
       "      <td id=\"T_36f2b_row9_col0\" class=\"data row9 col0\" >kuartil 2</td>\n",
       "      <td id=\"T_36f2b_row9_col1\" class=\"data row9 col1\" >20926.882155</td>\n",
       "    </tr>\n",
       "    <tr>\n",
       "      <th id=\"T_36f2b_level0_row10\" class=\"row_heading level0 row10\" >10</th>\n",
       "      <td id=\"T_36f2b_row10_col0\" class=\"data row10 col0\" >kuartil 3</td>\n",
       "      <td id=\"T_36f2b_row10_col1\" class=\"data row10 col1\" >27170.534649</td>\n",
       "    </tr>\n",
       "    <tr>\n",
       "      <th id=\"T_36f2b_level0_row11\" class=\"row_heading level0 row11\" >11</th>\n",
       "      <td id=\"T_36f2b_row11_col0\" class=\"data row11 col0\" >IQR</td>\n",
       "      <td id=\"T_36f2b_row11_col1\" class=\"data row11 col1\" >11556.121687</td>\n",
       "    </tr>\n",
       "    <tr>\n",
       "      <th id=\"T_36f2b_level0_row12\" class=\"row_heading level0 row12\" >12</th>\n",
       "      <td id=\"T_36f2b_row12_col0\" class=\"data row12 col0\" >skewness</td>\n",
       "      <td id=\"T_36f2b_row12_col1\" class=\"data row12 col1\" >0.591011</td>\n",
       "    </tr>\n",
       "    <tr>\n",
       "      <th id=\"T_36f2b_level0_row13\" class=\"row_heading level0 row13\" >13</th>\n",
       "      <td id=\"T_36f2b_row13_col0\" class=\"data row13 col0\" >kurtosis</td>\n",
       "      <td id=\"T_36f2b_row13_col1\" class=\"data row13 col1\" >0.337320</td>\n",
       "    </tr>\n",
       "  </tbody>\n",
       "</table>\n"
      ],
      "text/plain": [
       "<pandas.io.formats.style.Styler at 0x127d41970a0>"
      ]
     },
     "execution_count": 63,
     "metadata": {},
     "output_type": "execute_result"
    }
   ],
   "source": [
    "# Deskripsi Statistika Solids\n",
    "soal1('Solids')"
   ]
  },
  {
   "cell_type": "code",
   "execution_count": 64,
   "metadata": {},
   "outputs": [
    {
     "data": {
      "text/html": [
       "<style type=\"text/css\">\n",
       "</style>\n",
       "<table id=\"T_e554f\" style='display:inline'>\n",
       "  <caption>Deskripsi Statistik Chrolomines</caption>\n",
       "  <thead>\n",
       "    <tr>\n",
       "      <th class=\"blank level0\" >&nbsp;</th>\n",
       "      <th id=\"T_e554f_level0_col0\" class=\"col_heading level0 col0\" >0</th>\n",
       "      <th id=\"T_e554f_level0_col1\" class=\"col_heading level0 col1\" >1</th>\n",
       "    </tr>\n",
       "  </thead>\n",
       "  <tbody>\n",
       "    <tr>\n",
       "      <th id=\"T_e554f_level0_row0\" class=\"row_heading level0 row0\" >0</th>\n",
       "      <td id=\"T_e554f_row0_col0\" class=\"data row0 col0\" >mean</td>\n",
       "      <td id=\"T_e554f_row0_col1\" class=\"data row0 col1\" >7.134322</td>\n",
       "    </tr>\n",
       "    <tr>\n",
       "      <th id=\"T_e554f_level0_row1\" class=\"row_heading level0 row1\" >1</th>\n",
       "      <td id=\"T_e554f_row1_col0\" class=\"data row1 col0\" >median</td>\n",
       "      <td id=\"T_e554f_row1_col1\" class=\"data row1 col1\" >7.142014</td>\n",
       "    </tr>\n",
       "    <tr>\n",
       "      <th id=\"T_e554f_level0_row2\" class=\"row_heading level0 row2\" >2</th>\n",
       "      <td id=\"T_e554f_row2_col0\" class=\"data row2 col0\" >modus</td>\n",
       "      <td id=\"T_e554f_row2_col1\" class=\"data row2 col1\" >[ 1.3908709   1.92027145  2.39798499 ... 12.65336202 13.04380611\n",
       " 13.127     ]</td>\n",
       "    </tr>\n",
       "    <tr>\n",
       "      <th id=\"T_e554f_level0_row3\" class=\"row_heading level0 row3\" >3</th>\n",
       "      <td id=\"T_e554f_row3_col0\" class=\"data row3 col0\" >standar deviasi</td>\n",
       "      <td id=\"T_e554f_row3_col1\" class=\"data row3 col1\" >1.585214</td>\n",
       "    </tr>\n",
       "    <tr>\n",
       "      <th id=\"T_e554f_level0_row4\" class=\"row_heading level0 row4\" >4</th>\n",
       "      <td id=\"T_e554f_row4_col0\" class=\"data row4 col0\" >variansi</td>\n",
       "      <td id=\"T_e554f_row4_col1\" class=\"data row4 col1\" >2.512904</td>\n",
       "    </tr>\n",
       "    <tr>\n",
       "      <th id=\"T_e554f_level0_row5\" class=\"row_heading level0 row5\" >5</th>\n",
       "      <td id=\"T_e554f_row5_col0\" class=\"data row5 col0\" >range</td>\n",
       "      <td id=\"T_e554f_row5_col1\" class=\"data row5 col1\" >11.736129</td>\n",
       "    </tr>\n",
       "    <tr>\n",
       "      <th id=\"T_e554f_level0_row6\" class=\"row_heading level0 row6\" >6</th>\n",
       "      <td id=\"T_e554f_row6_col0\" class=\"data row6 col0\" >minimum</td>\n",
       "      <td id=\"T_e554f_row6_col1\" class=\"data row6 col1\" >1.390871</td>\n",
       "    </tr>\n",
       "    <tr>\n",
       "      <th id=\"T_e554f_level0_row7\" class=\"row_heading level0 row7\" >7</th>\n",
       "      <td id=\"T_e554f_row7_col0\" class=\"data row7 col0\" >maksimum</td>\n",
       "      <td id=\"T_e554f_row7_col1\" class=\"data row7 col1\" >13.127000</td>\n",
       "    </tr>\n",
       "    <tr>\n",
       "      <th id=\"T_e554f_level0_row8\" class=\"row_heading level0 row8\" >8</th>\n",
       "      <td id=\"T_e554f_row8_col0\" class=\"data row8 col0\" >kuartil 1</td>\n",
       "      <td id=\"T_e554f_row8_col1\" class=\"data row8 col1\" >6.138326</td>\n",
       "    </tr>\n",
       "    <tr>\n",
       "      <th id=\"T_e554f_level0_row9\" class=\"row_heading level0 row9\" >9</th>\n",
       "      <td id=\"T_e554f_row9_col0\" class=\"data row9 col0\" >kuartil 2</td>\n",
       "      <td id=\"T_e554f_row9_col1\" class=\"data row9 col1\" >7.142014</td>\n",
       "    </tr>\n",
       "    <tr>\n",
       "      <th id=\"T_e554f_level0_row10\" class=\"row_heading level0 row10\" >10</th>\n",
       "      <td id=\"T_e554f_row10_col0\" class=\"data row10 col0\" >kuartil 3</td>\n",
       "      <td id=\"T_e554f_row10_col1\" class=\"data row10 col1\" >8.109933</td>\n",
       "    </tr>\n",
       "    <tr>\n",
       "      <th id=\"T_e554f_level0_row11\" class=\"row_heading level0 row11\" >11</th>\n",
       "      <td id=\"T_e554f_row11_col0\" class=\"data row11 col0\" >IQR</td>\n",
       "      <td id=\"T_e554f_row11_col1\" class=\"data row11 col1\" >1.971607</td>\n",
       "    </tr>\n",
       "    <tr>\n",
       "      <th id=\"T_e554f_level0_row12\" class=\"row_heading level0 row12\" >12</th>\n",
       "      <td id=\"T_e554f_row12_col0\" class=\"data row12 col0\" >skewness</td>\n",
       "      <td id=\"T_e554f_row12_col1\" class=\"data row12 col1\" >0.013003</td>\n",
       "    </tr>\n",
       "    <tr>\n",
       "      <th id=\"T_e554f_level0_row13\" class=\"row_heading level0 row13\" >13</th>\n",
       "      <td id=\"T_e554f_row13_col0\" class=\"data row13 col0\" >kurtosis</td>\n",
       "      <td id=\"T_e554f_row13_col1\" class=\"data row13 col1\" >0.549782</td>\n",
       "    </tr>\n",
       "  </tbody>\n",
       "</table>\n"
      ],
      "text/plain": [
       "<pandas.io.formats.style.Styler at 0x127d1e5b3a0>"
      ]
     },
     "execution_count": 64,
     "metadata": {},
     "output_type": "execute_result"
    }
   ],
   "source": [
    "# Deskripsi Statistika Chrolomines\n",
    "soal1('Chrolomines')"
   ]
  },
  {
   "cell_type": "code",
   "execution_count": 65,
   "metadata": {},
   "outputs": [
    {
     "data": {
      "text/html": [
       "<style type=\"text/css\">\n",
       "</style>\n",
       "<table id=\"T_b509f\" style='display:inline'>\n",
       "  <caption>Deskripsi Statistik Sulfate</caption>\n",
       "  <thead>\n",
       "    <tr>\n",
       "      <th class=\"blank level0\" >&nbsp;</th>\n",
       "      <th id=\"T_b509f_level0_col0\" class=\"col_heading level0 col0\" >0</th>\n",
       "      <th id=\"T_b509f_level0_col1\" class=\"col_heading level0 col1\" >1</th>\n",
       "    </tr>\n",
       "  </thead>\n",
       "  <tbody>\n",
       "    <tr>\n",
       "      <th id=\"T_b509f_level0_row0\" class=\"row_heading level0 row0\" >0</th>\n",
       "      <td id=\"T_b509f_row0_col0\" class=\"data row0 col0\" >mean</td>\n",
       "      <td id=\"T_b509f_row0_col1\" class=\"data row0 col1\" >333.211376</td>\n",
       "    </tr>\n",
       "    <tr>\n",
       "      <th id=\"T_b509f_level0_row1\" class=\"row_heading level0 row1\" >1</th>\n",
       "      <td id=\"T_b509f_row1_col0\" class=\"data row1 col0\" >median</td>\n",
       "      <td id=\"T_b509f_row1_col1\" class=\"data row1 col1\" >332.214113</td>\n",
       "    </tr>\n",
       "    <tr>\n",
       "      <th id=\"T_b509f_level0_row2\" class=\"row_heading level0 row2\" >2</th>\n",
       "      <td id=\"T_b509f_row2_col0\" class=\"data row2 col0\" >modus</td>\n",
       "      <td id=\"T_b509f_row2_col1\" class=\"data row2 col1\" >[129.         180.20674636 182.39737025 ... 475.73746015 476.53971733\n",
       " 481.03064231]</td>\n",
       "    </tr>\n",
       "    <tr>\n",
       "      <th id=\"T_b509f_level0_row3\" class=\"row_heading level0 row3\" >3</th>\n",
       "      <td id=\"T_b509f_row3_col0\" class=\"data row3 col0\" >standar deviasi</td>\n",
       "      <td id=\"T_b509f_row3_col1\" class=\"data row3 col1\" >41.211111</td>\n",
       "    </tr>\n",
       "    <tr>\n",
       "      <th id=\"T_b509f_level0_row4\" class=\"row_heading level0 row4\" >4</th>\n",
       "      <td id=\"T_b509f_row4_col0\" class=\"data row4 col0\" >variansi</td>\n",
       "      <td id=\"T_b509f_row4_col1\" class=\"data row4 col1\" >1698.355672</td>\n",
       "    </tr>\n",
       "    <tr>\n",
       "      <th id=\"T_b509f_level0_row5\" class=\"row_heading level0 row5\" >5</th>\n",
       "      <td id=\"T_b509f_row5_col0\" class=\"data row5 col0\" >range</td>\n",
       "      <td id=\"T_b509f_row5_col1\" class=\"data row5 col1\" >352.030642</td>\n",
       "    </tr>\n",
       "    <tr>\n",
       "      <th id=\"T_b509f_level0_row6\" class=\"row_heading level0 row6\" >6</th>\n",
       "      <td id=\"T_b509f_row6_col0\" class=\"data row6 col0\" >minimum</td>\n",
       "      <td id=\"T_b509f_row6_col1\" class=\"data row6 col1\" >129.000000</td>\n",
       "    </tr>\n",
       "    <tr>\n",
       "      <th id=\"T_b509f_level0_row7\" class=\"row_heading level0 row7\" >7</th>\n",
       "      <td id=\"T_b509f_row7_col0\" class=\"data row7 col0\" >maksimum</td>\n",
       "      <td id=\"T_b509f_row7_col1\" class=\"data row7 col1\" >481.030642</td>\n",
       "    </tr>\n",
       "    <tr>\n",
       "      <th id=\"T_b509f_level0_row8\" class=\"row_heading level0 row8\" >8</th>\n",
       "      <td id=\"T_b509f_row8_col0\" class=\"data row8 col0\" >kuartil 1</td>\n",
       "      <td id=\"T_b509f_row8_col1\" class=\"data row8 col1\" >307.626986</td>\n",
       "    </tr>\n",
       "    <tr>\n",
       "      <th id=\"T_b509f_level0_row9\" class=\"row_heading level0 row9\" >9</th>\n",
       "      <td id=\"T_b509f_row9_col0\" class=\"data row9 col0\" >kuartil 2</td>\n",
       "      <td id=\"T_b509f_row9_col1\" class=\"data row9 col1\" >332.214113</td>\n",
       "    </tr>\n",
       "    <tr>\n",
       "      <th id=\"T_b509f_level0_row10\" class=\"row_heading level0 row10\" >10</th>\n",
       "      <td id=\"T_b509f_row10_col0\" class=\"data row10 col0\" >kuartil 3</td>\n",
       "      <td id=\"T_b509f_row10_col1\" class=\"data row10 col1\" >359.268147</td>\n",
       "    </tr>\n",
       "    <tr>\n",
       "      <th id=\"T_b509f_level0_row11\" class=\"row_heading level0 row11\" >11</th>\n",
       "      <td id=\"T_b509f_row11_col0\" class=\"data row11 col0\" >IQR</td>\n",
       "      <td id=\"T_b509f_row11_col1\" class=\"data row11 col1\" >51.641161</td>\n",
       "    </tr>\n",
       "    <tr>\n",
       "      <th id=\"T_b509f_level0_row12\" class=\"row_heading level0 row12\" >12</th>\n",
       "      <td id=\"T_b509f_row12_col0\" class=\"data row12 col0\" >skewness</td>\n",
       "      <td id=\"T_b509f_row12_col1\" class=\"data row12 col1\" >-0.045728</td>\n",
       "    </tr>\n",
       "    <tr>\n",
       "      <th id=\"T_b509f_level0_row13\" class=\"row_heading level0 row13\" >13</th>\n",
       "      <td id=\"T_b509f_row13_col0\" class=\"data row13 col0\" >kurtosis</td>\n",
       "      <td id=\"T_b509f_row13_col1\" class=\"data row13 col1\" >0.786854</td>\n",
       "    </tr>\n",
       "  </tbody>\n",
       "</table>\n"
      ],
      "text/plain": [
       "<pandas.io.formats.style.Styler at 0x127d4218dc0>"
      ]
     },
     "execution_count": 65,
     "metadata": {},
     "output_type": "execute_result"
    }
   ],
   "source": [
    "# Deskripsi Statistika Sulfate\n",
    "soal1('Sulfate')"
   ]
  },
  {
   "cell_type": "code",
   "execution_count": 66,
   "metadata": {},
   "outputs": [
    {
     "data": {
      "text/html": [
       "<style type=\"text/css\">\n",
       "</style>\n",
       "<table id=\"T_6befe\" style='display:inline'>\n",
       "  <caption>Deskripsi Statistik Conductivity</caption>\n",
       "  <thead>\n",
       "    <tr>\n",
       "      <th class=\"blank level0\" >&nbsp;</th>\n",
       "      <th id=\"T_6befe_level0_col0\" class=\"col_heading level0 col0\" >0</th>\n",
       "      <th id=\"T_6befe_level0_col1\" class=\"col_heading level0 col1\" >1</th>\n",
       "    </tr>\n",
       "  </thead>\n",
       "  <tbody>\n",
       "    <tr>\n",
       "      <th id=\"T_6befe_level0_row0\" class=\"row_heading level0 row0\" >0</th>\n",
       "      <td id=\"T_6befe_row0_col0\" class=\"data row0 col0\" >mean</td>\n",
       "      <td id=\"T_6befe_row0_col1\" class=\"data row0 col1\" >426.476708</td>\n",
       "    </tr>\n",
       "    <tr>\n",
       "      <th id=\"T_6befe_level0_row1\" class=\"row_heading level0 row1\" >1</th>\n",
       "      <td id=\"T_6befe_row1_col0\" class=\"data row1 col0\" >median</td>\n",
       "      <td id=\"T_6befe_row1_col1\" class=\"data row1 col1\" >423.438372</td>\n",
       "    </tr>\n",
       "    <tr>\n",
       "      <th id=\"T_6befe_level0_row2\" class=\"row_heading level0 row2\" >2</th>\n",
       "      <td id=\"T_6befe_row2_col0\" class=\"data row2 col0\" >modus</td>\n",
       "      <td id=\"T_6befe_row2_col1\" class=\"data row2 col1\" >[201.61973676 210.31918197 233.90796511 ... 695.36952799 708.22636447\n",
       " 753.34261956]</td>\n",
       "    </tr>\n",
       "    <tr>\n",
       "      <th id=\"T_6befe_level0_row3\" class=\"row_heading level0 row3\" >3</th>\n",
       "      <td id=\"T_6befe_row3_col0\" class=\"data row3 col0\" >standar deviasi</td>\n",
       "      <td id=\"T_6befe_row3_col1\" class=\"data row3 col1\" >80.701872</td>\n",
       "    </tr>\n",
       "    <tr>\n",
       "      <th id=\"T_6befe_level0_row4\" class=\"row_heading level0 row4\" >4</th>\n",
       "      <td id=\"T_6befe_row4_col0\" class=\"data row4 col0\" >variansi</td>\n",
       "      <td id=\"T_6befe_row4_col1\" class=\"data row4 col1\" >6512.792113</td>\n",
       "    </tr>\n",
       "    <tr>\n",
       "      <th id=\"T_6befe_level0_row5\" class=\"row_heading level0 row5\" >5</th>\n",
       "      <td id=\"T_6befe_row5_col0\" class=\"data row5 col0\" >range</td>\n",
       "      <td id=\"T_6befe_row5_col1\" class=\"data row5 col1\" >551.722883</td>\n",
       "    </tr>\n",
       "    <tr>\n",
       "      <th id=\"T_6befe_level0_row6\" class=\"row_heading level0 row6\" >6</th>\n",
       "      <td id=\"T_6befe_row6_col0\" class=\"data row6 col0\" >minimum</td>\n",
       "      <td id=\"T_6befe_row6_col1\" class=\"data row6 col1\" >201.619737</td>\n",
       "    </tr>\n",
       "    <tr>\n",
       "      <th id=\"T_6befe_level0_row7\" class=\"row_heading level0 row7\" >7</th>\n",
       "      <td id=\"T_6befe_row7_col0\" class=\"data row7 col0\" >maksimum</td>\n",
       "      <td id=\"T_6befe_row7_col1\" class=\"data row7 col1\" >753.342620</td>\n",
       "    </tr>\n",
       "    <tr>\n",
       "      <th id=\"T_6befe_level0_row8\" class=\"row_heading level0 row8\" >8</th>\n",
       "      <td id=\"T_6befe_row8_col0\" class=\"data row8 col0\" >kuartil 1</td>\n",
       "      <td id=\"T_6befe_row8_col1\" class=\"data row8 col1\" >366.619219</td>\n",
       "    </tr>\n",
       "    <tr>\n",
       "      <th id=\"T_6befe_level0_row9\" class=\"row_heading level0 row9\" >9</th>\n",
       "      <td id=\"T_6befe_row9_col0\" class=\"data row9 col0\" >kuartil 2</td>\n",
       "      <td id=\"T_6befe_row9_col1\" class=\"data row9 col1\" >423.438372</td>\n",
       "    </tr>\n",
       "    <tr>\n",
       "      <th id=\"T_6befe_level0_row10\" class=\"row_heading level0 row10\" >10</th>\n",
       "      <td id=\"T_6befe_row10_col0\" class=\"data row10 col0\" >kuartil 3</td>\n",
       "      <td id=\"T_6befe_row10_col1\" class=\"data row10 col1\" >482.209772</td>\n",
       "    </tr>\n",
       "    <tr>\n",
       "      <th id=\"T_6befe_level0_row11\" class=\"row_heading level0 row11\" >11</th>\n",
       "      <td id=\"T_6befe_row11_col0\" class=\"data row11 col0\" >IQR</td>\n",
       "      <td id=\"T_6befe_row11_col1\" class=\"data row11 col1\" >115.590553</td>\n",
       "    </tr>\n",
       "    <tr>\n",
       "      <th id=\"T_6befe_level0_row12\" class=\"row_heading level0 row12\" >12</th>\n",
       "      <td id=\"T_6befe_row12_col0\" class=\"data row12 col0\" >skewness</td>\n",
       "      <td id=\"T_6befe_row12_col1\" class=\"data row12 col1\" >0.268012</td>\n",
       "    </tr>\n",
       "    <tr>\n",
       "      <th id=\"T_6befe_level0_row13\" class=\"row_heading level0 row13\" >13</th>\n",
       "      <td id=\"T_6befe_row13_col0\" class=\"data row13 col0\" >kurtosis</td>\n",
       "      <td id=\"T_6befe_row13_col1\" class=\"data row13 col1\" >-0.237206</td>\n",
       "    </tr>\n",
       "  </tbody>\n",
       "</table>\n"
      ],
      "text/plain": [
       "<pandas.io.formats.style.Styler at 0x127d421d130>"
      ]
     },
     "execution_count": 66,
     "metadata": {},
     "output_type": "execute_result"
    }
   ],
   "source": [
    "# Deskripsi Statistika Conductivity\n",
    "soal1('Conductivity')"
   ]
  },
  {
   "cell_type": "code",
   "execution_count": 67,
   "metadata": {},
   "outputs": [
    {
     "data": {
      "text/html": [
       "<style type=\"text/css\">\n",
       "</style>\n",
       "<table id=\"T_a899e\" style='display:inline'>\n",
       "  <caption>Deskripsi Statistik OrganicCarbon</caption>\n",
       "  <thead>\n",
       "    <tr>\n",
       "      <th class=\"blank level0\" >&nbsp;</th>\n",
       "      <th id=\"T_a899e_level0_col0\" class=\"col_heading level0 col0\" >0</th>\n",
       "      <th id=\"T_a899e_level0_col1\" class=\"col_heading level0 col1\" >1</th>\n",
       "    </tr>\n",
       "  </thead>\n",
       "  <tbody>\n",
       "    <tr>\n",
       "      <th id=\"T_a899e_level0_row0\" class=\"row_heading level0 row0\" >0</th>\n",
       "      <td id=\"T_a899e_row0_col0\" class=\"data row0 col0\" >mean</td>\n",
       "      <td id=\"T_a899e_row0_col1\" class=\"data row0 col1\" >14.357940</td>\n",
       "    </tr>\n",
       "    <tr>\n",
       "      <th id=\"T_a899e_level0_row1\" class=\"row_heading level0 row1\" >1</th>\n",
       "      <td id=\"T_a899e_row1_col0\" class=\"data row1 col0\" >median</td>\n",
       "      <td id=\"T_a899e_row1_col1\" class=\"data row1 col1\" >14.323286</td>\n",
       "    </tr>\n",
       "    <tr>\n",
       "      <th id=\"T_a899e_level0_row2\" class=\"row_heading level0 row2\" >2</th>\n",
       "      <td id=\"T_a899e_row2_col0\" class=\"data row2 col0\" >modus</td>\n",
       "      <td id=\"T_a899e_row2_col1\" class=\"data row2 col1\" >[ 2.2         4.37189861  4.46677197 ... 23.91760126 24.75539237\n",
       " 27.00670661]</td>\n",
       "    </tr>\n",
       "    <tr>\n",
       "      <th id=\"T_a899e_level0_row3\" class=\"row_heading level0 row3\" >3</th>\n",
       "      <td id=\"T_a899e_row3_col0\" class=\"data row3 col0\" >standar deviasi</td>\n",
       "      <td id=\"T_a899e_row3_col1\" class=\"data row3 col1\" >3.325770</td>\n",
       "    </tr>\n",
       "    <tr>\n",
       "      <th id=\"T_a899e_level0_row4\" class=\"row_heading level0 row4\" >4</th>\n",
       "      <td id=\"T_a899e_row4_col0\" class=\"data row4 col0\" >variansi</td>\n",
       "      <td id=\"T_a899e_row4_col1\" class=\"data row4 col1\" >11.060746</td>\n",
       "    </tr>\n",
       "    <tr>\n",
       "      <th id=\"T_a899e_level0_row5\" class=\"row_heading level0 row5\" >5</th>\n",
       "      <td id=\"T_a899e_row5_col0\" class=\"data row5 col0\" >range</td>\n",
       "      <td id=\"T_a899e_row5_col1\" class=\"data row5 col1\" >24.806707</td>\n",
       "    </tr>\n",
       "    <tr>\n",
       "      <th id=\"T_a899e_level0_row6\" class=\"row_heading level0 row6\" >6</th>\n",
       "      <td id=\"T_a899e_row6_col0\" class=\"data row6 col0\" >minimum</td>\n",
       "      <td id=\"T_a899e_row6_col1\" class=\"data row6 col1\" >2.200000</td>\n",
       "    </tr>\n",
       "    <tr>\n",
       "      <th id=\"T_a899e_level0_row7\" class=\"row_heading level0 row7\" >7</th>\n",
       "      <td id=\"T_a899e_row7_col0\" class=\"data row7 col0\" >maksimum</td>\n",
       "      <td id=\"T_a899e_row7_col1\" class=\"data row7 col1\" >27.006707</td>\n",
       "    </tr>\n",
       "    <tr>\n",
       "      <th id=\"T_a899e_level0_row8\" class=\"row_heading level0 row8\" >8</th>\n",
       "      <td id=\"T_a899e_row8_col0\" class=\"data row8 col0\" >kuartil 1</td>\n",
       "      <td id=\"T_a899e_row8_col1\" class=\"data row8 col1\" >12.122530</td>\n",
       "    </tr>\n",
       "    <tr>\n",
       "      <th id=\"T_a899e_level0_row9\" class=\"row_heading level0 row9\" >9</th>\n",
       "      <td id=\"T_a899e_row9_col0\" class=\"data row9 col0\" >kuartil 2</td>\n",
       "      <td id=\"T_a899e_row9_col1\" class=\"data row9 col1\" >14.323286</td>\n",
       "    </tr>\n",
       "    <tr>\n",
       "      <th id=\"T_a899e_level0_row10\" class=\"row_heading level0 row10\" >10</th>\n",
       "      <td id=\"T_a899e_row10_col0\" class=\"data row10 col0\" >kuartil 3</td>\n",
       "      <td id=\"T_a899e_row10_col1\" class=\"data row10 col1\" >16.683562</td>\n",
       "    </tr>\n",
       "    <tr>\n",
       "      <th id=\"T_a899e_level0_row11\" class=\"row_heading level0 row11\" >11</th>\n",
       "      <td id=\"T_a899e_row11_col0\" class=\"data row11 col0\" >IQR</td>\n",
       "      <td id=\"T_a899e_row11_col1\" class=\"data row11 col1\" >4.561031</td>\n",
       "    </tr>\n",
       "    <tr>\n",
       "      <th id=\"T_a899e_level0_row12\" class=\"row_heading level0 row12\" >12</th>\n",
       "      <td id=\"T_a899e_row12_col0\" class=\"data row12 col0\" >skewness</td>\n",
       "      <td id=\"T_a899e_row12_col1\" class=\"data row12 col1\" >-0.020220</td>\n",
       "    </tr>\n",
       "    <tr>\n",
       "      <th id=\"T_a899e_level0_row13\" class=\"row_heading level0 row13\" >13</th>\n",
       "      <td id=\"T_a899e_row13_col0\" class=\"data row13 col0\" >kurtosis</td>\n",
       "      <td id=\"T_a899e_row13_col1\" class=\"data row13 col1\" >0.031018</td>\n",
       "    </tr>\n",
       "  </tbody>\n",
       "</table>\n"
      ],
      "text/plain": [
       "<pandas.io.formats.style.Styler at 0x127d4197ac0>"
      ]
     },
     "execution_count": 67,
     "metadata": {},
     "output_type": "execute_result"
    }
   ],
   "source": [
    "# Deskripsi Statistika OrganicCarbon\n",
    "soal1('OrganicCarbon')"
   ]
  },
  {
   "cell_type": "code",
   "execution_count": 68,
   "metadata": {},
   "outputs": [
    {
     "data": {
      "text/html": [
       "<style type=\"text/css\">\n",
       "</style>\n",
       "<table id=\"T_0070d\" style='display:inline'>\n",
       "  <caption>Deskripsi Statistik Trihalometanes</caption>\n",
       "  <thead>\n",
       "    <tr>\n",
       "      <th class=\"blank level0\" >&nbsp;</th>\n",
       "      <th id=\"T_0070d_level0_col0\" class=\"col_heading level0 col0\" >0</th>\n",
       "      <th id=\"T_0070d_level0_col1\" class=\"col_heading level0 col1\" >1</th>\n",
       "    </tr>\n",
       "  </thead>\n",
       "  <tbody>\n",
       "    <tr>\n",
       "      <th id=\"T_0070d_level0_row0\" class=\"row_heading level0 row0\" >0</th>\n",
       "      <td id=\"T_0070d_row0_col0\" class=\"data row0 col0\" >mean</td>\n",
       "      <td id=\"T_0070d_row0_col1\" class=\"data row0 col1\" >66.400717</td>\n",
       "    </tr>\n",
       "    <tr>\n",
       "      <th id=\"T_0070d_level0_row1\" class=\"row_heading level0 row1\" >1</th>\n",
       "      <td id=\"T_0070d_row1_col0\" class=\"data row1 col0\" >median</td>\n",
       "      <td id=\"T_0070d_row1_col1\" class=\"data row1 col1\" >66.482041</td>\n",
       "    </tr>\n",
       "    <tr>\n",
       "      <th id=\"T_0070d_level0_row2\" class=\"row_heading level0 row2\" >2</th>\n",
       "      <td id=\"T_0070d_row2_col0\" class=\"data row2 col0\" >modus</td>\n",
       "      <td id=\"T_0070d_row2_col1\" class=\"data row2 col1\" >[  8.57701293  14.34316145  15.6848768  ... 116.16162156 120.03007701\n",
       " 124.        ]</td>\n",
       "    </tr>\n",
       "    <tr>\n",
       "      <th id=\"T_0070d_level0_row3\" class=\"row_heading level0 row3\" >3</th>\n",
       "      <td id=\"T_0070d_row3_col0\" class=\"data row3 col0\" >standar deviasi</td>\n",
       "      <td id=\"T_0070d_row3_col1\" class=\"data row3 col1\" >16.081109</td>\n",
       "    </tr>\n",
       "    <tr>\n",
       "      <th id=\"T_0070d_level0_row4\" class=\"row_heading level0 row4\" >4</th>\n",
       "      <td id=\"T_0070d_row4_col0\" class=\"data row4 col0\" >variansi</td>\n",
       "      <td id=\"T_0070d_row4_col1\" class=\"data row4 col1\" >258.602066</td>\n",
       "    </tr>\n",
       "    <tr>\n",
       "      <th id=\"T_0070d_level0_row5\" class=\"row_heading level0 row5\" >5</th>\n",
       "      <td id=\"T_0070d_row5_col0\" class=\"data row5 col0\" >range</td>\n",
       "      <td id=\"T_0070d_row5_col1\" class=\"data row5 col1\" >115.422987</td>\n",
       "    </tr>\n",
       "    <tr>\n",
       "      <th id=\"T_0070d_level0_row6\" class=\"row_heading level0 row6\" >6</th>\n",
       "      <td id=\"T_0070d_row6_col0\" class=\"data row6 col0\" >minimum</td>\n",
       "      <td id=\"T_0070d_row6_col1\" class=\"data row6 col1\" >8.577013</td>\n",
       "    </tr>\n",
       "    <tr>\n",
       "      <th id=\"T_0070d_level0_row7\" class=\"row_heading level0 row7\" >7</th>\n",
       "      <td id=\"T_0070d_row7_col0\" class=\"data row7 col0\" >maksimum</td>\n",
       "      <td id=\"T_0070d_row7_col1\" class=\"data row7 col1\" >124.000000</td>\n",
       "    </tr>\n",
       "    <tr>\n",
       "      <th id=\"T_0070d_level0_row8\" class=\"row_heading level0 row8\" >8</th>\n",
       "      <td id=\"T_0070d_row8_col0\" class=\"data row8 col0\" >kuartil 1</td>\n",
       "      <td id=\"T_0070d_row8_col1\" class=\"data row8 col1\" >55.949993</td>\n",
       "    </tr>\n",
       "    <tr>\n",
       "      <th id=\"T_0070d_level0_row9\" class=\"row_heading level0 row9\" >9</th>\n",
       "      <td id=\"T_0070d_row9_col0\" class=\"data row9 col0\" >kuartil 2</td>\n",
       "      <td id=\"T_0070d_row9_col1\" class=\"data row9 col1\" >66.482041</td>\n",
       "    </tr>\n",
       "    <tr>\n",
       "      <th id=\"T_0070d_level0_row10\" class=\"row_heading level0 row10\" >10</th>\n",
       "      <td id=\"T_0070d_row10_col0\" class=\"data row10 col0\" >kuartil 3</td>\n",
       "      <td id=\"T_0070d_row10_col1\" class=\"data row10 col1\" >77.294613</td>\n",
       "    </tr>\n",
       "    <tr>\n",
       "      <th id=\"T_0070d_level0_row11\" class=\"row_heading level0 row11\" >11</th>\n",
       "      <td id=\"T_0070d_row11_col0\" class=\"data row11 col0\" >IQR</td>\n",
       "      <td id=\"T_0070d_row11_col1\" class=\"data row11 col1\" >21.344620</td>\n",
       "    </tr>\n",
       "    <tr>\n",
       "      <th id=\"T_0070d_level0_row12\" class=\"row_heading level0 row12\" >12</th>\n",
       "      <td id=\"T_0070d_row12_col0\" class=\"data row12 col0\" >skewness</td>\n",
       "      <td id=\"T_0070d_row12_col1\" class=\"data row12 col1\" >-0.051383</td>\n",
       "    </tr>\n",
       "    <tr>\n",
       "      <th id=\"T_0070d_level0_row13\" class=\"row_heading level0 row13\" >13</th>\n",
       "      <td id=\"T_0070d_row13_col0\" class=\"data row13 col0\" >kurtosis</td>\n",
       "      <td id=\"T_0070d_row13_col1\" class=\"data row13 col1\" >0.223017</td>\n",
       "    </tr>\n",
       "  </tbody>\n",
       "</table>\n"
      ],
      "text/plain": [
       "<pandas.io.formats.style.Styler at 0x127d4178ca0>"
      ]
     },
     "execution_count": 68,
     "metadata": {},
     "output_type": "execute_result"
    }
   ],
   "source": [
    "# Deskripsi Statistika Trihalometanes\n",
    "soal1('Trihalometanes')"
   ]
  },
  {
   "cell_type": "code",
   "execution_count": 69,
   "metadata": {},
   "outputs": [
    {
     "data": {
      "text/html": [
       "<style type=\"text/css\">\n",
       "</style>\n",
       "<table id=\"T_27a26\" style='display:inline'>\n",
       "  <caption>Deskripsi Statistik Turbidity</caption>\n",
       "  <thead>\n",
       "    <tr>\n",
       "      <th class=\"blank level0\" >&nbsp;</th>\n",
       "      <th id=\"T_27a26_level0_col0\" class=\"col_heading level0 col0\" >0</th>\n",
       "      <th id=\"T_27a26_level0_col1\" class=\"col_heading level0 col1\" >1</th>\n",
       "    </tr>\n",
       "  </thead>\n",
       "  <tbody>\n",
       "    <tr>\n",
       "      <th id=\"T_27a26_level0_row0\" class=\"row_heading level0 row0\" >0</th>\n",
       "      <td id=\"T_27a26_row0_col0\" class=\"data row0 col0\" >mean</td>\n",
       "      <td id=\"T_27a26_row0_col1\" class=\"data row0 col1\" >3.969497</td>\n",
       "    </tr>\n",
       "    <tr>\n",
       "      <th id=\"T_27a26_level0_row1\" class=\"row_heading level0 row1\" >1</th>\n",
       "      <td id=\"T_27a26_row1_col0\" class=\"data row1 col0\" >median</td>\n",
       "      <td id=\"T_27a26_row1_col1\" class=\"data row1 col1\" >3.967374</td>\n",
       "    </tr>\n",
       "    <tr>\n",
       "      <th id=\"T_27a26_level0_row2\" class=\"row_heading level0 row2\" >2</th>\n",
       "      <td id=\"T_27a26_row2_col0\" class=\"data row2 col0\" >modus</td>\n",
       "      <td id=\"T_27a26_row2_col1\" class=\"data row2 col1\" >[1.45       1.49220662 1.49610094 ... 6.38916101 6.49424947 6.49474856]</td>\n",
       "    </tr>\n",
       "    <tr>\n",
       "      <th id=\"T_27a26_level0_row3\" class=\"row_heading level0 row3\" >3</th>\n",
       "      <td id=\"T_27a26_row3_col0\" class=\"data row3 col0\" >standar deviasi</td>\n",
       "      <td id=\"T_27a26_row3_col1\" class=\"data row3 col1\" >0.780471</td>\n",
       "    </tr>\n",
       "    <tr>\n",
       "      <th id=\"T_27a26_level0_row4\" class=\"row_heading level0 row4\" >4</th>\n",
       "      <td id=\"T_27a26_row4_col0\" class=\"data row4 col0\" >variansi</td>\n",
       "      <td id=\"T_27a26_row4_col1\" class=\"data row4 col1\" >0.609135</td>\n",
       "    </tr>\n",
       "    <tr>\n",
       "      <th id=\"T_27a26_level0_row5\" class=\"row_heading level0 row5\" >5</th>\n",
       "      <td id=\"T_27a26_row5_col0\" class=\"data row5 col0\" >range</td>\n",
       "      <td id=\"T_27a26_row5_col1\" class=\"data row5 col1\" >5.044749</td>\n",
       "    </tr>\n",
       "    <tr>\n",
       "      <th id=\"T_27a26_level0_row6\" class=\"row_heading level0 row6\" >6</th>\n",
       "      <td id=\"T_27a26_row6_col0\" class=\"data row6 col0\" >minimum</td>\n",
       "      <td id=\"T_27a26_row6_col1\" class=\"data row6 col1\" >1.450000</td>\n",
       "    </tr>\n",
       "    <tr>\n",
       "      <th id=\"T_27a26_level0_row7\" class=\"row_heading level0 row7\" >7</th>\n",
       "      <td id=\"T_27a26_row7_col0\" class=\"data row7 col0\" >maksimum</td>\n",
       "      <td id=\"T_27a26_row7_col1\" class=\"data row7 col1\" >6.494749</td>\n",
       "    </tr>\n",
       "    <tr>\n",
       "      <th id=\"T_27a26_level0_row8\" class=\"row_heading level0 row8\" >8</th>\n",
       "      <td id=\"T_27a26_row8_col0\" class=\"data row8 col0\" >kuartil 1</td>\n",
       "      <td id=\"T_27a26_row8_col1\" class=\"data row8 col1\" >3.442882</td>\n",
       "    </tr>\n",
       "    <tr>\n",
       "      <th id=\"T_27a26_level0_row9\" class=\"row_heading level0 row9\" >9</th>\n",
       "      <td id=\"T_27a26_row9_col0\" class=\"data row9 col0\" >kuartil 2</td>\n",
       "      <td id=\"T_27a26_row9_col1\" class=\"data row9 col1\" >3.967374</td>\n",
       "    </tr>\n",
       "    <tr>\n",
       "      <th id=\"T_27a26_level0_row10\" class=\"row_heading level0 row10\" >10</th>\n",
       "      <td id=\"T_27a26_row10_col0\" class=\"data row10 col0\" >kuartil 3</td>\n",
       "      <td id=\"T_27a26_row10_col1\" class=\"data row10 col1\" >4.514663</td>\n",
       "    </tr>\n",
       "    <tr>\n",
       "      <th id=\"T_27a26_level0_row11\" class=\"row_heading level0 row11\" >11</th>\n",
       "      <td id=\"T_27a26_row11_col0\" class=\"data row11 col0\" >IQR</td>\n",
       "      <td id=\"T_27a26_row11_col1\" class=\"data row11 col1\" >1.071781</td>\n",
       "    </tr>\n",
       "    <tr>\n",
       "      <th id=\"T_27a26_level0_row12\" class=\"row_heading level0 row12\" >12</th>\n",
       "      <td id=\"T_27a26_row12_col0\" class=\"data row12 col0\" >skewness</td>\n",
       "      <td id=\"T_27a26_row12_col1\" class=\"data row12 col1\" >-0.032266</td>\n",
       "    </tr>\n",
       "    <tr>\n",
       "      <th id=\"T_27a26_level0_row13\" class=\"row_heading level0 row13\" >13</th>\n",
       "      <td id=\"T_27a26_row13_col0\" class=\"data row13 col0\" >kurtosis</td>\n",
       "      <td id=\"T_27a26_row13_col1\" class=\"data row13 col1\" >-0.049831</td>\n",
       "    </tr>\n",
       "  </tbody>\n",
       "</table>\n"
      ],
      "text/plain": [
       "<pandas.io.formats.style.Styler at 0x127d3f0c370>"
      ]
     },
     "execution_count": 69,
     "metadata": {},
     "output_type": "execute_result"
    }
   ],
   "source": [
    "# Deskripsi Statistika Turbidity\n",
    "soal1('Turbidity')"
   ]
  },
  {
   "cell_type": "code",
   "execution_count": 70,
   "metadata": {},
   "outputs": [
    {
     "data": {
      "text/html": [
       "<style type=\"text/css\">\n",
       "</style>\n",
       "<table id=\"T_d8dd8\" style='display:inline'>\n",
       "  <caption>Deskripsi Statistik Potability</caption>\n",
       "  <thead>\n",
       "    <tr>\n",
       "      <th class=\"blank level0\" >&nbsp;</th>\n",
       "      <th id=\"T_d8dd8_level0_col0\" class=\"col_heading level0 col0\" >0</th>\n",
       "      <th id=\"T_d8dd8_level0_col1\" class=\"col_heading level0 col1\" >1</th>\n",
       "    </tr>\n",
       "  </thead>\n",
       "  <tbody>\n",
       "    <tr>\n",
       "      <th id=\"T_d8dd8_level0_row0\" class=\"row_heading level0 row0\" >0</th>\n",
       "      <td id=\"T_d8dd8_row0_col0\" class=\"data row0 col0\" >mean</td>\n",
       "      <td id=\"T_d8dd8_row0_col1\" class=\"data row0 col1\" >0.402985</td>\n",
       "    </tr>\n",
       "    <tr>\n",
       "      <th id=\"T_d8dd8_level0_row1\" class=\"row_heading level0 row1\" >1</th>\n",
       "      <td id=\"T_d8dd8_row1_col0\" class=\"data row1 col0\" >median</td>\n",
       "      <td id=\"T_d8dd8_row1_col1\" class=\"data row1 col1\" >0.000000</td>\n",
       "    </tr>\n",
       "    <tr>\n",
       "      <th id=\"T_d8dd8_level0_row2\" class=\"row_heading level0 row2\" >2</th>\n",
       "      <td id=\"T_d8dd8_row2_col0\" class=\"data row2 col0\" >modus</td>\n",
       "      <td id=\"T_d8dd8_row2_col1\" class=\"data row2 col1\" >[0]</td>\n",
       "    </tr>\n",
       "    <tr>\n",
       "      <th id=\"T_d8dd8_level0_row3\" class=\"row_heading level0 row3\" >3</th>\n",
       "      <td id=\"T_d8dd8_row3_col0\" class=\"data row3 col0\" >standar deviasi</td>\n",
       "      <td id=\"T_d8dd8_row3_col1\" class=\"data row3 col1\" >0.490620</td>\n",
       "    </tr>\n",
       "    <tr>\n",
       "      <th id=\"T_d8dd8_level0_row4\" class=\"row_heading level0 row4\" >4</th>\n",
       "      <td id=\"T_d8dd8_row4_col0\" class=\"data row4 col0\" >variansi</td>\n",
       "      <td id=\"T_d8dd8_row4_col1\" class=\"data row4 col1\" >0.240708</td>\n",
       "    </tr>\n",
       "    <tr>\n",
       "      <th id=\"T_d8dd8_level0_row5\" class=\"row_heading level0 row5\" >5</th>\n",
       "      <td id=\"T_d8dd8_row5_col0\" class=\"data row5 col0\" >range</td>\n",
       "      <td id=\"T_d8dd8_row5_col1\" class=\"data row5 col1\" >1</td>\n",
       "    </tr>\n",
       "    <tr>\n",
       "      <th id=\"T_d8dd8_level0_row6\" class=\"row_heading level0 row6\" >6</th>\n",
       "      <td id=\"T_d8dd8_row6_col0\" class=\"data row6 col0\" >minimum</td>\n",
       "      <td id=\"T_d8dd8_row6_col1\" class=\"data row6 col1\" >0</td>\n",
       "    </tr>\n",
       "    <tr>\n",
       "      <th id=\"T_d8dd8_level0_row7\" class=\"row_heading level0 row7\" >7</th>\n",
       "      <td id=\"T_d8dd8_row7_col0\" class=\"data row7 col0\" >maksimum</td>\n",
       "      <td id=\"T_d8dd8_row7_col1\" class=\"data row7 col1\" >1</td>\n",
       "    </tr>\n",
       "    <tr>\n",
       "      <th id=\"T_d8dd8_level0_row8\" class=\"row_heading level0 row8\" >8</th>\n",
       "      <td id=\"T_d8dd8_row8_col0\" class=\"data row8 col0\" >kuartil 1</td>\n",
       "      <td id=\"T_d8dd8_row8_col1\" class=\"data row8 col1\" >0.000000</td>\n",
       "    </tr>\n",
       "    <tr>\n",
       "      <th id=\"T_d8dd8_level0_row9\" class=\"row_heading level0 row9\" >9</th>\n",
       "      <td id=\"T_d8dd8_row9_col0\" class=\"data row9 col0\" >kuartil 2</td>\n",
       "      <td id=\"T_d8dd8_row9_col1\" class=\"data row9 col1\" >0.000000</td>\n",
       "    </tr>\n",
       "    <tr>\n",
       "      <th id=\"T_d8dd8_level0_row10\" class=\"row_heading level0 row10\" >10</th>\n",
       "      <td id=\"T_d8dd8_row10_col0\" class=\"data row10 col0\" >kuartil 3</td>\n",
       "      <td id=\"T_d8dd8_row10_col1\" class=\"data row10 col1\" >1.000000</td>\n",
       "    </tr>\n",
       "    <tr>\n",
       "      <th id=\"T_d8dd8_level0_row11\" class=\"row_heading level0 row11\" >11</th>\n",
       "      <td id=\"T_d8dd8_row11_col0\" class=\"data row11 col0\" >IQR</td>\n",
       "      <td id=\"T_d8dd8_row11_col1\" class=\"data row11 col1\" >1.000000</td>\n",
       "    </tr>\n",
       "    <tr>\n",
       "      <th id=\"T_d8dd8_level0_row12\" class=\"row_heading level0 row12\" >12</th>\n",
       "      <td id=\"T_d8dd8_row12_col0\" class=\"data row12 col0\" >skewness</td>\n",
       "      <td id=\"T_d8dd8_row12_col1\" class=\"data row12 col1\" >0.395873</td>\n",
       "    </tr>\n",
       "    <tr>\n",
       "      <th id=\"T_d8dd8_level0_row13\" class=\"row_heading level0 row13\" >13</th>\n",
       "      <td id=\"T_d8dd8_row13_col0\" class=\"data row13 col0\" >kurtosis</td>\n",
       "      <td id=\"T_d8dd8_row13_col1\" class=\"data row13 col1\" >-1.845122</td>\n",
       "    </tr>\n",
       "  </tbody>\n",
       "</table>\n"
      ],
      "text/plain": [
       "<pandas.io.formats.style.Styler at 0x127d1e74b50>"
      ]
     },
     "execution_count": 70,
     "metadata": {},
     "output_type": "execute_result"
    }
   ],
   "source": [
    "# Deskripsi Statistika Potability\n",
    "soal1('Potability')"
   ]
  },
  {
   "cell_type": "markdown",
   "metadata": {},
   "source": [
    "## Soal No. 2\n",
    "\n",
    "### Membuat Visualisasi plot distribusi, dalam bentuk histogram dan boxplot untuk setiap kolom numerik. Berikan uraian penjelasan kondisi setiap kolom berdasarkan kedua plot tersebut."
   ]
  },
  {
   "cell_type": "code",
   "execution_count": 23,
   "metadata": {},
   "outputs": [],
   "source": [
    "#membuat procedure untuk menghasilkan histogram dan boxplot tiap kolom\n",
    "def boxnHist(column_name):\n",
    "    alpha = 0.05\n",
    "    # membuka file csv\n",
    "    path = '.\\water_potability.csv'\n",
    "    # menamakan kolom\n",
    "    df = pd.read_csv(path, names=[\"id\", \"pH\", \"Hardness\", \"Solids\", \"Chloromines\", \"Sulfate\", \"Conductivity\", \"OrganicCarbon\", \"Trihalomethanes\", \"Turbidity\", \"Potability\"])\n",
    "    df1=df[column_name]\n",
    "    #Membuat Histogram\n",
    "    print(\"Histogram :\")\n",
    "    df1.plot(kind='hist',edgecolor='black', color='#fff6ce', title=\"Histogram \"+ column_name, grid=True)\n",
    "    plt.show()\n",
    "    #Membuat Boxplot\n",
    "    print(\"Boxplot :\")\n",
    "    df.boxplot(column=column_name)\n",
    "    plt.show()"
   ]
  },
  {
   "cell_type": "code",
   "execution_count": 24,
   "metadata": {},
   "outputs": [
    {
     "name": "stdout",
     "output_type": "stream",
     "text": [
      "Histogram :\n"
     ]
    },
    {
     "data": {
      "image/png": "[encoded data removed]",
      "text/plain": [
       "<Figure size 432x288 with 1 Axes>"
      ]
     },
     "metadata": {
      "needs_background": "light"
     },
     "output_type": "display_data"
    },
    {
     "name": "stdout",
     "output_type": "stream",
     "text": [
      "Boxplot :\n"
     ]
    },
    {
     "data": {
      "image/png": "[encoded data removed]",
      "text/plain": [
       "<Figure size 432x288 with 1 Axes>"
      ]
     },
     "metadata": {
      "needs_background": "light"
     },
     "output_type": "display_data"
    },
    {
     "name": "stdout",
     "output_type": "stream",
     "text": [
      "Berdasarkan histogram dan boxplot yang dihasilkan, kolom 'id' termasuk distribusi uniform\n"
     ]
    }
   ],
   "source": [
    "#Histogram dan Boxplot untuk kolom 'id'\n",
    "boxnHist(\"id\")\n",
    "print(\"Berdasarkan histogram dan boxplot yang dihasilkan, kolom 'id' termasuk distribusi uniform\")"
   ]
  },
  {
   "cell_type": "code",
   "execution_count": 25,
   "metadata": {},
   "outputs": [
    {
     "name": "stdout",
     "output_type": "stream",
     "text": [
      "Histogram :\n"
     ]
    },
    {
     "data": {
      "image/png": "[encoded data removed]",
      "text/plain": [
       "<Figure size 432x288 with 1 Axes>"
      ]
     },
     "metadata": {
      "needs_background": "light"
     },
     "output_type": "display_data"
    },
    {
     "name": "stdout",
     "output_type": "stream",
     "text": [
      "Boxplot :\n"
     ]
    },
    {
     "data": {
      "image/png": "[encoded data removed]",
      "text/plain": [
       "<Figure size 432x288 with 1 Axes>"
      ]
     },
     "metadata": {
      "needs_background": "light"
     },
     "output_type": "display_data"
    },
    {
     "name": "stdout",
     "output_type": "stream",
     "text": [
      "Berdasarkan histogram dan boxplot yang dihasilkan, kolom 'pH' memiliki distribusi tidak normal (berbentuk negative skewed) dan memiliki banyak pencilan (outliers) atas dan bawah\n"
     ]
    }
   ],
   "source": [
    "#Histogram dan Boxplot untuk kolom 'pH'\n",
    "boxnHist(\"pH\")\n",
    "print(\"Berdasarkan histogram dan boxplot yang dihasilkan, kolom 'pH' memiliki distribusi tidak normal (berbentuk negative skewed) dan memiliki banyak pencilan (outliers) atas dan bawah\")"
   ]
  },
  {
   "cell_type": "code",
   "execution_count": 26,
   "metadata": {},
   "outputs": [
    {
     "name": "stdout",
     "output_type": "stream",
     "text": [
      "Histogram :\n"
     ]
    },
    {
     "data": {
      "image/png": "[encoded data removed]",
      "text/plain": [
       "<Figure size 432x288 with 1 Axes>"
      ]
     },
     "metadata": {
      "needs_background": "light"
     },
     "output_type": "display_data"
    },
    {
     "name": "stdout",
     "output_type": "stream",
     "text": [
      "Boxplot :\n"
     ]
    },
    {
     "data": {
      "image/png": "[encoded data removed]",
      "text/plain": [
       "<Figure size 432x288 with 1 Axes>"
      ]
     },
     "metadata": {
      "needs_background": "light"
     },
     "output_type": "display_data"
    },
    {
     "name": "stdout",
     "output_type": "stream",
     "text": [
      "Berdasarkan histogram dan boxplot yang dihasilkan, kolom 'Hardness' memiliki distribusi tidak normal (berbentuk positive skewed) dan memiliki banyak pencilan (outliers) atas dan bawah\n"
     ]
    }
   ],
   "source": [
    "#Histogram dan Boxplot untuk kolom 'Hardness'\n",
    "boxnHist(\"Hardness\")\n",
    "print(\"Berdasarkan histogram dan boxplot yang dihasilkan, kolom 'Hardness' memiliki distribusi tidak normal (berbentuk positive skewed) dan memiliki banyak pencilan (outliers) atas dan bawah\")"
   ]
  },
  {
   "cell_type": "code",
   "execution_count": 27,
   "metadata": {},
   "outputs": [
    {
     "name": "stdout",
     "output_type": "stream",
     "text": [
      "Histogram :\n"
     ]
    },
    {
     "data": {
      "image/png": "[encoded data removed]",
      "text/plain": [
       "<Figure size 432x288 with 1 Axes>"
      ]
     },
     "metadata": {
      "needs_background": "light"
     },
     "output_type": "display_data"
    },
    {
     "name": "stdout",
     "output_type": "stream",
     "text": [
      "Boxplot :\n"
     ]
    },
    {
     "data": {
      "image/png": "[encoded data removed]",
      "text/plain": [
       "<Figure size 432x288 with 1 Axes>"
      ]
     },
     "metadata": {
      "needs_background": "light"
     },
     "output_type": "display_data"
    },
    {
     "name": "stdout",
     "output_type": "stream",
     "text": [
      "Berdasarkan histogram dan boxplot yang dihasilkan, kolom 'Solids' memiliki distribusi tidak normal (berbentuk positive skewed) dan hanya memiliki pencilan (outliers) atas\n"
     ]
    }
   ],
   "source": [
    "#Histogram dan Boxplot untuk kolom 'Solids'\n",
    "boxnHist(\"Solids\")\n",
    "print(\"Berdasarkan histogram dan boxplot yang dihasilkan, kolom 'Solids' memiliki distribusi tidak normal (berbentuk positive skewed) dan hanya memiliki pencilan (outliers) atas\")"
   ]
  },
  {
   "cell_type": "code",
   "execution_count": 28,
   "metadata": {},
   "outputs": [
    {
     "name": "stdout",
     "output_type": "stream",
     "text": [
      "Histogram :\n"
     ]
    },
    {
     "data": {
      "image/png": "[encoded data removed]",
      "text/plain": [
       "<Figure size 432x288 with 1 Axes>"
      ]
     },
     "metadata": {
      "needs_background": "light"
     },
     "output_type": "display_data"
    },
    {
     "name": "stdout",
     "output_type": "stream",
     "text": [
      "Boxplot :\n"
     ]
    },
    {
     "data": {
      "image/png": "[encoded data removed]",
      "text/plain": [
       "<Figure size 432x288 with 1 Axes>"
      ]
     },
     "metadata": {
      "needs_background": "light"
     },
     "output_type": "display_data"
    },
    {
     "name": "stdout",
     "output_type": "stream",
     "text": [
      "Berdasarkan histogram dan boxplot yang dihasilkan, kolom 'Chloromines' memiliki distribusi tidak normal (berbentuk positive skewed) dan memiliki banyak pencilan (outliers) atas dan bawah\n"
     ]
    }
   ],
   "source": [
    "#Histogram dan Boxplot untuk kolom 'Chloromines'\n",
    "boxnHist(\"Chloromines\")\n",
    "print(\"Berdasarkan histogram dan boxplot yang dihasilkan, kolom 'Chloromines' memiliki distribusi tidak normal (berbentuk positive skewed) dan memiliki banyak pencilan (outliers) atas dan bawah\")"
   ]
  },
  {
   "cell_type": "code",
   "execution_count": 29,
   "metadata": {},
   "outputs": [
    {
     "name": "stdout",
     "output_type": "stream",
     "text": [
      "Histogram :\n"
     ]
    },
    {
     "data": {
      "image/png": "[encoded data removed]",
      "text/plain": [
       "<Figure size 432x288 with 1 Axes>"
      ]
     },
     "metadata": {
      "needs_background": "light"
     },
     "output_type": "display_data"
    },
    {
     "name": "stdout",
     "output_type": "stream",
     "text": [
      "Boxplot :\n"
     ]
    },
    {
     "data": {
      "image/png": "[encoded data removed]",
      "text/plain": [
       "<Figure size 432x288 with 1 Axes>"
      ]
     },
     "metadata": {
      "needs_background": "light"
     },
     "output_type": "display_data"
    },
    {
     "name": "stdout",
     "output_type": "stream",
     "text": [
      "Berdasarkan histogram dan boxplot yang dihasilkan, kolom 'Sulfate' memiliki distribusi tidak normal (berbentuk negative skewed) dan memiliki banyak pencilan (outliers) atas dan bawah\n"
     ]
    }
   ],
   "source": [
    "#Histogram dan Boxplot untuk kolom 'Sulfate'\n",
    "boxnHist(\"Sulfate\")\n",
    "print(\"Berdasarkan histogram dan boxplot yang dihasilkan, kolom 'Sulfate' memiliki distribusi tidak normal (berbentuk negative skewed) dan memiliki banyak pencilan (outliers) atas dan bawah\")"
   ]
  },
  {
   "cell_type": "code",
   "execution_count": 30,
   "metadata": {},
   "outputs": [
    {
     "name": "stdout",
     "output_type": "stream",
     "text": [
      "Histogram :\n"
     ]
    },
    {
     "data": {
      "image/png": "[encoded data removed]",
      "text/plain": [
       "<Figure size 432x288 with 1 Axes>"
      ]
     },
     "metadata": {
      "needs_background": "light"
     },
     "output_type": "display_data"
    },
    {
     "name": "stdout",
     "output_type": "stream",
     "text": [
      "Boxplot :\n"
     ]
    },
    {
     "data": {
      "image/png": "[encoded data removed]",
      "text/plain": [
       "<Figure size 432x288 with 1 Axes>"
      ]
     },
     "metadata": {
      "needs_background": "light"
     },
     "output_type": "display_data"
    },
    {
     "name": "stdout",
     "output_type": "stream",
     "text": [
      "Berdasarkan histogram dan boxplot yang dihasilkan, kolom 'Conductivity' memiliki distribusi tidak normal (berbentuk positive skewed) dan memiliki beberapa pencilan (outliers) atas\n"
     ]
    }
   ],
   "source": [
    "#Histogram dan Boxplot untuk kolom 'Conductivity'\n",
    "boxnHist(\"Conductivity\")\n",
    "print(\"Berdasarkan histogram dan boxplot yang dihasilkan, kolom 'Conductivity' memiliki distribusi tidak normal (berbentuk positive skewed) dan memiliki beberapa pencilan (outliers) atas\")"
   ]
  },
  {
   "cell_type": "code",
   "execution_count": 31,
   "metadata": {},
   "outputs": [
    {
     "name": "stdout",
     "output_type": "stream",
     "text": [
      "Histogram :\n"
     ]
    },
    {
     "data": {
      "image/png": "[encoded data removed]",
      "text/plain": [
       "<Figure size 432x288 with 1 Axes>"
      ]
     },
     "metadata": {
      "needs_background": "light"
     },
     "output_type": "display_data"
    },
    {
     "name": "stdout",
     "output_type": "stream",
     "text": [
      "Boxplot :\n"
     ]
    },
    {
     "data": {
      "image/png": "[encoded data removed]",
      "text/plain": [
       "<Figure size 432x288 with 1 Axes>"
      ]
     },
     "metadata": {
      "needs_background": "light"
     },
     "output_type": "display_data"
    },
    {
     "name": "stdout",
     "output_type": "stream",
     "text": [
      "Berdasarkan histogram dan boxplot yang dihasilkan, kolom 'OrganicCarbon' memiliki distribusi normal (relatif simetris) dan memiliki banyak pencilan (outliers) atas dan bawah\n"
     ]
    }
   ],
   "source": [
    "#Histogram dan Boxplot untuk kolom 'OrganicCarbon'\n",
    "boxnHist(\"OrganicCarbon\")\n",
    "print(\"Berdasarkan histogram dan boxplot yang dihasilkan, kolom 'OrganicCarbon' memiliki distribusi normal (relatif simetris) dan memiliki banyak pencilan (outliers) atas dan bawah\")"
   ]
  },
  {
   "cell_type": "code",
   "execution_count": 32,
   "metadata": {},
   "outputs": [
    {
     "name": "stdout",
     "output_type": "stream",
     "text": [
      "Histogram :\n"
     ]
    },
    {
     "data": {
      "image/png": "[encoded data removed]",
      "text/plain": [
       "<Figure size 432x288 with 1 Axes>"
      ]
     },
     "metadata": {
      "needs_background": "light"
     },
     "output_type": "display_data"
    },
    {
     "name": "stdout",
     "output_type": "stream",
     "text": [
      "Boxplot :\n"
     ]
    },
    {
     "data": {
      "image/png": "[encoded data removed]",
      "text/plain": [
       "<Figure size 432x288 with 1 Axes>"
      ]
     },
     "metadata": {
      "needs_background": "light"
     },
     "output_type": "display_data"
    },
    {
     "name": "stdout",
     "output_type": "stream",
     "text": [
      "Berdasarkan histogram dan boxplot yang dihasilkan, kolom 'Trihalomethanes' memiliki distribusi normal (relatif simetris) dan memiliki banyak pencilan (outliers) atas dan bawah\n"
     ]
    }
   ],
   "source": [
    "#Histogram dan Boxplot untuk kolom 'Trihalomethanes'\n",
    "boxnHist(\"Trihalomethanes\")\n",
    "print(\"Berdasarkan histogram dan boxplot yang dihasilkan, kolom 'Trihalomethanes' memiliki distribusi normal (relatif simetris) dan memiliki banyak pencilan (outliers) atas dan bawah\")"
   ]
  },
  {
   "cell_type": "code",
   "execution_count": 33,
   "metadata": {},
   "outputs": [
    {
     "name": "stdout",
     "output_type": "stream",
     "text": [
      "Histogram :\n"
     ]
    },
    {
     "data": {
      "image/png": "[encoded data removed]",
      "text/plain": [
       "<Figure size 432x288 with 1 Axes>"
      ]
     },
     "metadata": {
      "needs_background": "light"
     },
     "output_type": "display_data"
    },
    {
     "name": "stdout",
     "output_type": "stream",
     "text": [
      "Boxplot :\n"
     ]
    },
    {
     "data": {
      "image/png": "[encoded data removed]",
      "text/plain": [
       "<Figure size 432x288 with 1 Axes>"
      ]
     },
     "metadata": {
      "needs_background": "light"
     },
     "output_type": "display_data"
    },
    {
     "name": "stdout",
     "output_type": "stream",
     "text": [
      "Berdasarkan histogram dan boxplot yang dihasilkan, kolom 'Turbidity' memiliki distribusi normal (relatif simetris) dan memiliki banyak pencilan (outliers) atas dan bawah\n"
     ]
    }
   ],
   "source": [
    "#Histogram dan Boxplot untuk kolom 'Turbidity'\n",
    "boxnHist(\"Turbidity\")\n",
    "print(\"Berdasarkan histogram dan boxplot yang dihasilkan, kolom 'Turbidity' memiliki distribusi normal (relatif simetris) dan memiliki banyak pencilan (outliers) atas dan bawah\")"
   ]
  },
  {
   "cell_type": "code",
   "execution_count": 34,
   "metadata": {},
   "outputs": [
    {
     "name": "stdout",
     "output_type": "stream",
     "text": [
      "Histogram :\n"
     ]
    },
    {
     "data": {
      "image/png": "[encoded data removed]",
      "text/plain": [
       "<Figure size 432x288 with 1 Axes>"
      ]
     },
     "metadata": {
      "needs_background": "light"
     },
     "output_type": "display_data"
    },
    {
     "name": "stdout",
     "output_type": "stream",
     "text": [
      "Boxplot :\n"
     ]
    },
    {
     "data": {
      "image/png": "[encoded data removed]",
      "text/plain": [
       "<Figure size 432x288 with 1 Axes>"
      ]
     },
     "metadata": {
      "needs_background": "light"
     },
     "output_type": "display_data"
    },
    {
     "name": "stdout",
     "output_type": "stream",
     "text": [
      "Berdasarkan histogram dan boxplot yang dihasilkan, kolom 'Potability' memiliki distribusi tidak normal (hanya memiliki nilai 0 atau 1 saja) dan tidak memiliki pencilan (outliers)\n"
     ]
    }
   ],
   "source": [
    "#Histogram dan Boxplot untuk kolom 'Potability'\n",
    "boxnHist(\"Potability\")\n",
    "print(\"Berdasarkan histogram dan boxplot yang dihasilkan, kolom 'Potability' memiliki distribusi tidak normal (hanya memiliki nilai 0 atau 1 saja) dan tidak memiliki pencilan (outliers)\")"
   ]
  },
  {
   "cell_type": "markdown",
   "metadata": {},
   "source": [
    "## Soal No. 3\n",
    "\n",
    "### Menentukan setiap kolom numerik berdistribusi normal atau tidak. Gunakan normality test yang dikaitkan dengan histogram plot."
   ]
  },
  {
   "cell_type": "code",
   "execution_count": 35,
   "metadata": {},
   "outputs": [],
   "source": [
    "def soal3(label):\n",
    "    df = pd.read_csv(\"water_potability.csv\", names=[\"id\", \"pH\",\"Hardness\",\"Solids\",\"Chrolomines\",\"Sulfate\",\"Conductivity\",\"OrganicCarbon\",\"Trihalometanes\",\"Turbidity\",\"Potability\"])\n",
    "    statistic, p_val = s.normaltest(df[label])\n",
    "    print(\"Nilai P :\", p_val)\n",
    "    if p_val > 0.05:\n",
    "        print(\"Data {} berdistribusi normal\".format(label))\n",
    "    else:\n",
    "        print(\"Data {} tidak berdistribusi normal\".format(label))"
   ]
  },
  {
   "cell_type": "code",
   "execution_count": 36,
   "metadata": {},
   "outputs": [
    {
     "name": "stdout",
     "output_type": "stream",
     "text": [
      "Nilai P : 2.6514813346797777e-05\n",
      "Data pH tidak berdistribusi normal\n"
     ]
    }
   ],
   "source": [
    "soal3(\"pH\")"
   ]
  },
  {
   "cell_type": "code",
   "execution_count": 37,
   "metadata": {},
   "outputs": [
    {
     "name": "stdout",
     "output_type": "stream",
     "text": [
      "Nilai P : 0.00013442428699593753\n",
      "Data Hardness tidak berdistribusi normal\n"
     ]
    }
   ],
   "source": [
    "soal3(\"Hardness\")"
   ]
  },
  {
   "cell_type": "code",
   "execution_count": 38,
   "metadata": {},
   "outputs": [
    {
     "name": "stdout",
     "output_type": "stream",
     "text": [
      "Nilai P : 2.0796613688739523e-24\n",
      "Data Solids tidak berdistribusi normal\n"
     ]
    }
   ],
   "source": [
    "soal3(\"Solids\")"
   ]
  },
  {
   "cell_type": "code",
   "execution_count": 39,
   "metadata": {},
   "outputs": [
    {
     "name": "stdout",
     "output_type": "stream",
     "text": [
      "Nilai P : 0.0002504831654753917\n",
      "Data Chrolomines tidak berdistribusi normal\n"
     ]
    }
   ],
   "source": [
    "soal3(\"Chrolomines\")"
   ]
  },
  {
   "cell_type": "code",
   "execution_count": 40,
   "metadata": {},
   "outputs": [
    {
     "name": "stdout",
     "output_type": "stream",
     "text": [
      "Nilai P : 4.4255936678013136e-07\n",
      "Data Sulfate tidak berdistribusi normal\n"
     ]
    }
   ],
   "source": [
    "soal3(\"Sulfate\")"
   ]
  },
  {
   "cell_type": "code",
   "execution_count": 41,
   "metadata": {},
   "outputs": [
    {
     "name": "stdout",
     "output_type": "stream",
     "text": [
      "Nilai P : 4.39018078287845e-07\n",
      "Data Conductivity tidak berdistribusi normal\n"
     ]
    }
   ],
   "source": [
    "soal3(\"Conductivity\")"
   ]
  },
  {
   "cell_type": "code",
   "execution_count": 42,
   "metadata": {},
   "outputs": [
    {
     "name": "stdout",
     "output_type": "stream",
     "text": [
      "Nilai P : 0.8825496581408284\n",
      "Data OrganicCarbon berdistribusi normal\n"
     ]
    }
   ],
   "source": [
    "soal3(\"OrganicCarbon\")"
   ]
  },
  {
   "cell_type": "code",
   "execution_count": 43,
   "metadata": {},
   "outputs": [
    {
     "name": "stdout",
     "output_type": "stream",
     "text": [
      "Nilai P : 0.1043598441875204\n",
      "Data Trihalometanes berdistribusi normal\n"
     ]
    }
   ],
   "source": [
    "soal3(\"Trihalometanes\")"
   ]
  },
  {
   "cell_type": "code",
   "execution_count": 44,
   "metadata": {},
   "outputs": [
    {
     "name": "stdout",
     "output_type": "stream",
     "text": [
      "Nilai P : 0.7694717369961169\n",
      "Data Turbidity berdistribusi normal\n"
     ]
    }
   ],
   "source": [
    "soal3(\"Turbidity\")"
   ]
  },
  {
   "cell_type": "code",
   "execution_count": 45,
   "metadata": {},
   "outputs": [
    {
     "name": "stdout",
     "output_type": "stream",
     "text": [
      "Nilai P : 0.0\n",
      "Data Potability tidak berdistribusi normal\n"
     ]
    }
   ],
   "source": [
    "soal3(\"Potability\")"
   ]
  },
  {
   "cell_type": "markdown",
   "metadata": {},
   "source": [
    "## Soal No. 4\n",
    "\n",
    "### Melakukan test hipotesis 1 sampel, dengan menuliskan 6 langkah testing dan menampilkan juga boxplotnya untuk kolom/bagian yang bersesuaian.\n",
    "\n",
    "### a. Nilai Rata-rata pH di atas 7?\n",
    "\n",
    "### b. Nilai Rata-rata Hardness tidak sama dengan 205?\n",
    "\n",
    "### c. Nilai Rata-rata 100 baris pertama kolom Solids bukan 21900?\n",
    "\n",
    "### d. Proporsi nilai Conductivity yang lebih dari 450, adalah tidak sama dengan 10%?\n",
    "\n",
    "### e. Proporsi nilai Trihalomethanes yang kurang dari 40, adalah kurang dari 5%?"
   ]
  },
  {
   "cell_type": "code",
   "execution_count": 47,
   "metadata": {},
   "outputs": [],
   "source": [
    "import os\n",
    "import pandas as pd\n",
    "import matplotlib.pyplot as plt\n",
    "import scipy.stats as s\n",
    "import math\n",
    "\n",
    "def z_score(x, mean, std, n):\n",
    "    return (x-mean)*math.sqrt(n)/std\n",
    "def p_to_z(p):\n",
    "    return s.norm.ppf(p)\n",
    "def z_to_p(z):\n",
    "    return s.norm.cdf(z)\n",
    "\n",
    "# membuka file csv\n",
    "path = '.\\water_potability.csv'\n",
    "# menamakan kolom\n",
    "df = pd.read_csv(path, names=[\"id\", \"pH\", \"Hardness\", \"Solids\", \"Chloromines\", \"Sulfate\", \"Conductivity\", \"OrganicCarbon\", \"Trihalomethanes\", \"Turbidity\", \"Potability\"])"
   ]
  },
  {
   "cell_type": "markdown",
   "metadata": {},
   "source": [
    "### a. Nilai Rata-rata pH di atas 7"
   ]
  },
  {
   "cell_type": "code",
   "execution_count": 48,
   "metadata": {},
   "outputs": [
    {
     "name": "stdout",
     "output_type": "stream",
     "text": [
      "Sampel yang diambil adalah seluruh populasinya.\n",
      "Langkah Uji Hipotesis:\n",
      "1. Menentukan Hipotesis Nol, H0 : mean = 7\n",
      "2. Menentukan Hipotesis Alternatif, H1 : mean > 7\n",
      "3. Tingkat signifikansi alpha, dengan alpha = 0.05\n",
      "4. Menentukan uji statistik yang sesuai dan Menentukan daerah kritis\n",
      "Daerah kritis hipotesis alternatif ada di sebelah kanan nilai kritis, daerah kritis : z > 1.645\n",
      "5. Hitung nilai uji statistik dari data sample. Hitung p-value sesuai dengan uji statistik yang digunakan.\n",
      "Nilai uji statistik (z) : 2.485445147379887\n",
      "P-value : 0.006469476288896492\n",
      "6. Keputusan: \n",
      "Berdasarkan uji hipotesis menggunakan nilai z, karena z > z_alpha (berada di daerah kritis), maka hipotesis nol (H0) DITOLAK\n",
      "Sehingga didapat kesimpulan bahwa Nilai rata-rata pH di atas 7\n"
     ]
    },
    {
     "data": {
      "image/png": "[encoded data removed]",
      "text/plain": [
       "<Figure size 432x288 with 1 Axes>"
      ]
     },
     "metadata": {
      "needs_background": "light"
     },
     "output_type": "display_data"
    }
   ],
   "source": [
    "print(\"Sampel yang diambil adalah seluruh populasinya.\")\n",
    "print(\"Langkah Uji Hipotesis:\")\n",
    "print(\"1. Menentukan Hipotesis Nol, H0 : mean = 7\")\n",
    "print(\"2. Menentukan Hipotesis Alternatif, H1 : mean > 7\")\n",
    "print(\"3. Tingkat signifikansi alpha, dengan alpha = 0.05\")\n",
    "alpha = 0.05\n",
    "print(\"4. Menentukan uji statistik yang sesuai dan Menentukan daerah kritis\")\n",
    "#one tails\n",
    "print(\"Daerah kritis hipotesis alternatif ada di sebelah kanan nilai kritis, daerah kritis : z > 1.645\")\n",
    "print(\"5. Hitung nilai uji statistik dari data sample. Hitung p-value sesuai dengan uji statistik yang digunakan.\")\n",
    "mean = 7\n",
    "rataan = df['pH'].mean()\n",
    "std = df['pH'].std()\n",
    "n = df['pH'].count() #ambil sample sepopulasi\n",
    "z = z_score(rataan, mean, std, n)\n",
    "p = 1 - z_to_p(z)\n",
    "z_alpha = p_to_z(1-alpha)\n",
    "print(\"Nilai uji statistik (z) : \" +str(z))\n",
    "print(\"P-value : \" + str(p))\n",
    "# 6. Ambil keputusan tolak atau terima, berdasarkan uji statistik\n",
    "print(\"6. Keputusan: \")\n",
    "print(\"Berdasarkan uji hipotesis menggunakan nilai z,\", end=' ')\n",
    "if (z > z_alpha):\n",
    "  print(\"karena z > z_alpha (berada di daerah kritis), maka hipotesis nol (H0) DITOLAK\")\n",
    "  print(\"Sehingga didapat kesimpulan bahwa Nilai rata-rata pH di atas 7\")\n",
    "else:\n",
    "  print(\"karena z <= z_alpha (tidak berada di daerah kritis), maka hipotesis nol (H0) TIDAK DITOLAK\")\n",
    "  print(\"Sehingga didapat kesimpulan bahwa Nilai rata-rata pH tidak di atas 7\")\n",
    "\n",
    "df.boxplot(column=\"pH\")\n",
    "plt.show()"
   ]
  },
  {
   "cell_type": "markdown",
   "metadata": {},
   "source": [
    "### b. Nilai Rata-rata Hardness tidak sama dengan 205"
   ]
  },
  {
   "cell_type": "code",
   "execution_count": 49,
   "metadata": {},
   "outputs": [
    {
     "name": "stdout",
     "output_type": "stream",
     "text": [
      "Sampel yang diambil adalah seluruh populasinya.\n",
      "Langkah Uji Hipotesis:\n",
      "1. Menentukan Hipotesis Nol, H0 : mean = 205\n",
      "2. Menentukan Hipotesis Alternatif, H1 : mean != 205\n",
      "3. Tingkat signifikansi alpha, dengan alpha = 0.05\n",
      "4. Menentukan uji statistik yang sesuai dan Menentukan daerah kritis\n",
      "Daerah kritis hipotesis alternatif ada di sebelah kanan nilai kritis dan kiri -nilai kritis, daerah kritis : z < -1.96 atau z > 1.96\n",
      "5. Hitung nilai uji statistik dari data sample. Hitung p-value sesuai dengan uji statistik yang digunakan.\n",
      "Nilai uji statistik (z) : -12.403137170010732\n",
      "P-value : 0.0\n",
      "6. Keputusan: \n",
      "Berdasarkan uji hipotesis menggunakan nilai z, karena z < -z_alpha atau z > z_alpha (berada di daerah kritis), maka hipotesis nol (H0) DITOLAK\n",
      "Sehingga didapat kesimpulan bahwa Nilai rata-rata Hardness tidak sama dengan 205\n"
     ]
    },
    {
     "data": {
      "image/png": "[encoded data removed]",
      "text/plain": [
       "<Figure size 432x288 with 1 Axes>"
      ]
     },
     "metadata": {
      "needs_background": "light"
     },
     "output_type": "display_data"
    }
   ],
   "source": [
    "print(\"Sampel yang diambil adalah seluruh populasinya.\")\n",
    "print(\"Langkah Uji Hipotesis:\")\n",
    "print(\"1. Menentukan Hipotesis Nol, H0 : mean = 205\")\n",
    "print(\"2. Menentukan Hipotesis Alternatif, H1 : mean != 205\")\n",
    "print(\"3. Tingkat signifikansi alpha, dengan alpha = 0.05\")\n",
    "alpha = 0.05\n",
    "print(\"4. Menentukan uji statistik yang sesuai dan Menentukan daerah kritis\")\n",
    "#two tails\n",
    "print(\"Daerah kritis hipotesis alternatif ada di sebelah kanan nilai kritis dan kiri -nilai kritis, daerah kritis : z < -1.96 atau z > 1.96\")\n",
    "print(\"5. Hitung nilai uji statistik dari data sample. Hitung p-value sesuai dengan uji statistik yang digunakan.\")\n",
    "mean = 205\n",
    "rataan = df['Hardness'].mean()\n",
    "std = df['Hardness'].std()\n",
    "n = df['Hardness'].count() #ambil sample sepopulasi\n",
    "z = z_score(rataan, mean, std, n)\n",
    "z_alpha = p_to_z(1-alpha/2)\n",
    "p = 2*(1-z_to_p(abs(z)))  #dikali dua karena two tails\n",
    "print(\"Nilai uji statistik (z) : \" +str(z))\n",
    "print(\"P-value : \" + str(p))\n",
    "# 6. Ambil keputusan tolak atau terima, berdasarkan uji statistik\n",
    "print(\"6. Keputusan: \")\n",
    "print(\"Berdasarkan uji hipotesis menggunakan nilai z,\", end=' ')\n",
    "if (z < -z_alpha or z > z_alpha) :\n",
    "  print(\"karena z < -z_alpha atau z > z_alpha (berada di daerah kritis), maka hipotesis nol (H0) DITOLAK\")\n",
    "  print(\"Sehingga didapat kesimpulan bahwa Nilai rata-rata Hardness tidak sama dengan 205\")\n",
    "else:\n",
    "  print(\"karena -z_alpha <= z <= alpha, maka hipotesis nol (H0) TIDAK DITOLAK\")\n",
    "  print(\"Sehingga didapat kesimpulan bahwa Nilai rata-rata Hardness sama dengan 205\")\n",
    "\n",
    "df.boxplot(column=\"Hardness\")\n",
    "plt.show()"
   ]
  },
  {
   "cell_type": "markdown",
   "metadata": {},
   "source": [
    "### c. Nilai Rata-rata 100 baris pertama kolom Solids bukan 21900"
   ]
  },
  {
   "cell_type": "code",
   "execution_count": 50,
   "metadata": {},
   "outputs": [
    {
     "name": "stdout",
     "output_type": "stream",
     "text": [
      "Sampel yang diambil adalah 100 baris pertama.\n",
      "Langkah Uji Hipotesis:\n",
      "1. Menentukan Hipotesis Nol, H0 : mean = 21900\n",
      "2. Menentukan Hipotesis Alternatif, H1 : mean != 21900\n",
      "3. Tingkat signifikansi alpha, dengan alpha = 0.05\n",
      "4. Menentukan uji statistik yang sesuai dan Menentukan daerah kritis\n",
      "Daerah kritis hipotesis alternatif ada di sebelah kanan nilai kritis dan kiri -nilai kritis, daerah kritis : z < -1.96 atau z > 1.96\n",
      "5. Hitung nilai uji statistik dari data sample. Hitung p-value sesuai dengan uji statistik yang digunakan.\n",
      "Nilai uji statistik (z) : 0.5636797715721551\n",
      "P-value : 0.5729720864655174\n",
      "6. Keputusan: \n",
      "Berdasarkan uji hipotesis menggunakan nilai z, karena -z_alpha <= z <= alpha, maka hipotesis nol (H0) TIDAK DITOLAK\n",
      "Sehingga didapat kesimpulan bahwa Nilai rata-rata 100 baris pertama kolom Solids sama dengan 21900\n"
     ]
    },
    {
     "data": {
      "image/png": "[encoded data removed]",
      "text/plain": [
       "<Figure size 432x288 with 1 Axes>"
      ]
     },
     "metadata": {
      "needs_background": "light"
     },
     "output_type": "display_data"
    }
   ],
   "source": [
    "print(\"Sampel yang diambil adalah 100 baris pertama.\")\n",
    "print(\"Langkah Uji Hipotesis:\")\n",
    "df1 = df[:100]\n",
    "print(\"1. Menentukan Hipotesis Nol, H0 : mean = 21900\")\n",
    "print(\"2. Menentukan Hipotesis Alternatif, H1 : mean != 21900\")\n",
    "print(\"3. Tingkat signifikansi alpha, dengan alpha = 0.05\")\n",
    "alpha = 0.05\n",
    "print(\"4. Menentukan uji statistik yang sesuai dan Menentukan daerah kritis\")\n",
    "#two tails\n",
    "print(\"Daerah kritis hipotesis alternatif ada di sebelah kanan nilai kritis dan kiri -nilai kritis, daerah kritis : z < -1.96 atau z > 1.96\")\n",
    "print(\"5. Hitung nilai uji statistik dari data sample. Hitung p-value sesuai dengan uji statistik yang digunakan.\")\n",
    "mean = 21900\n",
    "rataan = df1[\"Solids\"].mean()\n",
    "std = df1[\"Solids\"].std()\n",
    "n = df1[\"Solids\"].count()\n",
    "z = z_score(rataan, mean, std, n)\n",
    "z_alpha = p_to_z(1-alpha/2)\n",
    "p = 2*(1-z_to_p(abs(z)))  #dikali dua karena two tails\n",
    "print(\"Nilai uji statistik (z) : \" +str(z))\n",
    "print(\"P-value : \" + str(p))\n",
    "# 6. Ambil keputusan tolak atau terima, berdasarkan uji statistik\n",
    "print(\"6. Keputusan: \")\n",
    "print(\"Berdasarkan uji hipotesis menggunakan nilai z,\", end=' ')\n",
    "if (z < -z_alpha or z > z_alpha) :\n",
    "  print(\"karena z < -z_alpha atau z > z_alpha (berada di daerah kritis), maka hipotesis nol (H0) DITOLAK\")\n",
    "  print(\"Sehingga didapat kesimpulan bahwa Nilai rata-rata 100 baris pertama kolom Solids tidak sama dengan 21900\")\n",
    "else:\n",
    "  print(\"karena -z_alpha <= z <= alpha, maka hipotesis nol (H0) TIDAK DITOLAK\")\n",
    "  print(\"Sehingga didapat kesimpulan bahwa Nilai rata-rata 100 baris pertama kolom Solids sama dengan 21900\")\n",
    "\n",
    "df1.boxplot(column=\"Solids\")\n",
    "plt.show()\n"
   ]
  },
  {
   "cell_type": "markdown",
   "metadata": {},
   "source": [
    "### d. Proporsi nilai Conductivity yang lebih dari 450, adalah tidak sama dengan 10%"
   ]
  },
  {
   "cell_type": "code",
   "execution_count": 51,
   "metadata": {},
   "outputs": [
    {
     "name": "stdout",
     "output_type": "stream",
     "text": [
      "Sampel yang diambil adalah Conductivity dengan nilai lebih dari 450.\n",
      "Langkah Uji Hipotesis:\n",
      "1. Menentukan Hipotesis Nol, H0 : proportion (p) = 0.1\n",
      "2. Menentukan Hipotesis Alternatif, H1 : proportion (p) != 0.1\n",
      "3. Tingkat signifikansi alpha, dengan alpha = 0.05\n",
      "4. Menentukan uji statistik yang sesuai dan Menentukan daerah kritis\n",
      "Daerah kritis hipotesis alternatif ada di sebelah kanan nilai kritis dan kiri -nilai kritis, daerah kritis : z < -1.96 atau z > 1.96\n",
      "5. Hitung nilai uji statistik dari data sample. Hitung p-value sesuai dengan uji statistik yang digunakan.\n",
      "Nilai z : 40.44637613158931\n",
      "p-value : 0.0\n",
      "6. Keputusan: \n",
      "Berdasarkan uji hipotesis menggunakan nilai z, karena z < -z_alpha atau z > z_alpha (berada di daerah kritis), maka hipotesis nol (H0) DITOLAK\n",
      "Sehingga didapat kesimpulan bahwa Proporsi nilai Conductivity yang lebih dari 450, adalah tidak sama dengan 10%\n"
     ]
    },
    {
     "data": {
      "image/png": "[encoded data removed]",
      "text/plain": [
       "<Figure size 432x288 with 1 Axes>"
      ]
     },
     "metadata": {
      "needs_background": "light"
     },
     "output_type": "display_data"
    }
   ],
   "source": [
    "print(\"Sampel yang diambil adalah Conductivity dengan nilai lebih dari 450.\")\n",
    "print(\"Langkah Uji Hipotesis:\")\n",
    "print(\"1. Menentukan Hipotesis Nol, H0 : proportion (p) = 0.1\")\n",
    "print(\"2. Menentukan Hipotesis Alternatif, H1 : proportion (p) != 0.1\")\n",
    "print(\"3. Tingkat signifikansi alpha, dengan alpha = 0.05\")\n",
    "alpha = 0.05\n",
    "print(\"4. Menentukan uji statistik yang sesuai dan Menentukan daerah kritis\")\n",
    "#two tails\n",
    "print(\"Daerah kritis hipotesis alternatif ada di sebelah kanan nilai kritis dan kiri -nilai kritis, daerah kritis : z < -1.96 atau z > 1.96\")\n",
    "print(\"5. Hitung nilai uji statistik dari data sample. Hitung p-value sesuai dengan uji statistik yang digunakan.\")\n",
    "df1 = df['Conductivity'].loc[df['Conductivity'] > 450]\n",
    "p0 = 0.1\n",
    "q0 = 1 - p0\n",
    "z_alpha = p_to_z(1 - alpha/2)\n",
    "n = df['Conductivity'].count()\n",
    "x = df1.count()\n",
    "p1 = x/n\n",
    "\n",
    "z = (p1-p0) * math.sqrt(n)/ math.sqrt(p0*q0)\n",
    "p = 2*(1- z_to_p(abs(z)))\n",
    "\n",
    "print(\"Nilai z : \" + str(z))\n",
    "print(\"p-value : \" + str(p))\n",
    "\n",
    "# 6. Ambil keputusan tolak atau terima, berdasarkan uji statistik\n",
    "print(\"6. Keputusan: \")\n",
    "print(\"Berdasarkan uji hipotesis menggunakan nilai z,\", end=' ')\n",
    "if (z < -z_alpha or z > z_alpha) :\n",
    "  print(\"karena z < -z_alpha atau z > z_alpha (berada di daerah kritis), maka hipotesis nol (H0) DITOLAK\")\n",
    "  print(\"Sehingga didapat kesimpulan bahwa Proporsi nilai Conductivity yang lebih dari 450, adalah tidak sama dengan 10%\")\n",
    "else:\n",
    "  print(\"karena -z_alpha <= z <= alpha, maka hipotesis nol (H0) TIDAK DITOLAK\")\n",
    "  print(\"Sehingga didapat kesimpulan bahwa Proporsi nilai Conductivity yang lebih dari 450, adalah sama dengan 10%\")\n",
    "\n",
    "df1.plot.box()\n",
    "plt.show()"
   ]
  },
  {
   "cell_type": "markdown",
   "metadata": {},
   "source": [
    "### e. Proporsi nilai Trihalomethanes yang kurang dari 40, adalah kurang dari 5%"
   ]
  },
  {
   "cell_type": "code",
   "execution_count": 52,
   "metadata": {},
   "outputs": [
    {
     "name": "stdout",
     "output_type": "stream",
     "text": [
      "Sampel yang diambil adalah Trihalomethanes yang nilainya kurang dari 40.\n",
      "Langkah Uji Hipotesis:\n",
      "1. Menentukan Hipotesis Nol, H0 : proportion (p) = 0.05\n",
      "2. Menentukan Hipotesis Alternatif, H1 : proportion (p) < 0.05\n",
      "3. Tingkat signifikansi alpha, dengan alpha = 0.05\n",
      "4. Menentukan uji statistik yang sesuai dan Menentukan daerah kritis\n",
      "Daerah kritis hipotesis alternatif ada di sebelah kiri -nilai kritis, daerah kritis : z < -1.645\n",
      "5. Hitung nilai uji statistik dari data sample. Hitung p-value sesuai dengan uji statistik yang digunakan.\n",
      "Nilai z : 0.5628826416670951\n",
      "p-value : 0.7132425995092371\n",
      "6. Keputusan: \n",
      "Berdasarkan uji hipotesis menggunakan nilai z, karena -z_alpha <= z, maka hipotesis nol (H0) TIDAK DITOLAK\n",
      "Sehingga didapat kesimpulan bahwa Proporsi nilai Trihalomethanes yang kurang dari 40, adalah tidak kurang dari 5%\n"
     ]
    },
    {
     "data": {
      "image/png": "[encoded data removed]",
      "text/plain": [
       "<Figure size 432x288 with 1 Axes>"
      ]
     },
     "metadata": {
      "needs_background": "light"
     },
     "output_type": "display_data"
    }
   ],
   "source": [
    "print(\"Sampel yang diambil adalah Trihalomethanes yang nilainya kurang dari 40.\")\n",
    "print(\"Langkah Uji Hipotesis:\")\n",
    "print(\"1. Menentukan Hipotesis Nol, H0 : proportion (p) = 0.05\")\n",
    "print(\"2. Menentukan Hipotesis Alternatif, H1 : proportion (p) < 0.05\")\n",
    "print(\"3. Tingkat signifikansi alpha, dengan alpha = 0.05\")\n",
    "alpha = 0.05\n",
    "print(\"4. Menentukan uji statistik yang sesuai dan Menentukan daerah kritis\")\n",
    "#one tails\n",
    "print(\"Daerah kritis hipotesis alternatif ada di sebelah kiri -nilai kritis, daerah kritis : z < -1.645\")\n",
    "print(\"5. Hitung nilai uji statistik dari data sample. Hitung p-value sesuai dengan uji statistik yang digunakan.\")\n",
    "df1 = df['Trihalomethanes'].loc[df['Trihalomethanes'] < 40]\n",
    "p0 = 0.05\n",
    "q0 = 1 - p0\n",
    "z_alpha = p_to_z(1 - alpha)\n",
    "n = df['Trihalomethanes'].count()\n",
    "x = df1.count()\n",
    "p1 = x/n\n",
    "\n",
    "z = (p1-p0) * math.sqrt(n)/ math.sqrt(p0*q0)\n",
    "p = z_to_p(z)\n",
    "\n",
    "print(\"Nilai z : \" + str(z))\n",
    "print(\"p-value : \" + str(p))\n",
    "\n",
    "# 6. Ambil keputusan tolak atau terima, berdasarkan uji statistik\n",
    "print(\"6. Keputusan: \")\n",
    "print(\"Berdasarkan uji hipotesis menggunakan nilai z,\", end=' ')\n",
    "if (z < -z_alpha) :\n",
    "  print(\"karena z < -z_alpha (berada di daerah kritis), maka hipotesis nol (H0) DITOLAK\")\n",
    "  print(\"Sehingga didapat kesimpulan bahwa Proporsi nilai Trihalomethanes yang kurang dari 40, adalah kurang dari 5%\")\n",
    "else:\n",
    "  print(\"karena -z_alpha <= z, maka hipotesis nol (H0) TIDAK DITOLAK\")\n",
    "  print(\"Sehingga didapat kesimpulan bahwa Proporsi nilai Trihalomethanes yang kurang dari 40, adalah tidak kurang dari 5%\")\n",
    "\n",
    "df1.plot.box()\n",
    "plt.show()"
   ]
  },
  {
   "cell_type": "markdown",
   "metadata": {},
   "source": [
    "## Soal No. 5\n",
    "### Melakukan test hipotesis 2 sampel, dengan menuliskan 6 langkah testing dan menampilkan juga boxplotnya untuk kolom/bagian yang bersesuaian."
   ]
  },
  {
   "cell_type": "code",
   "execution_count": 2,
   "metadata": {},
   "outputs": [],
   "source": [
    "import pandas as pd\n",
    "import matplotlib.pyplot as plt\n",
    "from scipy import stats\n",
    "import math\n",
    "from statsmodels.stats import weightstats as stests"
   ]
  },
  {
   "cell_type": "markdown",
   "metadata": {},
   "source": [
    "### a. Data kolom Sulfate dibagi 2 sama rata: bagian awal dan bagian akhir kolom. Benarkah rata-rata kedua bagian tersebut sama?"
   ]
  },
  {
   "cell_type": "code",
   "execution_count": 3,
   "metadata": {},
   "outputs": [
    {
     "data": {
      "image/png": "[encoded data removed]",
      "text/plain": [
       "<Figure size 432x288 with 1 Axes>"
      ]
     },
     "metadata": {
      "needs_background": "light"
     },
     "output_type": "display_data"
    }
   ],
   "source": [
    "df = pd.read_csv(\"water_potability.csv\", names=[\"id\", \"pH\",\"Hardness\",\"Solids\",\"Chloromines\",\"Sulfate\",\"Conductivity\",\"OrganicCarbon\",\"Trihalometanes\",\"Turbidity\",\"Potability\"])\n",
    "\n",
    "ax = df.loc[:1004].boxplot([\"Sulfate\"])\n",
    "ax.set_title(\"Boxplot P1\")\n",
    "plt.show()\n"
   ]
  },
  {
   "cell_type": "code",
   "execution_count": 4,
   "metadata": {},
   "outputs": [
    {
     "data": {
      "image/png": "[encoded data removed]",
      "text/plain": [
       "<Figure size 432x288 with 1 Axes>"
      ]
     },
     "metadata": {
      "needs_background": "light"
     },
     "output_type": "display_data"
    }
   ],
   "source": [
    "ax = df.loc[1005:].boxplot([\"Sulfate\"])\n",
    "ax.set_title(\"Boxplot P2\")\n",
    "plt.show()\n"
   ]
  },
  {
   "cell_type": "markdown",
   "metadata": {},
   "source": [
    "Akan ditentukn $H_{0}$ sebagai berikut:\n",
    "$H_{0}$ = $\\mu_{P_1} = \\mu_{P_2}$\n",
    "\n",
    "Hipotesis nol yang ditentukan adalah rata-rata setengah data awal kolom Sulfate sama dengan rata-rata setengah data akhir kolom Sulfate\n",
    "\n",
    "Akan ditentukan hipotesis tandingan $H_{1}$ sebagai berikut:\n",
    "$H_{1}$ = $\\mu_{P_1} \\neq \\mu_{P_2}$\n",
    "\n",
    "Hipotesis tandingan yang ditentukan adalah rata-rata setengah data awal kolom Sulfate tidak sama dengan rata-rata setengah data akhir kolom Sulfate.\n",
    "\n",
    "Artinya, $\\mu_{P_1}$ > $\\mu_{P_2}$ atau $\\mu_{P_1}$ < $\\mu_{P_2}$\n",
    "\n",
    "ditentukan $\\alpha = 0.05$\n",
    "\n",
    "Dilakukan test statistik menggunakan distribusi t. Daerah kritisnya adalah sebagai berikut:\n",
    "$ t < -t_{\\alpha/2}(v) \\quad or \\quad t > t_{\\alpha/2}(v) $\n",
    "\n",
    "Derajat kebebasannya adalah sebagai berikut:  \n",
    "$ v = n_{P_1} + n_{P_2} - 2$  \n",
    "$ v = 1005 + 1005 - 2 = 2008$\n",
    "\n",
    "Akan dicari daerah kritis:\n"
   ]
  },
  {
   "cell_type": "code",
   "execution_count": 5,
   "metadata": {},
   "outputs": [
    {
     "name": "stdout",
     "output_type": "stream",
     "text": [
      "Batas bawah: -1.9611\n",
      "Batas atas: 1.9611\n"
     ]
    }
   ],
   "source": [
    "print(\"Batas bawah:\", round(stats.t.ppf(0.025 , 2008), 4))\n",
    "print(\"Batas atas:\", round(-stats.t.ppf(0.025 , 2008), 4))\n"
   ]
  },
  {
   "cell_type": "markdown",
   "metadata": {},
   "source": [
    "daerah kritisnya adalah $ t < -1.9611 $ atau $ t > 1.9611 $\n",
    "\n",
    "nilai $t$ harus berada di luar daerah kritis agar $H_{0}$ dapat diterima, dengan rumus $t$ adalah:\n",
    "$$\\Large t = \\Large\\frac{(\\bar{X_1} - \\bar{X_2})-(\\mu_1 - \\mu_2)}{\\sqrt{\\Large\\frac{s_1^2}{\\Large n_{1}} + \\Large\\frac{s_2^2}{\\Large n_{2}}}}$$\n",
    "\n",
    "dengan penjelasan sebagai berikut:  \n",
    "$\\bar{X_1}$ : rata-rata sampel $P_1$  \n",
    "$\\bar{X_2}$ : rata-rata sampel $P_2$  \n",
    "$\\mu_1$ : rata-rata populasi $P_1$  \n",
    "$\\mu_2$ : rata-rata populasi $P_2$  \n",
    "$S_1^2$ : variansi sampel $P_1$  \n",
    "$S_2^2$ : variansi sampel $P_2$  \n",
    "\n",
    "dari $H_{0}$ dapat ditentukan sebagai berikut: \n",
    "$\\mu_{P_1} = \\mu_{P_2}$ maka $\\mu_{P_1} - \\mu_{P_2} = 0$.\n",
    "\n",
    "Cari nilai $\\bar{X_1}$, $\\bar{X_2}$, $S_1^2$, dan $S_2^2$\n"
   ]
  },
  {
   "cell_type": "code",
   "execution_count": 6,
   "metadata": {},
   "outputs": [
    {
     "name": "stdout",
     "output_type": "stream",
     "text": [
      "x1: 331.30532950549565\n",
      "x2: 335.11742332488245\n",
      "s1: 1708.3966020772502\n",
      "s2: 1682.7330644425087\n",
      "tvalue: -2.0753\n",
      "pvalue: 0.981\n"
     ]
    }
   ],
   "source": [
    "x1 = df.loc[:1004][\"Sulfate\"].mean()\n",
    "x2 = df.loc[1005:][\"Sulfate\"].mean()\n",
    "s1 = df.loc[:1004][\"Sulfate\"].var()\n",
    "s2 = df.loc[1005:][\"Sulfate\"].var()\n",
    "print(\"x1:\", x1)\n",
    "print(\"x2:\", x2)\n",
    "print(\"s1:\", s1)\n",
    "print(\"s2:\", s2)\n",
    "\n",
    "tvalue = (x1 - x2) / math.sqrt((s1 / 1005) + (s2 / 1005))\n",
    "print(\"tvalue:\", round(tvalue, 4))\n",
    "pvalue = 1 - stats.t.cdf(tvalue, 2008)\n",
    "print(\"pvalue:\", round(pvalue, 4))\n"
   ]
  },
  {
   "cell_type": "markdown",
   "metadata": {},
   "source": [
    "nilai t berada didalam daerah kritis ($-2.0753 < -1.9611$) dan p-value lebih besar dari $\\alpha$ ($0.9755 > 0.05$) maka $H_{0}$ dapat ditolak.\n"
   ]
  },
  {
   "cell_type": "markdown",
   "metadata": {},
   "source": [
    "## b. Data kolom OrganicCarbon dibagi 2 sama rata: bagian awal dan bagian akhir kolom. Benarkah rata-rata bagian awal lebih besar dari pada bagian akhir sebesar 0.15?\n"
   ]
  },
  {
   "cell_type": "code",
   "execution_count": 7,
   "metadata": {},
   "outputs": [
    {
     "data": {
      "image/png": "[encoded data removed]",
      "text/plain": [
       "<Figure size 432x288 with 1 Axes>"
      ]
     },
     "metadata": {
      "needs_background": "light"
     },
     "output_type": "display_data"
    }
   ],
   "source": [
    "ax = df.loc[:1004].boxplot([\"OrganicCarbon\"])\n",
    "ax.set_title(\"Boxplot P1\")\n",
    "plt.show()\n"
   ]
  },
  {
   "cell_type": "code",
   "execution_count": 8,
   "metadata": {},
   "outputs": [
    {
     "data": {
      "image/png": "[encoded data removed]",
      "text/plain": [
       "<Figure size 432x288 with 1 Axes>"
      ]
     },
     "metadata": {
      "needs_background": "light"
     },
     "output_type": "display_data"
    }
   ],
   "source": [
    "ax = df.loc[1005:].boxplot([\"OrganicCarbon\"])\n",
    "ax.set_title(\"Boxplot P2\")\n",
    "plt.show()\n"
   ]
  },
  {
   "cell_type": "markdown",
   "metadata": {},
   "source": [
    "Akan ditentukn $H_{0}$ sebagai berikut:\n",
    "$H_{0}$ = $\\mu_{P_1} = (\\mu_{P_2}$ + 0.15)\n",
    "\n",
    "Hipotesis nol yang ditentukan adalah rata-rata setengah data awal kolom OrganicCarbon sama dengan rata rata setengah data akhir kolom OrganicCarbon ditambah dengan 0.15\n",
    "\n",
    "Akan ditentukan hipotesis tandingan $H_{1}$ sebagai berikut:\n",
    "$H_{1}$ = $\\mu_{P_1} \\neq (\\mu_{P_2}$ + 0.15)\n",
    "\n",
    "Hipotesis tandingan yang ditentukan adalah rata-rata setengah data awal kolom OrganicCarbon tidak sama dengan rata-rata setengah data akhir kolom OrganicCarbon ditambah dengan 0.15.\n",
    "\n",
    "Artinya, $\\mu_{P_1} > (\\mu_{P_2}$ + 0.15) atau $\\mu_{P_1} < (\\mu_{P_2}$ + 0.15)\n",
    "\n",
    "ditentukan $\\alpha = 0.05$\n",
    "\n",
    "Dilakukan test statistik menggunakan distribusi t. Daerah kritisnya adalah sebagai berikut:\n",
    "$ t < -t_{\\alpha/2}(v) \\quad or \\quad t > t_{\\alpha/2}(v) $\n",
    "\n",
    "Derajat kebebasannya adalah sebagai berikut:  \n",
    "$ v = n_{P_1} + n_{P_2} - 2$  \n",
    "$ v = 1005 + 1005 - 2 = 2008$\n",
    "\n",
    "Akan dicari daerah kritis:\n"
   ]
  },
  {
   "cell_type": "code",
   "execution_count": 9,
   "metadata": {},
   "outputs": [
    {
     "name": "stdout",
     "output_type": "stream",
     "text": [
      "Batas bawah: -1.9611\n",
      "Batas atas: 1.9611\n"
     ]
    }
   ],
   "source": [
    "print(\"Batas bawah:\", round(stats.t.ppf(0.025 , 2008), 4))\n",
    "print(\"Batas atas:\", round(-stats.t.ppf(0.025 , 2008), 4))\n"
   ]
  },
  {
   "cell_type": "markdown",
   "metadata": {},
   "source": [
    "daerah kritisnya adalah $ t < -1.9611 $ atau $ t > 1.9611 $\n",
    "\n",
    "nilai $t$ harus berada di luar daerah kritis agar $H_{0}$ dapat diterima, dengan rumus $t$ adalah:\n",
    "$$\\Large t = \\Large\\frac{(\\bar{X_1} - \\bar{X_2})-(\\mu_1 - \\mu_2)}{\\sqrt{\\Large\\frac{s_1^2}{\\Large n_{1}} + \\Large\\frac{s_2^2}{\\Large n_{2}}}}$$\n",
    "\n",
    "dengan penjelasan sebagai berikut:  \n",
    "$\\bar{X_1}$ : rata-rata sampel $P_1$  \n",
    "$\\bar{X_2}$ : rata-rata sampel $P_2$  \n",
    "$\\mu_1$ : rata-rata populasi $P_1$  \n",
    "$\\mu_2$ : rata-rata populasi $P_2$  \n",
    "$S_1^2$ : variansi sampel $P_1$  \n",
    "$S_2^2$ : variansi sampel $P_2$  \n",
    "\n",
    "dari $H_{0}$ dapat ditentukan sebagai berikut: \n",
    "$\\mu_{P_1} = \\mu_{P_2}$ maka $\\mu_{P_1} - \\mu_{P_2} = 0$.\n",
    "\n",
    "Cari nilai $\\bar{X_1}$, $\\bar{X_2}$, $S_1^2$, dan $S_2^2$\n"
   ]
  },
  {
   "cell_type": "code",
   "execution_count": 10,
   "metadata": {},
   "outputs": [
    {
     "name": "stdout",
     "output_type": "stream",
     "text": [
      "x1: 14.253972723723393\n",
      "x2: 14.461907080372756\n",
      "s1: 11.230287224380323\n",
      "s2: 10.880581782847479\n",
      "t-value: -1.4019\n",
      "p-value: 0.9194\n"
     ]
    }
   ],
   "source": [
    "x1 = df.loc[:1004][\"OrganicCarbon\"].mean()\n",
    "x2 = df.loc[1005:][\"OrganicCarbon\"].mean()\n",
    "s1 = df.loc[:1004][\"OrganicCarbon\"].var()\n",
    "s2 = df.loc[1005:][\"OrganicCarbon\"].var()\n",
    "print(\"x1:\", x1)\n",
    "print(\"x2:\", x2)\n",
    "print(\"s1:\", s1)\n",
    "print(\"s2:\", s2)\n",
    "\n",
    "tvalue = (x1 - x2) / math.sqrt((s1 / 1005) + (s2 / 1005))\n",
    "print(\"t-value:\", round(tvalue, 4))\n",
    "pvalue = 1 - stats.t.cdf(tvalue, 2008)\n",
    "print(\"p-value:\", round(pvalue, 4))\n"
   ]
  },
  {
   "cell_type": "markdown",
   "metadata": {},
   "source": [
    "nilai t  berada diluar daerah kritis ($-1.4019 > -1.9611$) dan p-value lebih besar dari $\\alpha$ ($0.9194 > 0.05$) maka $H_{0}$ diterima."
   ]
  },
  {
   "cell_type": "markdown",
   "metadata": {},
   "source": [
    "## c. Rata-rata 100 baris pertama kolom Chloromines sama dengan 100 baris terakhirnya?\n"
   ]
  },
  {
   "cell_type": "code",
   "execution_count": 11,
   "metadata": {},
   "outputs": [
    {
     "data": {
      "image/png": "[encoded data removed]",
      "text/plain": [
       "<Figure size 432x288 with 1 Axes>"
      ]
     },
     "metadata": {
      "needs_background": "light"
     },
     "output_type": "display_data"
    }
   ],
   "source": [
    "ax = df.loc[:99].boxplot([\"Chloromines\"])\n",
    "ax.set_title(\"Boxplot P1\")\n",
    "plt.show()\n"
   ]
  },
  {
   "cell_type": "code",
   "execution_count": 12,
   "metadata": {},
   "outputs": [
    {
     "data": {
      "image/png": "[encoded data removed]",
      "text/plain": [
       "<Figure size 432x288 with 1 Axes>"
      ]
     },
     "metadata": {
      "needs_background": "light"
     },
     "output_type": "display_data"
    }
   ],
   "source": [
    "ax = df.loc[1910:].boxplot([\"Chloromines\"])\n",
    "ax.set_title(\"Boxplot P2\")\n",
    "plt.show()\n"
   ]
  },
  {
   "cell_type": "markdown",
   "metadata": {},
   "source": [
    "Akan ditentukn $H_{0}$ sebagai berikut:\n",
    "$H_{0}$ = $\\mu_{P_1} = \\mu_{P_2}$\n",
    "\n",
    "Hipotesis nol yang ditentukan adalah rata-rata setengah data awal kolom Sulfate sama dengan rata-rata setengah data akhir kolom Sulfate\n",
    "\n",
    "Akan ditentukan hipotesis tandingan $H_{1}$ sebagai berikut:\n",
    "$H_{1}$ = $\\mu_{P_1} \\neq \\mu_{P_2}$\n",
    "\n",
    "Hipotesis tandingan yang ditentukan adalah rata-rata setengah data awal kolom Sulfate tidak sama dengan rata-rata setengah data akhir kolom Sulfate.\n",
    "\n",
    "Artinya, $\\mu_{P_1}$ > $\\mu_{P_2}$ atau $\\mu_{P_1}$ < $\\mu_{P_2}$\n",
    "\n",
    "ditentukan $\\alpha = 0.05$\n",
    "\n",
    "Dilakukan test statistik menggunakan distribusi t. Daerah kritisnya adalah sebagai berikut:\n",
    "$ t < -t_{\\alpha/2}(v) \\quad atau \\quad t > t_{\\alpha/2}(v) $\n",
    "\n",
    "Derajat kebebasannya adalah sebagai berikut:  \n",
    "$ v = n_{P_1} + n_{P_2} - 2$  \n",
    "$ v = 100 + 100 - 2 = 198$\n",
    "\n",
    "Akan dicari daerah kritis:\n"
   ]
  },
  {
   "cell_type": "code",
   "execution_count": 13,
   "metadata": {},
   "outputs": [
    {
     "name": "stdout",
     "output_type": "stream",
     "text": [
      "Batas bawah: -1.972\n",
      "Batas atas: 1.972\n"
     ]
    }
   ],
   "source": [
    "print(\"Batas bawah:\", round(stats.t.ppf(0.025 , 198), 4))\n",
    "print(\"Batas atas:\", round(-stats.t.ppf(0.025 , 198), 4))\n"
   ]
  },
  {
   "cell_type": "markdown",
   "metadata": {},
   "source": [
    "daerah kritisnya adalah $ t < -1.972 $ atau $ t > 1.972 $\n",
    "\n",
    "nilai $t$ harus berada di luar daerah kritis agar $H_{0}$ dapat diterima, dengan rumus $t$ adalah:\n",
    "$$\\Large t = \\Large\\frac{(\\bar{X_1} - \\bar{X_2})-(\\mu_1 - \\mu_2)}{\\sqrt{\\Large\\frac{s_1^2}{\\Large n_{1}} + \\Large\\frac{s_2^2}{\\Large n_{2}}}}$$\n",
    "\n",
    "dengan penjelasan sebagai berikut:  \n",
    "$\\bar{X_1}$ : rata-rata sampel $P_1$  \n",
    "$\\bar{X_2}$ : rata-rata sampel $P_2$  \n",
    "$\\mu_1$ : rata-rata populasi $P_1$  \n",
    "$\\mu_2$ : rata-rata populasi $P_2$  \n",
    "$S_1^2$ : variansi sampel $P_1$  \n",
    "$S_2^2$ : variansi sampel $P_2$  \n",
    "\n",
    "dari $H_{0}$ dapat ditentukan sebagai berikut: \n",
    "$\\mu_{P_1} = \\mu_{P_2}$ maka $\\mu_{P_1} - \\mu_{P_2} = 0$.\n",
    "\n",
    "Cari nilai $\\bar{X_1}$, $\\bar{X_2}$, $S_1^2$, dan $S_2^2$\n"
   ]
  },
  {
   "cell_type": "code",
   "execution_count": 14,
   "metadata": {},
   "outputs": [
    {
     "name": "stdout",
     "output_type": "stream",
     "text": [
      "x1: 7.1063878760058055\n",
      "x2: 7.162256813194402\n",
      "s1: 2.6683775496119977\n",
      "s2: 2.3583705937053314\n",
      "t-value: -0.79\n",
      "p-value: 0.7852\n"
     ]
    }
   ],
   "source": [
    "x1 = df.loc[:1004][\"Chloromines\"].mean()\n",
    "x2 = df.loc[1005:][\"Chloromines\"].mean()\n",
    "s1 = df.loc[:1004][\"Chloromines\"].var()\n",
    "s2 = df.loc[1005:][\"Chloromines\"].var()\n",
    "print(\"x1:\", x1)\n",
    "print(\"x2:\", x2)\n",
    "print(\"s1:\", s1)\n",
    "print(\"s2:\", s2)\n",
    "\n",
    "tvalue = (x1 - x2) / math.sqrt((s1 / 1005) + (s2 / 1005))\n",
    "print(\"t-value:\", round(tvalue, 4))\n",
    "pvalue = 1 - stats.t.cdf(tvalue, 2008)\n",
    "print(\"p-value:\", round(pvalue, 4))\n"
   ]
  },
  {
   "cell_type": "markdown",
   "metadata": {},
   "source": [
    "nilai t  berada diluar daerah kritis ($-0.79 < 1.972$) dan p-value lebih besar dari $\\alpha$ ($0.7852 > 0.05$) maka $H_{0}$ diterima.\n"
   ]
  },
  {
   "cell_type": "markdown",
   "metadata": {},
   "source": [
    "## d.Proporsi nilai bagian awal Turbidity yang lebih dari 4, adalah lebih besar daripada, proporsi nilai yang sama di bagian akhir Turbidity ?\n"
   ]
  },
  {
   "cell_type": "code",
   "execution_count": 15,
   "metadata": {},
   "outputs": [
    {
     "data": {
      "image/png": "[encoded data removed]",
      "text/plain": [
       "<Figure size 432x288 with 1 Axes>"
      ]
     },
     "metadata": {
      "needs_background": "light"
     },
     "output_type": "display_data"
    }
   ],
   "source": [
    "ax = df.loc[:1004].boxplot([\"Turbidity\"])\n",
    "ax.set_title(\"Boxplot P1\")\n",
    "plt.show()\n"
   ]
  },
  {
   "cell_type": "code",
   "execution_count": 16,
   "metadata": {},
   "outputs": [
    {
     "data": {
      "image/png": "[encoded data removed]",
      "text/plain": [
       "<Figure size 432x288 with 1 Axes>"
      ]
     },
     "metadata": {
      "needs_background": "light"
     },
     "output_type": "display_data"
    }
   ],
   "source": [
    "ax = df.loc[1005:].boxplot([\"Turbidity\"])\n",
    "ax.set_title(\"Boxplot P2\")\n",
    "plt.show()\n"
   ]
  },
  {
   "cell_type": "markdown",
   "metadata": {},
   "source": [
    "Akan ditentukan $H_{0}$ sebagai berikut:\n",
    "$H_{0} : P(X_1 > 2) = P(X_2 > 2 )$\n",
    "\n",
    "Hipotesis nol yang ditentukan adalah proporsi nilai bagian awal Turbidity yang lebih dari 4, adalah lebih besar daripada proporsi nilai yang sama di bagian akhir Turbidity\n",
    "\n",
    "Akan ditentukan hipotesis tandingan $H_{1}$ sebagai berikut:\n",
    "$H_{1} : P(X_1 >2) = P(X_2 > 2)$\n",
    "\n",
    "\n",
    "ditentukan $\\alpha = 0.05$\n",
    "\n",
    "Dilakukan test statistik menggunakan Z-test. Nilai kritisnya adalah sebagai berikut:\n",
    "$z > z_{\\alpha}$\n",
    "\n",
    "Akan dicari daerah kritis:\n"
   ]
  },
  {
   "cell_type": "code",
   "execution_count": 17,
   "metadata": {},
   "outputs": [
    {
     "name": "stdout",
     "output_type": "stream",
     "text": [
      "nilai kritis: 1.6449\n"
     ]
    }
   ],
   "source": [
    "z = stats.norm.ppf(1-0.05)\n",
    "print(\"nilai kritis:\", round(z, 4))\n"
   ]
  },
  {
   "cell_type": "markdown",
   "metadata": {},
   "source": [
    "nilai kritisnya adalah $z > 1.6449$\n",
    "\n",
    "nilai $z$ harus berada di luar daerah kritis agar $H_0$ dapat diterima.\n",
    "\n",
    "diberikan rumus $z$ sebagai berikut:\n",
    "\n",
    "$$\\Large z = \\frac{(\\hat{p}_1 - \\hat{p}_2)}{\\sqrt{\\hat p\\hat q(\\frac{1}{n_1} + \\frac{1}{n_2})}}$$\n",
    "\n",
    "$$\\Large{\\hat p} = \\Large\\frac{x_1 + x_2}{n_1 + n_2}$$\n",
    "\n",
    "$\\hat{p}_1$ : proporsi sampel $X_1$  \n",
    "$\\hat{p}_2$ : proporsi sampel $X_2$  \n",
    "$\\hat p$ : proporsi kedua sampel  \n",
    "$x_1$ : jumlah data $X_1$ dengan nilai lebih dari 2  \n",
    "$x_2$ : jumlah data $X_2$ dengan nilai lebih dari 2  \n",
    "$n_1$ : jumlah keseluruhan data $X_1$  \n",
    "$n_2$ : jumlah keseluruhan data $X_2$  \n",
    "\n",
    "$n_1 = n_2 = 1005$\n",
    "\n",
    "akan dihitung nilai dari $x_1 , x_2 , \\hat{p} , \\hat{p_1} , \\hat{p_2}$ sebagai berikut:\n"
   ]
  },
  {
   "cell_type": "code",
   "execution_count": 18,
   "metadata": {},
   "outputs": [
    {
     "name": "stdout",
     "output_type": "stream",
     "text": [
      "x1 : 486\n",
      "x2 : 489\n",
      "p1 : 0.4836\n",
      "p2 : 0.4866\n",
      "p : 0.4851\n"
     ]
    }
   ],
   "source": [
    "\n",
    "head = df.loc[:1004,\"Turbidity\"]\n",
    "x1 = 0\n",
    "for x in head:\n",
    "    if x > 4:\n",
    "        x1+=1\n",
    "\n",
    "tail = df.loc[1005:,\"Turbidity\"]\n",
    "x2 = 0\n",
    "for x in tail:\n",
    "    if x> 4:\n",
    "        x2+=1\n",
    "\n",
    "print(\"x1 :\", x1)\n",
    "print(\"x2 :\", x2)\n",
    "\n",
    "p1 = x1/1005\n",
    "p2 = x2/1005\n",
    "p = (x1+x2) / 2010\n",
    "print(\"p1 :\", round(p1, 4))\n",
    "print(\"p2 :\", round(p2, 4))\n",
    "print(\"p :\", round(p, 4))\n"
   ]
  },
  {
   "cell_type": "markdown",
   "metadata": {},
   "source": [
    "akan dicari nilai $z$ dan $p$-value sebagai berikut:\n"
   ]
  },
  {
   "cell_type": "code",
   "execution_count": 19,
   "metadata": {},
   "outputs": [
    {
     "name": "stdout",
     "output_type": "stream",
     "text": [
      "nilai z:  -0.1339\n",
      "p-value:  0.5533\n"
     ]
    }
   ],
   "source": [
    "z = (p1-p2) / math.sqrt(p*(1-p) * (1/1005 + 1/1005))\n",
    "p = 1- stats.norm.cdf(z)\n",
    "print(\"nilai z: \", round(z, 4))\n",
    "print(\"p-value: \", round(p, 4))\n"
   ]
  },
  {
   "cell_type": "markdown",
   "metadata": {},
   "source": [
    "nilai $z$ yang didapat berada diluar daerah kritis (-0.1339 < 1.6449) dan p-value nya lebih besar dari $\\alpha$ ( 0.5533> 0.05) maka $H_{0}$ diterima.\n"
   ]
  },
  {
   "cell_type": "markdown",
   "metadata": {},
   "source": [
    "## e. Bagian awal kolom Sulfate mimiliki variansi yang sama dengan bagian akhirnya?\n"
   ]
  },
  {
   "cell_type": "code",
   "execution_count": 20,
   "metadata": {},
   "outputs": [
    {
     "data": {
      "image/png": "[encoded data removed]",
      "text/plain": [
       "<Figure size 432x288 with 1 Axes>"
      ]
     },
     "metadata": {
      "needs_background": "light"
     },
     "output_type": "display_data"
    }
   ],
   "source": [
    "ax = df.loc[:1004].boxplot([\"Sulfate\"])\n",
    "ax.set_title(\"Boxplot P1\")\n",
    "plt.show()\n"
   ]
  },
  {
   "cell_type": "code",
   "execution_count": 21,
   "metadata": {},
   "outputs": [
    {
     "data": {
      "image/png": "[encoded data removed]",
      "text/plain": [
       "<Figure size 432x288 with 1 Axes>"
      ]
     },
     "metadata": {
      "needs_background": "light"
     },
     "output_type": "display_data"
    }
   ],
   "source": [
    "ax = df.loc[1005:].boxplot([\"Turbidity\"])\n",
    "ax.set_title(\"Boxplot P1\")\n",
    "plt.show()\n"
   ]
  },
  {
   "cell_type": "markdown",
   "metadata": {},
   "source": [
    "Akan ditentukan $H_{0}$ sebagai berikut:\n",
    "$H_{0}$ : $\\sigma^2_{P_1} = \\sigma^2_{P_2}$\n",
    "\n",
    "Hipotesis nol yang ditentukan adalah bagian awal kolom Sulfate yang memiliki variansi yang sama dengan bagian akhirnya\n",
    "\n",
    "Akan ditentukan hipotesis tandingan $H_{1}$ sebagai berikut:\n",
    "$H_{1}$ : $\\sigma^2_{P_1} \\neq \\sigma^2_{P_2}$\n",
    "\n",
    "Hipotesis tandingan yang ditentukan adalah bagian awal kolom Sulfate memiliki variansi yang berbeda dengan bagian akhirnya. Bisa jadi lebih kecil atau lebih besar\n",
    "\n",
    "ditentukan $\\alpha = 0.05$\n",
    "\n",
    "Dilakukan test statistik menggunakan distribusi F. Nilai kritisnya adalah sebagai berikut:  \n",
    "$ f < f_{1-\\alpha/2}(v_1, v_2) \\quad or \\quad f > f_{\\alpha/2}(v_1, v_2)$\n",
    "\n",
    "$v_1 = $ derajat kebebasan $P_1 = n_{P_1} - 1$   \n",
    "$v_2 = $ derajat kebebasan $P_2 = n_{P_2} - 1$  \n",
    "Hitung $v_1$ dan $v_2$  \n",
    "$n_{A_1} = 1005$, $n_{A_2} = 1005$  \n",
    "$v_1 = v_2 = 1005 - 1 = 1004$\n",
    "\n",
    "Akan dicari daerah kritis:\n"
   ]
  },
  {
   "cell_type": "code",
   "execution_count": 22,
   "metadata": {},
   "outputs": [
    {
     "name": "stdout",
     "output_type": "stream",
     "text": [
      "Batas atas =  1.1318\n",
      "Batas atas =  0.8836\n"
     ]
    }
   ],
   "source": [
    "batas_atas = stats.f.ppf(1-0.025, 1004, 1004)\n",
    "print(\"Batas atas = \", round(batas_atas, 4))\n",
    "batas_bawah = stats.f.ppf(0.025, 1004, 1004)\n",
    "print(\"Batas atas = \", round(batas_bawah, 4))\n"
   ]
  },
  {
   "cell_type": "markdown",
   "metadata": {},
   "source": [
    "Daerah kritis yang dihasilkan adalah $f < 0.8836$ atau $f > 1.1318$\n",
    "\n",
    "Agar $H_0$ dapat diterima, nilai $f$ harus berada di luar daerah kritis.\n",
    "rumus $f$ = $\\frac{S_2^2}{S_1^2}$\n",
    "\n",
    "Akan dicari ${S_1^2} , {S_2^2} , f$, dan $p$-value sebagai berikut:\n"
   ]
  },
  {
   "cell_type": "code",
   "execution_count": 23,
   "metadata": {},
   "outputs": [
    {
     "name": "stdout",
     "output_type": "stream",
     "text": [
      "Variance 1:  1708.3966\n",
      "Variance 2:  1682.7331\n",
      "Nilai f:  1.0153\n",
      "p-value:  0.5947\n"
     ]
    }
   ],
   "source": [
    "v1 = df.loc[:1004][\"Sulfate\"].var()\n",
    "v2 = df.loc[1005:][\"Sulfate\"].var()\n",
    "f = v1/v2\n",
    "p = stats.f.cdf(f, 1004, 1004)\n",
    "print(\"Variance 1: \", round(v1, 4))\n",
    "print(\"Variance 2: \", round(v2, 4))\n",
    "print(\"Nilai f: \", round(f, 4))\n",
    "print(\"p-value: \", round(p, 4))"
   ]
  },
  {
   "cell_type": "markdown",
   "metadata": {},
   "source": [
    "nilai $f$ yang didapat berada diluar daerah kritis yaitu $1.0153 > 0.8836$ dan $1.0153 < 1.1318$ dan p-value nya lebih besar dari $\\alpha$ ( 0.5947> 0.05) maka $H_{0}$ diterima."
   ]
  },
  {
   "cell_type": "markdown",
   "metadata": {},
   "source": [
    "## Soal No. 6 \n",
    "### Test korelasi: tentukan apakah setiap kolom non-target berkorelasi dengan kolom target, dengan menggambarkan juga scatter plot nya. Gunakan correlation test.\n"
   ]
  },
  {
   "cell_type": "code",
   "execution_count": 24,
   "metadata": {},
   "outputs": [],
   "source": [
    "import pandas as pd\n",
    "import matplotlib.pyplot as plt\n",
    "\n",
    "path = '.\\water_potability.csv'\n",
    "# menamakan kolom\n",
    "df = pd.read_csv(path, names=[\"id\", \"pH\", \"Hardness\", \"Solids\", \"Chloromines\", \"Sulfate\", \"Conductivity\", \"OrganicCarbon\", \"Trihalomethanes\", \"Turbidity\", \"Potability\"])\n",
    "def correlation_target(nama) :\n",
    "    df.plot(kind='scatter', x=nama, y=\"Potability\")\n",
    "    plt.show()\n",
    "    a = df[nama]\n",
    "    b = df['Potability']\n",
    "    print(\"Nilai korelasi antara \" + nama + \" dengan Potability: \"+ str (a.corr(b)))\n"
   ]
  },
  {
   "cell_type": "code",
   "execution_count": 25,
   "metadata": {},
   "outputs": [
    {
     "name": "stdout",
     "output_type": "stream",
     "text": [
      "Korelasi antara pH dan Potability:\n"
     ]
    },
    {
     "data": {
      "image/png": "[encoded data removed]",
      "text/plain": [
       "<Figure size 432x288 with 1 Axes>"
      ]
     },
     "metadata": {
      "needs_background": "light"
     },
     "output_type": "display_data"
    },
    {
     "name": "stdout",
     "output_type": "stream",
     "text": [
      "Nilai korelasi antara pH dengan Potability: 0.01547509440843348\n",
      "Nilai korelasi pH dengan Potability begitu kecil, sehingga nilai pH tidak begitu memengaruhi nilai Potability (hampir tidak ada korelasi antara keduanya)\n"
     ]
    }
   ],
   "source": [
    "print(\"Korelasi antara pH dan Potability:\")\n",
    "correlation_target('pH')\n",
    "print(\"Nilai korelasi pH dengan Potability begitu kecil, sehingga nilai pH tidak begitu memengaruhi nilai Potability (hampir tidak ada korelasi antara keduanya)\")\n"
   ]
  },
  {
   "cell_type": "code",
   "execution_count": 26,
   "metadata": {},
   "outputs": [
    {
     "name": "stdout",
     "output_type": "stream",
     "text": [
      "Korelasi antara Hardness dan Potability:\n"
     ]
    },
    {
     "data": {
      "image/png": "[encoded data removed]",
      "text/plain": [
       "<Figure size 432x288 with 1 Axes>"
      ]
     },
     "metadata": {
      "needs_background": "light"
     },
     "output_type": "display_data"
    },
    {
     "name": "stdout",
     "output_type": "stream",
     "text": [
      "Nilai korelasi antara Hardness dengan Potability: -0.0014631528959479344\n",
      "Nilai korelasi Hardness dengan Potability begitu kecil, sehingga nilai Hardness tidak begitu memengaruhi nilai Potability (hampir tidak ada korelasi antara keduanya)\n"
     ]
    }
   ],
   "source": [
    "print(\"Korelasi antara Hardness dan Potability:\")\n",
    "correlation_target('Hardness')\n",
    "print(\"Nilai korelasi Hardness dengan Potability begitu kecil, sehingga nilai Hardness tidak begitu memengaruhi nilai Potability (hampir tidak ada korelasi antara keduanya)\")\n"
   ]
  },
  {
   "cell_type": "code",
   "execution_count": 27,
   "metadata": {},
   "outputs": [
    {
     "name": "stdout",
     "output_type": "stream",
     "text": [
      "Korelasi antara Solids dan Potability:\n"
     ]
    },
    {
     "data": {
      "image/png": "[encoded data removed]",
      "text/plain": [
       "<Figure size 432x288 with 1 Axes>"
      ]
     },
     "metadata": {
      "needs_background": "light"
     },
     "output_type": "display_data"
    },
    {
     "name": "stdout",
     "output_type": "stream",
     "text": [
      "Nilai korelasi antara Solids dengan Potability: 0.03897657818173466\n",
      "Nilai korelasi Solids dengan Potability begitu kecil, sehingga nilai Solids tidak begitu memengaruhi nilai Potability (hampir tidak ada korelasi antara keduanya)\n"
     ]
    }
   ],
   "source": [
    "print(\"Korelasi antara Solids dan Potability:\")\n",
    "correlation_target('Solids')\n",
    "print(\"Nilai korelasi Solids dengan Potability begitu kecil, sehingga nilai Solids tidak begitu memengaruhi nilai Potability (hampir tidak ada korelasi antara keduanya)\")\n"
   ]
  },
  {
   "cell_type": "code",
   "execution_count": 28,
   "metadata": {},
   "outputs": [
    {
     "name": "stdout",
     "output_type": "stream",
     "text": [
      "Korelasi antara Chloromines dan Potability:\n"
     ]
    },
    {
     "data": {
      "image/png": "[encoded data removed]",
      "text/plain": [
       "<Figure size 432x288 with 1 Axes>"
      ]
     },
     "metadata": {
      "needs_background": "light"
     },
     "output_type": "display_data"
    },
    {
     "name": "stdout",
     "output_type": "stream",
     "text": [
      "Nilai korelasi antara Chloromines dengan Potability: 0.02077892184052409\n",
      "Nilai korelasi Chloromines dengan Potability begitu kecil, sehingga nilai Chloromines tidak begitu memengaruhi nilai Potability (hampir tidak ada korelasi antara keduanya)\n"
     ]
    }
   ],
   "source": [
    "print(\"Korelasi antara Chloromines dan Potability:\")\n",
    "correlation_target('Chloromines')\n",
    "print(\"Nilai korelasi Chloromines dengan Potability begitu kecil, sehingga nilai Chloromines tidak begitu memengaruhi nilai Potability (hampir tidak ada korelasi antara keduanya)\")\n"
   ]
  },
  {
   "cell_type": "code",
   "execution_count": 29,
   "metadata": {},
   "outputs": [
    {
     "name": "stdout",
     "output_type": "stream",
     "text": [
      "Korelasi antara Sulfate dan Potability:\n"
     ]
    },
    {
     "data": {
      "image/png": "[encoded data removed]",
      "text/plain": [
       "<Figure size 432x288 with 1 Axes>"
      ]
     },
     "metadata": {
      "needs_background": "light"
     },
     "output_type": "display_data"
    },
    {
     "name": "stdout",
     "output_type": "stream",
     "text": [
      "Nilai korelasi antara Sulfate dengan Potability: -0.015703164419273778\n",
      "Nilai korelasi Sulfate dengan Potability begitu kecil, sehingga nilai Sulfate tidak begitu memengaruhi nilai Potability (hampir tidak ada korelasi antara keduanya)\n"
     ]
    }
   ],
   "source": [
    "print(\"Korelasi antara Sulfate dan Potability:\")\n",
    "correlation_target('Sulfate')\n",
    "print(\"Nilai korelasi Sulfate dengan Potability begitu kecil, sehingga nilai Sulfate tidak begitu memengaruhi nilai Potability (hampir tidak ada korelasi antara keduanya)\")\n"
   ]
  },
  {
   "cell_type": "code",
   "execution_count": 30,
   "metadata": {},
   "outputs": [
    {
     "name": "stdout",
     "output_type": "stream",
     "text": [
      "Korelasi antara Conductivity dan Potability:\n"
     ]
    },
    {
     "data": {
      "image/png": "[encoded data removed]",
      "text/plain": [
       "<Figure size 432x288 with 1 Axes>"
      ]
     },
     "metadata": {
      "needs_background": "light"
     },
     "output_type": "display_data"
    },
    {
     "name": "stdout",
     "output_type": "stream",
     "text": [
      "Nilai korelasi antara Conductivity dengan Potability: -0.016257120111377067\n",
      "Nilai korelasi Conductivity dengan Potability begitu kecil, sehingga nilai Conductivity tidak begitu memengaruhi nilai Potability (hampir tidak ada korelasi antara keduanya)\n"
     ]
    }
   ],
   "source": [
    "print(\"Korelasi antara Conductivity dan Potability:\")\n",
    "correlation_target('Conductivity')\n",
    "print(\"Nilai korelasi Conductivity dengan Potability begitu kecil, sehingga nilai Conductivity tidak begitu memengaruhi nilai Potability (hampir tidak ada korelasi antara keduanya)\")\n"
   ]
  },
  {
   "cell_type": "code",
   "execution_count": 31,
   "metadata": {},
   "outputs": [
    {
     "name": "stdout",
     "output_type": "stream",
     "text": [
      "Korelasi antara OrganicCarbon dan Potability:\n"
     ]
    },
    {
     "data": {
      "image/png": "[encoded data removed]",
      "text/plain": [
       "<Figure size 432x288 with 1 Axes>"
      ]
     },
     "metadata": {
      "needs_background": "light"
     },
     "output_type": "display_data"
    },
    {
     "name": "stdout",
     "output_type": "stream",
     "text": [
      "Nilai korelasi antara OrganicCarbon dengan Potability: -0.015488461910747259\n",
      "Nilai korelasi OrganicCarbon dengan Potability begitu kecil, sehingga nilai OrganicCarbon tidak begitu memengaruhi nilai Potability (hampir tidak ada korelasi antara keduanya)\n"
     ]
    }
   ],
   "source": [
    "print(\"Korelasi antara OrganicCarbon dan Potability:\")\n",
    "correlation_target('OrganicCarbon')\n",
    "print(\"Nilai korelasi OrganicCarbon dengan Potability begitu kecil, sehingga nilai OrganicCarbon tidak begitu memengaruhi nilai Potability (hampir tidak ada korelasi antara keduanya)\")\n"
   ]
  },
  {
   "cell_type": "code",
   "execution_count": 32,
   "metadata": {},
   "outputs": [
    {
     "name": "stdout",
     "output_type": "stream",
     "text": [
      "Korelasi antara Trihalomethanes dan Potability:\n"
     ]
    },
    {
     "data": {
      "image/png": "[encoded data removed]",
      "text/plain": [
       "<Figure size 432x288 with 1 Axes>"
      ]
     },
     "metadata": {
      "needs_background": "light"
     },
     "output_type": "display_data"
    },
    {
     "name": "stdout",
     "output_type": "stream",
     "text": [
      "Nilai korelasi antara Trihalomethanes dengan Potability: 0.009236711064712997\n",
      "Nilai korelasi Trihalomethanes dengan Potability begitu kecil, sehingga nilai Trihalomethanes tidak begitu memengaruhi nilai Potability (hampir tidak ada korelasi antara keduanya)\n"
     ]
    }
   ],
   "source": [
    "print(\"Korelasi antara Trihalomethanes dan Potability:\")\n",
    "correlation_target('Trihalomethanes')\n",
    "print(\"Nilai korelasi Trihalomethanes dengan Potability begitu kecil, sehingga nilai Trihalomethanes tidak begitu memengaruhi nilai Potability (hampir tidak ada korelasi antara keduanya)\")\n"
   ]
  },
  {
   "cell_type": "code",
   "execution_count": 33,
   "metadata": {},
   "outputs": [
    {
     "name": "stdout",
     "output_type": "stream",
     "text": [
      "Korelasi antara Turbidity dan Potability:\n"
     ]
    },
    {
     "data": {
      "image/png": "[encoded data removed]",
      "text/plain": [
       "<Figure size 432x288 with 1 Axes>"
      ]
     },
     "metadata": {
      "needs_background": "light"
     },
     "output_type": "display_data"
    },
    {
     "name": "stdout",
     "output_type": "stream",
     "text": [
      "Nilai korelasi antara Turbidity dengan Potability: 0.022331042640622665\n",
      "Nilai korelasi Turbidity dengan Potability begitu kecil, sehingga nilai Turbidity tidak begitu memengaruhi nilai Potability (hampir tidak ada korelasi antara keduanya)\n"
     ]
    }
   ],
   "source": [
    "print(\"Korelasi antara Turbidity dan Potability:\")\n",
    "correlation_target('Turbidity')\n",
    "print(\"Nilai korelasi Turbidity dengan Potability begitu kecil, sehingga nilai Turbidity tidak begitu memengaruhi nilai Potability (hampir tidak ada korelasi antara keduanya)\")"
   ]
  }
 ],
 "metadata": {
  "interpreter": {
   "hash": "952316e4cf8100a27478111efb2f0cc62014d5c8644deebe2682fbe5d36b1b14"
  },
  "kernelspec": {
   "display_name": "Python 3.9.6 64-bit",
   "language": "python",
   "name": "python3"
  },
  "language_info": {
   "codemirror_mode": {
    "name": "ipython",
    "version": 3
   },
   "file_extension": ".py",
   "mimetype": "text/x-python",
   "name": "python",
   "nbconvert_exporter": "python",
   "pygments_lexer": "ipython3",
   "version": "3.10.0"
  },
  "orig_nbformat": 4
 },
 "nbformat": 4,
 "nbformat_minor": 2
}
